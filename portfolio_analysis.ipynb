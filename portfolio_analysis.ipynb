{
 "cells": [
  {
   "cell_type": "markdown",
   "id": "ae03d678-9329-4762-98bd-96581a1b498e",
   "metadata": {},
   "source": [
    "<h1 style=\"color: #FF8C00;\">Portfolio Analysis: Python Challenge</h1>\n",
    "\n",
    "---\n",
    "\n",
    "**This challenge** represents a practical tech assignment designed to test skills in portfolio analysis. Portfolio analysis is a systematic way to evaluate investment portfolios to optimize asset allocation and management. It involves a variety of financial metrics and visualizations to assess the performance and risk of different financial assets.\n",
    "\n",
    "- In this exercise, it will be required to perform a series of calculations and create visualizations to analyze a set of financial assets.\n",
    "- The task is to develop the necessary code to accomplish each of these tasks effectively.\n",
    "- This challenge is an opportunity to demonstrate ability to apply Python programming skills in a real-world financial context."
   ]
  },
  {
   "cell_type": "markdown",
   "id": "ec4398b3-0766-46ba-9ef8-7cedbe659446",
   "metadata": {},
   "source": [
    "<h1 style=\"color: #FF8C00;\">00 | Libraries</h1>\n",
    "\n",
    "---\n",
    "\n",
    "Import all the libraries needed to complete tasks in this challenge."
   ]
  },
  {
   "cell_type": "code",
   "execution_count": 150,
   "id": "df36d2e7-5307-40d0-85e6-6e7406e90920",
   "metadata": {},
   "outputs": [],
   "source": [
    "import numpy as np # For numerical computing in Python\n",
    "import pandas as pd # For data structuring, manipulation and analysis in Python\n",
    "import matplotlib.pyplot as plt # To create visualizations in Python\n",
    "import matplotlib.dates as mdates # For date-related functionalities in MatPlotLib\n",
    "import seaborn as sns # For data visualization in high-level interface\n",
    "import plotly.express as px # High-level interface for interactive visualization in Python\n",
    "\n",
    "import warnings\n",
    "warnings.filterwarnings('ignore') # For cleaner output"
   ]
  },
  {
   "cell_type": "markdown",
   "id": "9e17be02-76b2-4053-8f6b-f7da5d1d36ff",
   "metadata": {},
   "source": [
    "<h1 style=\"color: #FF8C00;\">Exercise 1: Data Loading and Price Charting</h1>\n",
    "\n",
    "The task is to load and analyze financial data, which is fundamental for effective portfolio management."
   ]
  },
  {
   "cell_type": "markdown",
   "id": "b322c29f-aa75-4d29-bd82-23e463f0b7cf",
   "metadata": {},
   "source": [
    "## 01 | Data Extraction\n",
    "\n",
    "---\n",
    "\n",
    "Begin by loading the file named `asset_price_data.csv`, containing essential pricing information for various financial assets."
   ]
  },
  {
   "cell_type": "code",
   "execution_count": 46,
   "id": "6539b336-43b9-45b6-af48-6f8480b22207",
   "metadata": {},
   "outputs": [],
   "source": [
    "draft = pd.read_csv('asset_price_data.csv')\n",
    "data = pd.DataFrame(draft)"
   ]
  },
  {
   "cell_type": "markdown",
   "id": "c50116d7-b53d-4da5-bd06-c7a284af6586",
   "metadata": {},
   "source": [
    "01.01 | Data Exploration (first impressions)"
   ]
  },
  {
   "cell_type": "code",
   "execution_count": 14,
   "id": "a5b5c384-dcb3-4c3b-b8cc-83f7245eff62",
   "metadata": {},
   "outputs": [
    {
     "data": {
      "text/html": [
       "<div>\n",
       "<style scoped>\n",
       "    .dataframe tbody tr th:only-of-type {\n",
       "        vertical-align: middle;\n",
       "    }\n",
       "\n",
       "    .dataframe tbody tr th {\n",
       "        vertical-align: top;\n",
       "    }\n",
       "\n",
       "    .dataframe thead th {\n",
       "        text-align: right;\n",
       "    }\n",
       "</style>\n",
       "<table border=\"1\" class=\"dataframe\">\n",
       "  <thead>\n",
       "    <tr style=\"text-align: right;\">\n",
       "      <th></th>\n",
       "      <th>date</th>\n",
       "      <th>Asset1</th>\n",
       "      <th>Asset2</th>\n",
       "      <th>Asset3</th>\n",
       "      <th>Asset4</th>\n",
       "      <th>Asset5</th>\n",
       "    </tr>\n",
       "  </thead>\n",
       "  <tbody>\n",
       "    <tr>\n",
       "      <th>0</th>\n",
       "      <td>2019-01-02</td>\n",
       "      <td>231.5061</td>\n",
       "      <td>55.875</td>\n",
       "      <td>25.649222</td>\n",
       "      <td>302.93</td>\n",
       "      <td>50.89</td>\n",
       "    </tr>\n",
       "    <tr>\n",
       "      <th>1</th>\n",
       "      <td>2019-01-03</td>\n",
       "      <td>231.0356</td>\n",
       "      <td>54.977</td>\n",
       "      <td>25.503047</td>\n",
       "      <td>302.11</td>\n",
       "      <td>50.41</td>\n",
       "    </tr>\n",
       "    <tr>\n",
       "      <th>2</th>\n",
       "      <td>2019-01-04</td>\n",
       "      <td>230.4026</td>\n",
       "      <td>56.129</td>\n",
       "      <td>26.147133</td>\n",
       "      <td>301.77</td>\n",
       "      <td>51.38</td>\n",
       "    </tr>\n",
       "    <tr>\n",
       "      <th>3</th>\n",
       "      <td>2019-01-07</td>\n",
       "      <td>230.0543</td>\n",
       "      <td>56.838</td>\n",
       "      <td>25.955277</td>\n",
       "      <td>302.33</td>\n",
       "      <td>52.14</td>\n",
       "    </tr>\n",
       "    <tr>\n",
       "      <th>4</th>\n",
       "      <td>2019-01-08</td>\n",
       "      <td>229.7012</td>\n",
       "      <td>56.895</td>\n",
       "      <td>26.137997</td>\n",
       "      <td>303.42</td>\n",
       "      <td>52.13</td>\n",
       "    </tr>\n",
       "  </tbody>\n",
       "</table>\n",
       "</div>"
      ],
      "text/plain": [
       "         date    Asset1  Asset2     Asset3  Asset4  Asset5\n",
       "0  2019-01-02  231.5061  55.875  25.649222  302.93   50.89\n",
       "1  2019-01-03  231.0356  54.977  25.503047  302.11   50.41\n",
       "2  2019-01-04  230.4026  56.129  26.147133  301.77   51.38\n",
       "3  2019-01-07  230.0543  56.838  25.955277  302.33   52.14\n",
       "4  2019-01-08  229.7012  56.895  26.137997  303.42   52.13"
      ]
     },
     "execution_count": 14,
     "metadata": {},
     "output_type": "execute_result"
    }
   ],
   "source": [
    "data.head() # I like to check how the dataframe looks like, before anything else"
   ]
  },
  {
   "cell_type": "code",
   "execution_count": 15,
   "id": "713feb76-cb2b-4aed-971c-891b2c6462e9",
   "metadata": {},
   "outputs": [
    {
     "name": "stdout",
     "output_type": "stream",
     "text": [
      "<class 'pandas.core.frame.DataFrame'>\n",
      "RangeIndex: 783 entries, 0 to 782\n",
      "Data columns (total 6 columns):\n",
      " #   Column  Non-Null Count  Dtype  \n",
      "---  ------  --------------  -----  \n",
      " 0   date    783 non-null    object \n",
      " 1   Asset1  770 non-null    float64\n",
      " 2   Asset2  770 non-null    float64\n",
      " 3   Asset3  770 non-null    float64\n",
      " 4   Asset4  734 non-null    float64\n",
      " 5   Asset5  763 non-null    float64\n",
      "dtypes: float64(5), object(1)\n",
      "memory usage: 36.8+ KB\n"
     ]
    }
   ],
   "source": [
    "data.info() # I like using _.info to check for dimensions and value types simultaneously"
   ]
  },
  {
   "cell_type": "markdown",
   "id": "f565e332-caae-4ab9-8d8e-efa139138d84",
   "metadata": {},
   "source": [
    "01.02 | Columns Standardization"
   ]
  },
  {
   "cell_type": "code",
   "execution_count": 17,
   "id": "28728912-8064-4e83-aec5-ff24ac3cdc9d",
   "metadata": {},
   "outputs": [],
   "source": [
    "# We use Pandas to convert values in 'date' column to actual date-time objects\n",
    "data['date'] = pd.to_datetime(data['date'])\n",
    "data.set_index('date', inplace=True) # We set 'date' as the index column"
   ]
  },
  {
   "cell_type": "code",
   "execution_count": 41,
   "id": "846e4d78-b8bb-43df-a507-d6248e010aba",
   "metadata": {},
   "outputs": [],
   "source": [
    "# Finally, we round all values in the dataframe to only 2 decimals, to aid readability\n",
    "data = data[['Asset1', 'Asset2', 'Asset3', 'Asset4', 'Asset5']].apply(lambda x: x.round(2))"
   ]
  },
  {
   "cell_type": "markdown",
   "id": "c9514758-f886-4922-8639-61e317b6c9dc",
   "metadata": {},
   "source": [
    "01.03 | Copy, as best practices"
   ]
  },
  {
   "cell_type": "code",
   "execution_count": 43,
   "id": "4d3e1a7d-b08c-40b5-9f7a-9f41d56eacc7",
   "metadata": {},
   "outputs": [],
   "source": [
    "df = data.copy()"
   ]
  },
  {
   "cell_type": "markdown",
   "id": "93bea590-e1dd-46a3-ac86-abb3796d5e94",
   "metadata": {},
   "source": [
    "## 02 | Data Cleaning"
   ]
  },
  {
   "cell_type": "markdown",
   "id": "1091d097-7c6f-49f6-ac9f-ad8eff6cf001",
   "metadata": {},
   "source": [
    "02.01 | Checking Null Values"
   ]
  },
  {
   "cell_type": "code",
   "execution_count": 51,
   "id": "d1a31036-6e8b-4363-ba03-5355a0b82013",
   "metadata": {},
   "outputs": [
    {
     "data": {
      "text/plain": [
       "Asset1    13\n",
       "Asset2    13\n",
       "Asset3    13\n",
       "Asset4    49\n",
       "Asset5    20\n",
       "dtype: int64"
      ]
     },
     "execution_count": 51,
     "metadata": {},
     "output_type": "execute_result"
    }
   ],
   "source": [
    "df.isna().sum()"
   ]
  },
  {
   "cell_type": "code",
   "execution_count": 323,
   "id": "7bdcce50-1e0c-4a65-b861-9eb27a0a625a",
   "metadata": {},
   "outputs": [],
   "source": [
    "df = df.ffill()"
   ]
  },
  {
   "cell_type": "markdown",
   "id": "8300da7f-28a6-4757-9ecb-75491d695440",
   "metadata": {
    "jp-MarkdownHeadingCollapsed": true
   },
   "source": [
    "Why Use Forward Fill (ffill)?\n",
    "\n",
    "Forward fill (ffill) is used in financial data to maintain consistency by assuming that asset values remain unchanged until new data is recorded, especially on non-trading days like weekends or holidays. It helps avoid distorting trends that could arise from replacing missing values with constants, zeros, or averages, making it a logical choice for market data where prices often stay the same for short periods."
   ]
  },
  {
   "cell_type": "code",
   "execution_count": 324,
   "id": "c44970ff-9461-466f-83fe-233466c0cc3d",
   "metadata": {},
   "outputs": [
    {
     "data": {
      "text/plain": [
       "Asset1         0\n",
       "Asset2         0\n",
       "Asset3         0\n",
       "Asset4         0\n",
       "Asset5         0\n",
       "Total Value    0\n",
       "dtype: int64"
      ]
     },
     "execution_count": 324,
     "metadata": {},
     "output_type": "execute_result"
    }
   ],
   "source": [
    "df.isna().sum()"
   ]
  },
  {
   "cell_type": "markdown",
   "id": "b860aad1-7c75-4f56-a335-945eb4f3fbfd",
   "metadata": {},
   "source": [
    "02.02 | Checking Duplicates"
   ]
  },
  {
   "cell_type": "code",
   "execution_count": 325,
   "id": "5db6c9a2-b503-4bd8-922f-e274f2ed8315",
   "metadata": {},
   "outputs": [
    {
     "data": {
      "text/plain": [
       "13"
      ]
     },
     "execution_count": 325,
     "metadata": {},
     "output_type": "execute_result"
    }
   ],
   "source": [
    "df.duplicated().sum()"
   ]
  },
  {
   "cell_type": "code",
   "execution_count": 68,
   "id": "591a72ef-5930-48ab-b3b0-de176642607e",
   "metadata": {},
   "outputs": [
    {
     "data": {
      "text/plain": [
       "0"
      ]
     },
     "execution_count": 68,
     "metadata": {},
     "output_type": "execute_result"
    }
   ],
   "source": [
    "data['date'].duplicated().sum() # To check if there are days duplicated"
   ]
  },
  {
   "cell_type": "markdown",
   "id": "c9826cf8-10cd-4fd0-a560-54d4a267c205",
   "metadata": {},
   "source": [
    "Why not drop duplicated rows here?\n",
    "\n",
    "Keeping these rows ensures a more accurate, granular data over time, which is essential for financial analysis. Even if the duplicated prices are result of some error, they could still reflect a potential real situation (market stability). Since the dates are unique and there are no duplicated days, removing these rows could obscure trends and lose valuable temporal information, which is important for financial portfolio analysis."
   ]
  },
  {
   "cell_type": "markdown",
   "id": "419aea4e-0020-44b1-bf51-c101e0d875cd",
   "metadata": {},
   "source": [
    "02.03 | Checking Empty Spaces"
   ]
  },
  {
   "cell_type": "code",
   "execution_count": 67,
   "id": "19f1775b-3e2c-4ff2-9873-18821488a779",
   "metadata": {},
   "outputs": [
    {
     "data": {
      "text/plain": [
       "Asset1    0\n",
       "Asset2    0\n",
       "Asset3    0\n",
       "Asset4    0\n",
       "Asset5    0\n",
       "dtype: int64"
      ]
     },
     "execution_count": 67,
     "metadata": {},
     "output_type": "execute_result"
    }
   ],
   "source": [
    "df.eq(\" \").sum()"
   ]
  },
  {
   "cell_type": "markdown",
   "id": "30f233f2-df4f-4996-bc75-71edb0dbeca3",
   "metadata": {},
   "source": [
    "## 03 | Relative Normalization and Visualization\n",
    "\n",
    "---\n",
    "\n",
    "Visualize this data through a time series graph. The integrity of the analysis depends heavily on the ability to visualize trends accurately while ensuring all asset price series begin at a uniform value."
   ]
  },
  {
   "cell_type": "markdown",
   "id": "1c31a665-905f-4c17-b761-e29f528b3756",
   "metadata": {},
   "source": [
    "03.01 | Statistical Information for Numerical Columns"
   ]
  },
  {
   "cell_type": "code",
   "execution_count": 70,
   "id": "11e19306-1fd1-4a36-a1da-5eafd34db16e",
   "metadata": {
    "scrolled": true
   },
   "outputs": [
    {
     "data": {
      "text/html": [
       "<div>\n",
       "<style scoped>\n",
       "    .dataframe tbody tr th:only-of-type {\n",
       "        vertical-align: middle;\n",
       "    }\n",
       "\n",
       "    .dataframe tbody tr th {\n",
       "        vertical-align: top;\n",
       "    }\n",
       "\n",
       "    .dataframe thead th {\n",
       "        text-align: right;\n",
       "    }\n",
       "</style>\n",
       "<table border=\"1\" class=\"dataframe\">\n",
       "  <thead>\n",
       "    <tr style=\"text-align: right;\">\n",
       "      <th></th>\n",
       "      <th>Asset1</th>\n",
       "      <th>Asset2</th>\n",
       "      <th>Asset3</th>\n",
       "      <th>Asset4</th>\n",
       "      <th>Asset5</th>\n",
       "    </tr>\n",
       "  </thead>\n",
       "  <tbody>\n",
       "    <tr>\n",
       "      <th>count</th>\n",
       "      <td>783.00</td>\n",
       "      <td>783.00</td>\n",
       "      <td>783.00</td>\n",
       "      <td>783.00</td>\n",
       "      <td>783.00</td>\n",
       "    </tr>\n",
       "    <tr>\n",
       "      <th>mean</th>\n",
       "      <td>248.94</td>\n",
       "      <td>76.04</td>\n",
       "      <td>31.46</td>\n",
       "      <td>327.34</td>\n",
       "      <td>54.10</td>\n",
       "    </tr>\n",
       "    <tr>\n",
       "      <th>std</th>\n",
       "      <td>6.86</td>\n",
       "      <td>13.59</td>\n",
       "      <td>3.29</td>\n",
       "      <td>13.42</td>\n",
       "      <td>8.17</td>\n",
       "    </tr>\n",
       "    <tr>\n",
       "      <th>min</th>\n",
       "      <td>229.70</td>\n",
       "      <td>48.52</td>\n",
       "      <td>22.90</td>\n",
       "      <td>272.79</td>\n",
       "      <td>37.34</td>\n",
       "    </tr>\n",
       "    <tr>\n",
       "      <th>25%</th>\n",
       "      <td>246.85</td>\n",
       "      <td>64.76</td>\n",
       "      <td>29.28</td>\n",
       "      <td>318.75</td>\n",
       "      <td>49.27</td>\n",
       "    </tr>\n",
       "    <tr>\n",
       "      <th>50%</th>\n",
       "      <td>250.62</td>\n",
       "      <td>71.91</td>\n",
       "      <td>30.65</td>\n",
       "      <td>326.70</td>\n",
       "      <td>52.73</td>\n",
       "    </tr>\n",
       "    <tr>\n",
       "      <th>75%</th>\n",
       "      <td>253.37</td>\n",
       "      <td>87.35</td>\n",
       "      <td>33.69</td>\n",
       "      <td>340.11</td>\n",
       "      <td>59.38</td>\n",
       "    </tr>\n",
       "    <tr>\n",
       "      <th>max</th>\n",
       "      <td>259.11</td>\n",
       "      <td>104.66</td>\n",
       "      <td>39.12</td>\n",
       "      <td>345.71</td>\n",
       "      <td>71.05</td>\n",
       "    </tr>\n",
       "  </tbody>\n",
       "</table>\n",
       "</div>"
      ],
      "text/plain": [
       "       Asset1  Asset2  Asset3  Asset4  Asset5\n",
       "count  783.00  783.00  783.00  783.00  783.00\n",
       "mean   248.94   76.04   31.46  327.34   54.10\n",
       "std      6.86   13.59    3.29   13.42    8.17\n",
       "min    229.70   48.52   22.90  272.79   37.34\n",
       "25%    246.85   64.76   29.28  318.75   49.27\n",
       "50%    250.62   71.91   30.65  326.70   52.73\n",
       "75%    253.37   87.35   33.69  340.11   59.38\n",
       "max    259.11  104.66   39.12  345.71   71.05"
      ]
     },
     "execution_count": 70,
     "metadata": {},
     "output_type": "execute_result"
    }
   ],
   "source": [
    "df.describe().round(2)"
   ]
  },
  {
   "cell_type": "markdown",
   "id": "5ba60b92-150d-4d36-8bc4-9e89bf0434cb",
   "metadata": {},
   "source": [
    "This summary gives useful statistical insights into the asset prices, such as their averages, variability, and distribution. However, it doesn't help us visualize the relative changes in price over time. To effectively compare the assets' performance, we need to normalize the data so that all assets start at the same uniform value (let's say, a hundred). This allows us to focus on the percentage change for each asset, making it easier to compare their growth or decline trends over time on a common scale. This approach ensures that we can clearly visualize and analyze the relative movements of the assets."
   ]
  },
  {
   "cell_type": "markdown",
   "id": "3f5b10e5-d341-413b-8ec7-8c7c29b13437",
   "metadata": {},
   "source": [
    "03.02 | Relative Normalization"
   ]
  },
  {
   "cell_type": "code",
   "execution_count": 95,
   "id": "c2c73511-b3c6-4f05-badf-e1da453fa7a7",
   "metadata": {},
   "outputs": [
    {
     "data": {
      "text/html": [
       "<div>\n",
       "<style scoped>\n",
       "    .dataframe tbody tr th:only-of-type {\n",
       "        vertical-align: middle;\n",
       "    }\n",
       "\n",
       "    .dataframe tbody tr th {\n",
       "        vertical-align: top;\n",
       "    }\n",
       "\n",
       "    .dataframe thead th {\n",
       "        text-align: right;\n",
       "    }\n",
       "</style>\n",
       "<table border=\"1\" class=\"dataframe\">\n",
       "  <thead>\n",
       "    <tr style=\"text-align: right;\">\n",
       "      <th></th>\n",
       "      <th>Asset1</th>\n",
       "      <th>Asset2</th>\n",
       "      <th>Asset3</th>\n",
       "      <th>Asset4</th>\n",
       "      <th>Asset5</th>\n",
       "    </tr>\n",
       "  </thead>\n",
       "  <tbody>\n",
       "    <tr>\n",
       "      <th>count</th>\n",
       "      <td>783.00</td>\n",
       "      <td>783.00</td>\n",
       "      <td>783.00</td>\n",
       "      <td>783.00</td>\n",
       "      <td>783.00</td>\n",
       "    </tr>\n",
       "    <tr>\n",
       "      <th>mean</th>\n",
       "      <td>107.53</td>\n",
       "      <td>136.07</td>\n",
       "      <td>122.65</td>\n",
       "      <td>108.06</td>\n",
       "      <td>106.31</td>\n",
       "    </tr>\n",
       "    <tr>\n",
       "      <th>std</th>\n",
       "      <td>2.96</td>\n",
       "      <td>24.33</td>\n",
       "      <td>12.83</td>\n",
       "      <td>4.43</td>\n",
       "      <td>16.05</td>\n",
       "    </tr>\n",
       "    <tr>\n",
       "      <th>min</th>\n",
       "      <td>99.22</td>\n",
       "      <td>86.83</td>\n",
       "      <td>89.28</td>\n",
       "      <td>90.05</td>\n",
       "      <td>73.37</td>\n",
       "    </tr>\n",
       "    <tr>\n",
       "      <th>25%</th>\n",
       "      <td>106.62</td>\n",
       "      <td>115.90</td>\n",
       "      <td>114.17</td>\n",
       "      <td>105.22</td>\n",
       "      <td>96.82</td>\n",
       "    </tr>\n",
       "    <tr>\n",
       "      <th>50%</th>\n",
       "      <td>108.25</td>\n",
       "      <td>128.69</td>\n",
       "      <td>119.49</td>\n",
       "      <td>107.85</td>\n",
       "      <td>103.62</td>\n",
       "    </tr>\n",
       "    <tr>\n",
       "      <th>75%</th>\n",
       "      <td>109.44</td>\n",
       "      <td>156.32</td>\n",
       "      <td>131.35</td>\n",
       "      <td>112.27</td>\n",
       "      <td>116.69</td>\n",
       "    </tr>\n",
       "    <tr>\n",
       "      <th>max</th>\n",
       "      <td>111.92</td>\n",
       "      <td>187.29</td>\n",
       "      <td>152.51</td>\n",
       "      <td>114.12</td>\n",
       "      <td>139.61</td>\n",
       "    </tr>\n",
       "  </tbody>\n",
       "</table>\n",
       "</div>"
      ],
      "text/plain": [
       "       Asset1  Asset2  Asset3  Asset4  Asset5\n",
       "count  783.00  783.00  783.00  783.00  783.00\n",
       "mean   107.53  136.07  122.65  108.06  106.31\n",
       "std      2.96   24.33   12.83    4.43   16.05\n",
       "min     99.22   86.83   89.28   90.05   73.37\n",
       "25%    106.62  115.90  114.17  105.22   96.82\n",
       "50%    108.25  128.69  119.49  107.85  103.62\n",
       "75%    109.44  156.32  131.35  112.27  116.69\n",
       "max    111.92  187.29  152.51  114.12  139.61"
      ]
     },
     "execution_count": 95,
     "metadata": {},
     "output_type": "execute_result"
    }
   ],
   "source": [
    "base_value = df.iloc[0] # value of each asset on their first day\n",
    "df2 = df / base_value * 100 # divide each value on the dataframe by it's corresponding first day value\n",
    "# Starting at 100, it will tell us how much prices went up or down relative to their first value\n",
    "df2.describe().round(2)"
   ]
  },
  {
   "cell_type": "markdown",
   "id": "bfd3d3ae-fc3b-408e-b641-7bcec5b12944",
   "metadata": {},
   "source": [
    "03.03 | Data Visualization"
   ]
  },
  {
   "cell_type": "code",
   "execution_count": 101,
   "id": "d3ada2a4-e027-4cc7-a869-5434cc5d0b0a",
   "metadata": {},
   "outputs": [
    {
     "data": {
      "image/png": "[encoded data removed]",
      "text/plain": [
       "<Figure size 1400x700 with 1 Axes>"
      ]
     },
     "metadata": {},
     "output_type": "display_data"
    }
   ],
   "source": [
    "plt.figure(figsize=(14, 7)) # Set plot size\n",
    "\n",
    "# Add assets data for line plot\n",
    "sns.lineplot(data=df2, x='date', y='Asset1', label='Asset1')\n",
    "sns.lineplot(data=df2, x='date', y='Asset2', label='Asset2')\n",
    "sns.lineplot(data=df2, x='date', y='Asset3', label='Asset3')\n",
    "sns.lineplot(data=df2, x='date', y='Asset4', label='Asset4')\n",
    "sns.lineplot(data=df2, x='date', y='Asset5', label='Asset5')\n",
    "\n",
    "# Plot values for the beginning of every trimester\n",
    "plt.gca().xaxis.set_major_locator(mdates.MonthLocator(bymonthday=1, interval=3))\n",
    "\n",
    "plt.title('Relative Asset Performance Over Time', fontsize=16, fontweight='bold', pad=20)\n",
    "plt.xlabel('Year-Month (by trimester)', fontsize=12, labelpad=10)\n",
    "plt.ylabel('Asset Price (relative to first day)', fontsize=12, labelpad=10)\n",
    "plt.legend(title='Assets', title_fontsize='13', fontsize='10', loc='center left', bbox_to_anchor=(1, 0.5))\n",
    "plt.grid(True, which='both', linestyle='--', linewidth=0.5) # Chart grids to aid visualization\n",
    "plt.xticks(rotation=45) # Slight rotation for x-axis labels\n",
    "plt.show()"
   ]
  },
  {
   "cell_type": "markdown",
   "id": "5ebe5f8d-adfe-40e5-88e8-381b14a5b90e",
   "metadata": {
    "jp-MarkdownHeadingCollapsed": true
   },
   "source": [
    "## 04 | First Insights\n",
    "\n",
    "---\n",
    "\n",
    "The time series analysis reveals potential trends on portfolio composition and asset allocation.\n",
    "\n",
    "**Asset 1** and **Asset 4** were the most stable throughout the period, both growing to around 110%. These assets did not experience large fluctuations, indicating their stability, but they also didn’t see explosive growth. This suggests they are low-risk, steady assets, likely tied to sectors less affected by market volatility, such as utilities or consumer staples. Their relatively moderate growth implies they could be ideal for conservative portfolio strategies where stability is prioritized over high returns.\n",
    "\n",
    "**Asset 2** and **Asset 3** displayed more volatility, behaving similarly until the pandemic hit, after which they diverged. Asset 2 saw a sharp surge to over 180%, while Asset 3 grew to around 150%. This divergence indicates differing sensitivities to external factors, with Asset 2 likely belonging to a high-growth sector (e.g., technology or healthcare), which thrived during the crisis, while Asset 3 followed a similar recovery trajectory, but to a lesser extent. These assets carry higher risk due to their volatility, but they also offer higher potential returns, making them better suited for an aggressive, growth-focused portfolio.\n",
    "\n",
    "**Asset 5** was the most unstable, experiencing a significant drop during the pandemic before recovering to just below 140%. This suggests a higher degree of risk, possibly tied to sectors like travel or luxury goods, which were severely impacted by the pandemic. The strong recovery post-crisis indicates that while this asset is volatile, it can also experience sharp rebounds, making it a higher-risk, higher-reward option for investors.\n",
    "\n",
    "**In summary**, this analysis highlights how each asset performed over time, showing varying levels of stability and growth potential. These insights are valuable as we continue to explore their roles in portfolio management."
   ]
  },
  {
   "cell_type": "markdown",
   "id": "28b06ac1-e290-44fa-a46d-28134ebf4a80",
   "metadata": {},
   "source": [
    "<h1 style=\"color: #FF8C00;\">Exercise 2: Daily Percentage Returns</h1>\n",
    "\n",
    "---\n",
    "\n",
    "Calculate daily percentage returns for each financial asset. Utilize this data to accomplish the following:\n",
    "- Calculate the correlation matrix for the five assets.\n",
    "- Create a scatter plot comparing the returns of two specific assets."
   ]
  },
  {
   "cell_type": "markdown",
   "id": "c7ee9656-982e-4d58-adcb-c5cf12e9725a",
   "metadata": {},
   "source": [
    "The daily percentage return of an asset represents the change in its value from one day to the next, expressed as a percentage. It is calculated using the formula:\n",
    "\n",
    "$$\n",
    "\\text{Daily Percentage Return} = \\frac{\\text{Price on Day 2} - \\text{Price on Day 1}}{\\text{Price on Day 1}} \\times 100\n",
    "$$\n",
    "\n",
    "This metric helps investors understand the day-to-day price movements of an asset. A positive return indicates the asset's price increased, while a negative return shows a decrease in price. By calculating these returns for each asset, we can analyze their individual performance and compare how they move relative to each other over time.\n",
    "\n",
    "In the next step, we will calculate the daily percentage returns for each of our assets and explore how they correlate with each other."
   ]
  },
  {
   "cell_type": "markdown",
   "id": "a7a1a49e-2939-4d56-be89-85e1d9753676",
   "metadata": {},
   "source": [
    "## 05 | Daily Percentage Returns"
   ]
  },
  {
   "cell_type": "markdown",
   "id": "c3ccdb94-d0c8-41ac-aa25-d993818f94ed",
   "metadata": {},
   "source": [
    "05.01 | Daily Percentage Returns Calculation"
   ]
  },
  {
   "cell_type": "code",
   "execution_count": 122,
   "id": "de857c47-115b-4378-a47f-b7c7caffb864",
   "metadata": {},
   "outputs": [],
   "source": [
    "df3 = df2.apply(lambda x: (x.shift(-1) - x) / x * 100) # dataframe with daily returns\n",
    "df3 = df3.fillna(0) # This will fill NaNs in the last row, simluating market stability for the last day"
   ]
  },
  {
   "cell_type": "code",
   "execution_count": 124,
   "id": "e0fab855-ed82-42dd-8e49-d24d3617c805",
   "metadata": {},
   "outputs": [
    {
     "data": {
      "text/html": [
       "<div>\n",
       "<style scoped>\n",
       "    .dataframe tbody tr th:only-of-type {\n",
       "        vertical-align: middle;\n",
       "    }\n",
       "\n",
       "    .dataframe tbody tr th {\n",
       "        vertical-align: top;\n",
       "    }\n",
       "\n",
       "    .dataframe thead th {\n",
       "        text-align: right;\n",
       "    }\n",
       "</style>\n",
       "<table border=\"1\" class=\"dataframe\">\n",
       "  <thead>\n",
       "    <tr style=\"text-align: right;\">\n",
       "      <th></th>\n",
       "      <th>Asset1</th>\n",
       "      <th>Asset2</th>\n",
       "      <th>Asset3</th>\n",
       "      <th>Asset4</th>\n",
       "      <th>Asset5</th>\n",
       "    </tr>\n",
       "    <tr>\n",
       "      <th>date</th>\n",
       "      <th></th>\n",
       "      <th></th>\n",
       "      <th></th>\n",
       "      <th></th>\n",
       "      <th></th>\n",
       "    </tr>\n",
       "  </thead>\n",
       "  <tbody>\n",
       "    <tr>\n",
       "      <th>2019-01-02</th>\n",
       "      <td>-0.20</td>\n",
       "      <td>-1.61</td>\n",
       "      <td>-0.58</td>\n",
       "      <td>-0.27</td>\n",
       "      <td>-0.94</td>\n",
       "    </tr>\n",
       "    <tr>\n",
       "      <th>2019-01-03</th>\n",
       "      <td>-0.28</td>\n",
       "      <td>2.09</td>\n",
       "      <td>2.55</td>\n",
       "      <td>-0.11</td>\n",
       "      <td>1.92</td>\n",
       "    </tr>\n",
       "    <tr>\n",
       "      <th>2019-01-04</th>\n",
       "      <td>-0.15</td>\n",
       "      <td>1.26</td>\n",
       "      <td>-0.73</td>\n",
       "      <td>0.19</td>\n",
       "      <td>1.48</td>\n",
       "    </tr>\n",
       "    <tr>\n",
       "      <th>2019-01-07</th>\n",
       "      <td>-0.15</td>\n",
       "      <td>0.11</td>\n",
       "      <td>0.69</td>\n",
       "      <td>0.36</td>\n",
       "      <td>-0.02</td>\n",
       "    </tr>\n",
       "    <tr>\n",
       "      <th>2019-01-08</th>\n",
       "      <td>0.20</td>\n",
       "      <td>1.28</td>\n",
       "      <td>0.23</td>\n",
       "      <td>0.41</td>\n",
       "      <td>1.40</td>\n",
       "    </tr>\n",
       "    <tr>\n",
       "      <th>...</th>\n",
       "      <td>...</td>\n",
       "      <td>...</td>\n",
       "      <td>...</td>\n",
       "      <td>...</td>\n",
       "      <td>...</td>\n",
       "    </tr>\n",
       "    <tr>\n",
       "      <th>2021-12-27</th>\n",
       "      <td>0.01</td>\n",
       "      <td>0.55</td>\n",
       "      <td>0.77</td>\n",
       "      <td>0.00</td>\n",
       "      <td>-0.11</td>\n",
       "    </tr>\n",
       "    <tr>\n",
       "      <th>2021-12-28</th>\n",
       "      <td>-0.49</td>\n",
       "      <td>-0.16</td>\n",
       "      <td>-0.69</td>\n",
       "      <td>0.02</td>\n",
       "      <td>-0.31</td>\n",
       "    </tr>\n",
       "    <tr>\n",
       "      <th>2021-12-29</th>\n",
       "      <td>-0.07</td>\n",
       "      <td>0.29</td>\n",
       "      <td>0.33</td>\n",
       "      <td>0.03</td>\n",
       "      <td>0.14</td>\n",
       "    </tr>\n",
       "    <tr>\n",
       "      <th>2021-12-30</th>\n",
       "      <td>0.08</td>\n",
       "      <td>-0.53</td>\n",
       "      <td>0.08</td>\n",
       "      <td>0.01</td>\n",
       "      <td>0.00</td>\n",
       "    </tr>\n",
       "    <tr>\n",
       "      <th>2021-12-31</th>\n",
       "      <td>0.00</td>\n",
       "      <td>0.00</td>\n",
       "      <td>0.00</td>\n",
       "      <td>0.00</td>\n",
       "      <td>0.00</td>\n",
       "    </tr>\n",
       "  </tbody>\n",
       "</table>\n",
       "<p>783 rows × 5 columns</p>\n",
       "</div>"
      ],
      "text/plain": [
       "            Asset1  Asset2  Asset3  Asset4  Asset5\n",
       "date                                              \n",
       "2019-01-02   -0.20   -1.61   -0.58   -0.27   -0.94\n",
       "2019-01-03   -0.28    2.09    2.55   -0.11    1.92\n",
       "2019-01-04   -0.15    1.26   -0.73    0.19    1.48\n",
       "2019-01-07   -0.15    0.11    0.69    0.36   -0.02\n",
       "2019-01-08    0.20    1.28    0.23    0.41    1.40\n",
       "...            ...     ...     ...     ...     ...\n",
       "2021-12-27    0.01    0.55    0.77    0.00   -0.11\n",
       "2021-12-28   -0.49   -0.16   -0.69    0.02   -0.31\n",
       "2021-12-29   -0.07    0.29    0.33    0.03    0.14\n",
       "2021-12-30    0.08   -0.53    0.08    0.01    0.00\n",
       "2021-12-31    0.00    0.00    0.00    0.00    0.00\n",
       "\n",
       "[783 rows x 5 columns]"
      ]
     },
     "execution_count": 124,
     "metadata": {},
     "output_type": "execute_result"
    }
   ],
   "source": [
    "df3.round(2)"
   ]
  },
  {
   "cell_type": "markdown",
   "id": "1a1bdad0-41fd-4963-8c5b-4c7f1d086eb7",
   "metadata": {},
   "source": [
    "## 06 | Correlation Matrix"
   ]
  },
  {
   "cell_type": "markdown",
   "id": "3d781bb8-754f-40c9-a189-b6cc346785a1",
   "metadata": {},
   "source": [
    "06.01 | Correlation Matrix Calculation"
   ]
  },
  {
   "cell_type": "code",
   "execution_count": 127,
   "id": "c7f47a70-eb50-4dbf-b4d7-8d7517a95625",
   "metadata": {},
   "outputs": [
    {
     "data": {
      "text/html": [
       "<div>\n",
       "<style scoped>\n",
       "    .dataframe tbody tr th:only-of-type {\n",
       "        vertical-align: middle;\n",
       "    }\n",
       "\n",
       "    .dataframe tbody tr th {\n",
       "        vertical-align: top;\n",
       "    }\n",
       "\n",
       "    .dataframe thead th {\n",
       "        text-align: right;\n",
       "    }\n",
       "</style>\n",
       "<table border=\"1\" class=\"dataframe\">\n",
       "  <thead>\n",
       "    <tr style=\"text-align: right;\">\n",
       "      <th></th>\n",
       "      <th>Asset1</th>\n",
       "      <th>Asset2</th>\n",
       "      <th>Asset3</th>\n",
       "      <th>Asset4</th>\n",
       "      <th>Asset5</th>\n",
       "    </tr>\n",
       "  </thead>\n",
       "  <tbody>\n",
       "    <tr>\n",
       "      <th>Asset1</th>\n",
       "      <td>1.00</td>\n",
       "      <td>-0.09</td>\n",
       "      <td>-0.06</td>\n",
       "      <td>0.10</td>\n",
       "      <td>-0.11</td>\n",
       "    </tr>\n",
       "    <tr>\n",
       "      <th>Asset2</th>\n",
       "      <td>-0.09</td>\n",
       "      <td>1.00</td>\n",
       "      <td>0.85</td>\n",
       "      <td>0.53</td>\n",
       "      <td>0.59</td>\n",
       "    </tr>\n",
       "    <tr>\n",
       "      <th>Asset3</th>\n",
       "      <td>-0.06</td>\n",
       "      <td>0.85</td>\n",
       "      <td>1.00</td>\n",
       "      <td>0.51</td>\n",
       "      <td>0.56</td>\n",
       "    </tr>\n",
       "    <tr>\n",
       "      <th>Asset4</th>\n",
       "      <td>0.10</td>\n",
       "      <td>0.53</td>\n",
       "      <td>0.51</td>\n",
       "      <td>1.00</td>\n",
       "      <td>0.42</td>\n",
       "    </tr>\n",
       "    <tr>\n",
       "      <th>Asset5</th>\n",
       "      <td>-0.11</td>\n",
       "      <td>0.59</td>\n",
       "      <td>0.56</td>\n",
       "      <td>0.42</td>\n",
       "      <td>1.00</td>\n",
       "    </tr>\n",
       "  </tbody>\n",
       "</table>\n",
       "</div>"
      ],
      "text/plain": [
       "        Asset1  Asset2  Asset3  Asset4  Asset5\n",
       "Asset1    1.00   -0.09   -0.06    0.10   -0.11\n",
       "Asset2   -0.09    1.00    0.85    0.53    0.59\n",
       "Asset3   -0.06    0.85    1.00    0.51    0.56\n",
       "Asset4    0.10    0.53    0.51    1.00    0.42\n",
       "Asset5   -0.11    0.59    0.56    0.42    1.00"
      ]
     },
     "execution_count": 127,
     "metadata": {},
     "output_type": "execute_result"
    }
   ],
   "source": [
    "df4 = df3.corr()\n",
    "df4.round(2)"
   ]
  },
  {
   "cell_type": "markdown",
   "id": "3e650851-0291-49a3-80cc-e5abff07ef32",
   "metadata": {},
   "source": [
    "06.02 | Correlation Matrix Visualization"
   ]
  },
  {
   "cell_type": "code",
   "execution_count": 132,
   "id": "0c4ce573-2279-40b4-beec-57a83c509141",
   "metadata": {},
   "outputs": [
    {
     "data": {
      "text/plain": [
       "Text(0.5, 1.0, 'Assets Correlation Heatmap')"
      ]
     },
     "execution_count": 132,
     "metadata": {},
     "output_type": "execute_result"
    },
    {
     "data": {
      "image/png": "[encoded data removed]",
      "text/plain": [
       "<Figure size 800x600 with 2 Axes>"
      ]
     },
     "metadata": {},
     "output_type": "display_data"
    }
   ],
   "source": [
    "plt.figure(figsize=(8,6))\n",
    "sns.heatmap(df4, annot=True, cmap='coolwarm', linewidths=0.5, fmt='.2f', vmin=-1, vmax=1)\n",
    "\n",
    "plt.title('Assets Correlation Heatmap', fontsize=16)"
   ]
  },
  {
   "cell_type": "markdown",
   "id": "7e77b223-1a80-45a5-8af0-5f66ef4ff19f",
   "metadata": {},
   "source": [
    "06.03 | Correlation Insights\n",
    "\n",
    "---\n",
    "**Asset 2** is the most central asset in the correlation matrix, showing strong positive correlations with Assets 3 and 5, as well as moderate correlations with Assets 4 and 1. This suggests that **Asset 2 tends to move more in tandem with other assets**, particularly with Asset 3. On the other hand, **Asset 1** behaves almost independently of the other assets, displaying minimal correlation, either negative or positive. This characteristic could make Asset 1 an appealing choice for diversification within a portfolio, as it does not closely follow the trends of the other assets. Additionally, the **particularly strong correlation between Asset 2 and Asset 3** indicates that these two assets may have similar risk or return profiles, which could be an important factor for investors seeking diversification strategies.\n",
    "\n",
    "The heatmap clearly shows a strong positive correlation between Asset 2 and Asset 3, which aligns with our observations in the time series graph. This indicates that these two assets have tended to move in the same direction. However, we hypothesize that this correlation might have weakened after the pandemic crash, as Asset 2 reached higher values.\n",
    "\n",
    "To test this hypothesis, we could formulate the following:\n",
    "\n",
    "**Null Hypothesis (H0)**: The correlation between Asset 2 and Asset 3 remained stable before and after the pandemic crash.\n",
    "\n",
    "**Alternative Hypothesis (H1)**: The correlation between Asset 2 and Asset 3 weakened after the pandemic crash.\n",
    "\n",
    "By analyzing the correlation before and after the crash, we can determine if our hypothesis holds true or if the relationship between these assets has changed."
   ]
  },
  {
   "cell_type": "markdown",
   "id": "fcf2a0cb-5ef7-4c05-be9a-920507d8695f",
   "metadata": {},
   "source": [
    "## 07 | Hypothesis Testing\n",
    "\n",
    "---\n",
    "\n",
    "To analyze the correlation between Asset2 and Asset3 before and after the pandemic crash, we can use the minimum values of both assets as an arbitrary point of divergence. This choice is based on the observation that these minimums align with a significant change in their behavior (when they seem to start to diverge), as seen in the timeseries graph. By identifying the dates when the minimum values occurred, we can separate the data into two periods: before and after the crash. This allows us to test if the correlation between the assets was affected by the market downturn, offering a clearer understanding of how external events influenced their relationship."
   ]
  },
  {
   "cell_type": "markdown",
   "id": "cc79eda1-4a2e-49a6-a61f-75b8d3ffaff6",
   "metadata": {},
   "source": [
    "07.01 | Featuring Selection"
   ]
  },
  {
   "cell_type": "code",
   "execution_count": 138,
   "id": "53266890-0cad-4311-b283-2e7b0bb2fd3c",
   "metadata": {},
   "outputs": [],
   "source": [
    "Asset2_min = df['Asset2'].min()\n",
    "Asset3_min = df['Asset3'].min()"
   ]
  },
  {
   "cell_type": "code",
   "execution_count": 139,
   "id": "c8edbb7e-833a-4fd6-aacb-6b0494c8d0ce",
   "metadata": {},
   "outputs": [
    {
     "data": {
      "text/html": [
       "<div>\n",
       "<style scoped>\n",
       "    .dataframe tbody tr th:only-of-type {\n",
       "        vertical-align: middle;\n",
       "    }\n",
       "\n",
       "    .dataframe tbody tr th {\n",
       "        vertical-align: top;\n",
       "    }\n",
       "\n",
       "    .dataframe thead th {\n",
       "        text-align: right;\n",
       "    }\n",
       "</style>\n",
       "<table border=\"1\" class=\"dataframe\">\n",
       "  <thead>\n",
       "    <tr style=\"text-align: right;\">\n",
       "      <th></th>\n",
       "      <th>Asset1</th>\n",
       "      <th>Asset2</th>\n",
       "      <th>Asset3</th>\n",
       "      <th>Asset4</th>\n",
       "      <th>Asset5</th>\n",
       "    </tr>\n",
       "    <tr>\n",
       "      <th>date</th>\n",
       "      <th></th>\n",
       "      <th></th>\n",
       "      <th></th>\n",
       "      <th></th>\n",
       "      <th></th>\n",
       "    </tr>\n",
       "  </thead>\n",
       "  <tbody>\n",
       "    <tr>\n",
       "      <th>2020-03-23</th>\n",
       "      <td>246.14</td>\n",
       "      <td>48.52</td>\n",
       "      <td>23.17</td>\n",
       "      <td>272.79</td>\n",
       "      <td>38.55</td>\n",
       "    </tr>\n",
       "  </tbody>\n",
       "</table>\n",
       "</div>"
      ],
      "text/plain": [
       "            Asset1  Asset2  Asset3  Asset4  Asset5\n",
       "date                                              \n",
       "2020-03-23  246.14   48.52   23.17  272.79   38.55"
      ]
     },
     "execution_count": 139,
     "metadata": {},
     "output_type": "execute_result"
    }
   ],
   "source": [
    "df.loc[df['Asset2'] == Asset2_min] # Lowest market value for Asset2 was on March 23rd 2020"
   ]
  },
  {
   "cell_type": "code",
   "execution_count": 141,
   "id": "ea908ded-da23-4175-8069-9c3ad0a4889e",
   "metadata": {},
   "outputs": [
    {
     "data": {
      "text/html": [
       "<div>\n",
       "<style scoped>\n",
       "    .dataframe tbody tr th:only-of-type {\n",
       "        vertical-align: middle;\n",
       "    }\n",
       "\n",
       "    .dataframe tbody tr th {\n",
       "        vertical-align: top;\n",
       "    }\n",
       "\n",
       "    .dataframe thead th {\n",
       "        text-align: right;\n",
       "    }\n",
       "</style>\n",
       "<table border=\"1\" class=\"dataframe\">\n",
       "  <thead>\n",
       "    <tr style=\"text-align: right;\">\n",
       "      <th></th>\n",
       "      <th>Asset1</th>\n",
       "      <th>Asset2</th>\n",
       "      <th>Asset3</th>\n",
       "      <th>Asset4</th>\n",
       "      <th>Asset5</th>\n",
       "    </tr>\n",
       "    <tr>\n",
       "      <th>date</th>\n",
       "      <th></th>\n",
       "      <th></th>\n",
       "      <th></th>\n",
       "      <th></th>\n",
       "      <th></th>\n",
       "    </tr>\n",
       "  </thead>\n",
       "  <tbody>\n",
       "    <tr>\n",
       "      <th>2020-03-18</th>\n",
       "      <td>239.38</td>\n",
       "      <td>52.02</td>\n",
       "      <td>22.9</td>\n",
       "      <td>276.45</td>\n",
       "      <td>38.7</td>\n",
       "    </tr>\n",
       "  </tbody>\n",
       "</table>\n",
       "</div>"
      ],
      "text/plain": [
       "            Asset1  Asset2  Asset3  Asset4  Asset5\n",
       "date                                              \n",
       "2020-03-18  239.38   52.02    22.9  276.45    38.7"
      ]
     },
     "execution_count": 141,
     "metadata": {},
     "output_type": "execute_result"
    }
   ],
   "source": [
    "df.loc[df['Asset3'] == Asset3_min] # Lowest market value for Asset3 was on March 18th 2020"
   ]
  },
  {
   "cell_type": "code",
   "execution_count": 144,
   "id": "c27174d5-8f4b-4955-b353-7c2bd4df94f7",
   "metadata": {},
   "outputs": [],
   "source": [
    "before_crash = df3[df3.index < '2020-03-21'] # the 21st is the mid spot between both minimums\n",
    "after_crash = df3[df3.index > '2020-03-21'] "
   ]
  },
  {
   "cell_type": "markdown",
   "id": "e09af353-d252-4d40-904a-0f4fb49be305",
   "metadata": {},
   "source": [
    "07.02 | Compared Correlation"
   ]
  },
  {
   "cell_type": "code",
   "execution_count": 146,
   "id": "b14ff05a-fde5-459b-aa1a-718e94b256cc",
   "metadata": {},
   "outputs": [
    {
     "data": {
      "text/plain": [
       "0.858"
      ]
     },
     "execution_count": 146,
     "metadata": {},
     "output_type": "execute_result"
    }
   ],
   "source": [
    "before_crash[['Asset2', 'Asset3']].corr().iloc[0, 1].round(3)"
   ]
  },
  {
   "cell_type": "code",
   "execution_count": 147,
   "id": "6ca3b4a7-fd7a-42bb-8390-319598f8b859",
   "metadata": {},
   "outputs": [
    {
     "data": {
      "text/plain": [
       "0.852"
      ]
     },
     "execution_count": 147,
     "metadata": {},
     "output_type": "execute_result"
    }
   ],
   "source": [
    "after_crash[['Asset2', 'Asset3']].corr().iloc[0, 1].round(3)"
   ]
  },
  {
   "cell_type": "markdown",
   "id": "922ea5d4-190f-4393-a40f-6b21da6ac8c5",
   "metadata": {},
   "source": [
    "## 08 | Visualization"
   ]
  },
  {
   "cell_type": "markdown",
   "id": "14376734-b257-42dd-a53c-b8ce5b2002fc",
   "metadata": {},
   "source": [
    "08.01 | Static Scatter Plot"
   ]
  },
  {
   "cell_type": "code",
   "execution_count": 222,
   "id": "5e8fc81a-a5d1-4cb9-862d-abc048b6f4ce",
   "metadata": {},
   "outputs": [
    {
     "data": {
      "image/png": "[encoded data removed]",
      "text/plain": [
       "<Figure size 1400x600 with 2 Axes>"
      ]
     },
     "metadata": {},
     "output_type": "display_data"
    }
   ],
   "source": [
    "plt.figure(figsize=(14, 6))\n",
    "\n",
    "plt.subplot(1, 2, 1)\n",
    "plt.scatter(before_crash['Asset2'], before_crash['Asset3'], color='orange', alpha=0.5)\n",
    "plt.title('Correlation Before Crash')\n",
    "plt.xlabel('Asset 2 Daily Returns')\n",
    "plt.ylabel('Asset 3 Daily Returns')\n",
    "plt.grid(True)\n",
    "\n",
    "plt.subplot(1, 2, 2)\n",
    "plt.scatter(after_crash['Asset2'], after_crash['Asset3'], color='green', alpha=0.5)\n",
    "plt.title('Correlation After Crash')\n",
    "plt.xlabel('Asset 2 Daily Returns')\n",
    "plt.ylabel('Asset 3 Daily Returns')\n",
    "plt.grid(True)\n",
    "\n",
    "plt.tight_layout()\n",
    "plt.show()"
   ]
  },
  {
   "cell_type": "markdown",
   "id": "c6358297-de65-41ad-96f0-d00646da60bf",
   "metadata": {},
   "source": [
    "08.02 | Interactive Scatter Plot\n",
    "\n",
    "---\n",
    "\n",
    "Creating an interactive scatter plot to see the dates when hovered is useful here, because it allows you to explore the data dynamically. By hovering over the dots, you can instantly view the specific date associated with each data point, which helps in understanding the time-related context of asset price movements. This feature is especially valuable when analyzing trends, outliers, or other\n",
    "patterns, as it enables you to correlate fluctuations in asset returns with specific dates, such as during market events or crises. Additionally, interactive plots allow for easier exploration of large datasets without losing track of individual data points."
   ]
  },
  {
   "cell_type": "code",
   "execution_count": 154,
   "id": "0a3b268e-a722-4c6e-ac0c-cb454dd935de",
   "metadata": {
    "scrolled": true
   },
   "outputs": [
    {
     "data": {
      "application/vnd.plotly.v1+json": {
       "config": {
        "plotlyServerURL": "https://plot.ly"
       },
       "data": [
        {
         "customdata": [
          [
           "2019-01-02T00:00:00"
          ],
          [
           "2019-01-03T00:00:00"
          ],
          [
           "2019-01-04T00:00:00"
          ],
          [
           "2019-01-07T00:00:00"
          ],
          [
           "2019-01-08T00:00:00"
          ],
          [
           "2019-01-09T00:00:00"
          ],
          [
           "2019-01-10T00:00:00"
          ],
          [
           "2019-01-11T00:00:00"
          ],
          [
           "2019-01-14T00:00:00"
          ],
          [
           "2019-01-15T00:00:00"
          ],
          [
           "2019-01-16T00:00:00"
          ],
          [
           "2019-01-17T00:00:00"
          ],
          [
           "2019-01-18T00:00:00"
          ],
          [
           "2019-01-21T00:00:00"
          ],
          [
           "2019-01-22T00:00:00"
          ],
          [
           "2019-01-23T00:00:00"
          ],
          [
           "2019-01-24T00:00:00"
          ],
          [
           "2019-01-25T00:00:00"
          ],
          [
           "2019-01-28T00:00:00"
          ],
          [
           "2019-01-29T00:00:00"
          ],
          [
           "2019-01-30T00:00:00"
          ],
          [
           "2019-01-31T00:00:00"
          ],
          [
           "2019-02-01T00:00:00"
          ],
          [
           "2019-02-04T00:00:00"
          ],
          [
           "2019-02-05T00:00:00"
          ],
          [
           "2019-02-06T00:00:00"
          ],
          [
           "2019-02-07T00:00:00"
          ],
          [
           "2019-02-08T00:00:00"
          ],
          [
           "2019-02-11T00:00:00"
          ],
          [
           "2019-02-12T00:00:00"
          ],
          [
           "2019-02-13T00:00:00"
          ],
          [
           "2019-02-14T00:00:00"
          ],
          [
           "2019-02-15T00:00:00"
          ],
          [
           "2019-02-18T00:00:00"
          ],
          [
           "2019-02-19T00:00:00"
          ],
          [
           "2019-02-20T00:00:00"
          ],
          [
           "2019-02-21T00:00:00"
          ],
          [
           "2019-02-22T00:00:00"
          ],
          [
           "2019-02-25T00:00:00"
          ],
          [
           "2019-02-26T00:00:00"
          ],
          [
           "2019-02-27T00:00:00"
          ],
          [
           "2019-02-28T00:00:00"
          ],
          [
           "2019-03-01T00:00:00"
          ],
          [
           "2019-03-04T00:00:00"
          ],
          [
           "2019-03-05T00:00:00"
          ],
          [
           "2019-03-06T00:00:00"
          ],
          [
           "2019-03-07T00:00:00"
          ],
          [
           "2019-03-08T00:00:00"
          ],
          [
           "2019-03-11T00:00:00"
          ],
          [
           "2019-03-12T00:00:00"
          ],
          [
           "2019-03-13T00:00:00"
          ],
          [
           "2019-03-14T00:00:00"
          ],
          [
           "2019-03-15T00:00:00"
          ],
          [
           "2019-03-18T00:00:00"
          ],
          [
           "2019-03-19T00:00:00"
          ],
          [
           "2019-03-20T00:00:00"
          ],
          [
           "2019-03-21T00:00:00"
          ],
          [
           "2019-03-22T00:00:00"
          ],
          [
           "2019-03-25T00:00:00"
          ],
          [
           "2019-03-26T00:00:00"
          ],
          [
           "2019-03-27T00:00:00"
          ],
          [
           "2019-03-28T00:00:00"
          ],
          [
           "2019-03-29T00:00:00"
          ],
          [
           "2019-04-01T00:00:00"
          ],
          [
           "2019-04-02T00:00:00"
          ],
          [
           "2019-04-03T00:00:00"
          ],
          [
           "2019-04-04T00:00:00"
          ],
          [
           "2019-04-05T00:00:00"
          ],
          [
           "2019-04-08T00:00:00"
          ],
          [
           "2019-04-09T00:00:00"
          ],
          [
           "2019-04-10T00:00:00"
          ],
          [
           "2019-04-11T00:00:00"
          ],
          [
           "2019-04-12T00:00:00"
          ],
          [
           "2019-04-15T00:00:00"
          ],
          [
           "2019-04-16T00:00:00"
          ],
          [
           "2019-04-17T00:00:00"
          ],
          [
           "2019-04-18T00:00:00"
          ],
          [
           "2019-04-19T00:00:00"
          ],
          [
           "2019-04-22T00:00:00"
          ],
          [
           "2019-04-23T00:00:00"
          ],
          [
           "2019-04-24T00:00:00"
          ],
          [
           "2019-04-25T00:00:00"
          ],
          [
           "2019-04-26T00:00:00"
          ],
          [
           "2019-04-29T00:00:00"
          ],
          [
           "2019-04-30T00:00:00"
          ],
          [
           "2019-05-01T00:00:00"
          ],
          [
           "2019-05-02T00:00:00"
          ],
          [
           "2019-05-03T00:00:00"
          ],
          [
           "2019-05-06T00:00:00"
          ],
          [
           "2019-05-07T00:00:00"
          ],
          [
           "2019-05-08T00:00:00"
          ],
          [
           "2019-05-09T00:00:00"
          ],
          [
           "2019-05-10T00:00:00"
          ],
          [
           "2019-05-13T00:00:00"
          ],
          [
           "2019-05-14T00:00:00"
          ],
          [
           "2019-05-15T00:00:00"
          ],
          [
           "2019-05-16T00:00:00"
          ],
          [
           "2019-05-17T00:00:00"
          ],
          [
           "2019-05-20T00:00:00"
          ],
          [
           "2019-05-21T00:00:00"
          ],
          [
           "2019-05-22T00:00:00"
          ],
          [
           "2019-05-23T00:00:00"
          ],
          [
           "2019-05-24T00:00:00"
          ],
          [
           "2019-05-27T00:00:00"
          ],
          [
           "2019-05-28T00:00:00"
          ],
          [
           "2019-05-29T00:00:00"
          ],
          [
           "2019-05-30T00:00:00"
          ],
          [
           "2019-05-31T00:00:00"
          ],
          [
           "2019-06-03T00:00:00"
          ],
          [
           "2019-06-04T00:00:00"
          ],
          [
           "2019-06-05T00:00:00"
          ],
          [
           "2019-06-06T00:00:00"
          ],
          [
           "2019-06-07T00:00:00"
          ],
          [
           "2019-06-10T00:00:00"
          ],
          [
           "2019-06-11T00:00:00"
          ],
          [
           "2019-06-12T00:00:00"
          ],
          [
           "2019-06-13T00:00:00"
          ],
          [
           "2019-06-14T00:00:00"
          ],
          [
           "2019-06-17T00:00:00"
          ],
          [
           "2019-06-18T00:00:00"
          ],
          [
           "2019-06-19T00:00:00"
          ],
          [
           "2019-06-20T00:00:00"
          ],
          [
           "2019-06-21T00:00:00"
          ],
          [
           "2019-06-24T00:00:00"
          ],
          [
           "2019-06-25T00:00:00"
          ],
          [
           "2019-06-26T00:00:00"
          ],
          [
           "2019-06-27T00:00:00"
          ],
          [
           "2019-06-28T00:00:00"
          ],
          [
           "2019-07-01T00:00:00"
          ],
          [
           "2019-07-02T00:00:00"
          ],
          [
           "2019-07-03T00:00:00"
          ],
          [
           "2019-07-04T00:00:00"
          ],
          [
           "2019-07-05T00:00:00"
          ],
          [
           "2019-07-08T00:00:00"
          ],
          [
           "2019-07-09T00:00:00"
          ],
          [
           "2019-07-10T00:00:00"
          ],
          [
           "2019-07-11T00:00:00"
          ],
          [
           "2019-07-12T00:00:00"
          ],
          [
           "2019-07-15T00:00:00"
          ],
          [
           "2019-07-16T00:00:00"
          ],
          [
           "2019-07-17T00:00:00"
          ],
          [
           "2019-07-18T00:00:00"
          ],
          [
           "2019-07-19T00:00:00"
          ],
          [
           "2019-07-22T00:00:00"
          ],
          [
           "2019-07-23T00:00:00"
          ],
          [
           "2019-07-24T00:00:00"
          ],
          [
           "2019-07-25T00:00:00"
          ],
          [
           "2019-07-26T00:00:00"
          ],
          [
           "2019-07-29T00:00:00"
          ],
          [
           "2019-07-30T00:00:00"
          ],
          [
           "2019-07-31T00:00:00"
          ],
          [
           "2019-08-01T00:00:00"
          ],
          [
           "2019-08-02T00:00:00"
          ],
          [
           "2019-08-05T00:00:00"
          ],
          [
           "2019-08-06T00:00:00"
          ],
          [
           "2019-08-07T00:00:00"
          ],
          [
           "2019-08-08T00:00:00"
          ],
          [
           "2019-08-09T00:00:00"
          ],
          [
           "2019-08-12T00:00:00"
          ],
          [
           "2019-08-13T00:00:00"
          ],
          [
           "2019-08-14T00:00:00"
          ],
          [
           "2019-08-15T00:00:00"
          ],
          [
           "2019-08-16T00:00:00"
          ],
          [
           "2019-08-19T00:00:00"
          ],
          [
           "2019-08-20T00:00:00"
          ],
          [
           "2019-08-21T00:00:00"
          ],
          [
           "2019-08-22T00:00:00"
          ],
          [
           "2019-08-23T00:00:00"
          ],
          [
           "2019-08-26T00:00:00"
          ],
          [
           "2019-08-27T00:00:00"
          ],
          [
           "2019-08-28T00:00:00"
          ],
          [
           "2019-08-29T00:00:00"
          ],
          [
           "2019-08-30T00:00:00"
          ],
          [
           "2019-09-02T00:00:00"
          ],
          [
           "2019-09-03T00:00:00"
          ],
          [
           "2019-09-04T00:00:00"
          ],
          [
           "2019-09-05T00:00:00"
          ],
          [
           "2019-09-06T00:00:00"
          ],
          [
           "2019-09-09T00:00:00"
          ],
          [
           "2019-09-10T00:00:00"
          ],
          [
           "2019-09-11T00:00:00"
          ],
          [
           "2019-09-12T00:00:00"
          ],
          [
           "2019-09-13T00:00:00"
          ],
          [
           "2019-09-16T00:00:00"
          ],
          [
           "2019-09-17T00:00:00"
          ],
          [
           "2019-09-18T00:00:00"
          ],
          [
           "2019-09-19T00:00:00"
          ],
          [
           "2019-09-20T00:00:00"
          ],
          [
           "2019-09-23T00:00:00"
          ],
          [
           "2019-09-24T00:00:00"
          ],
          [
           "2019-09-25T00:00:00"
          ],
          [
           "2019-09-26T00:00:00"
          ],
          [
           "2019-09-27T00:00:00"
          ],
          [
           "2019-09-30T00:00:00"
          ],
          [
           "2019-10-01T00:00:00"
          ],
          [
           "2019-10-02T00:00:00"
          ],
          [
           "2019-10-03T00:00:00"
          ],
          [
           "2019-10-04T00:00:00"
          ],
          [
           "2019-10-07T00:00:00"
          ],
          [
           "2019-10-08T00:00:00"
          ],
          [
           "2019-10-09T00:00:00"
          ],
          [
           "2019-10-10T00:00:00"
          ],
          [
           "2019-10-11T00:00:00"
          ],
          [
           "2019-10-14T00:00:00"
          ],
          [
           "2019-10-15T00:00:00"
          ],
          [
           "2019-10-16T00:00:00"
          ],
          [
           "2019-10-17T00:00:00"
          ],
          [
           "2019-10-18T00:00:00"
          ],
          [
           "2019-10-21T00:00:00"
          ],
          [
           "2019-10-22T00:00:00"
          ],
          [
           "2019-10-23T00:00:00"
          ],
          [
           "2019-10-24T00:00:00"
          ],
          [
           "2019-10-25T00:00:00"
          ],
          [
           "2019-10-28T00:00:00"
          ],
          [
           "2019-10-29T00:00:00"
          ],
          [
           "2019-10-30T00:00:00"
          ],
          [
           "2019-10-31T00:00:00"
          ],
          [
           "2019-11-01T00:00:00"
          ],
          [
           "2019-11-04T00:00:00"
          ],
          [
           "2019-11-05T00:00:00"
          ],
          [
           "2019-11-06T00:00:00"
          ],
          [
           "2019-11-07T00:00:00"
          ],
          [
           "2019-11-08T00:00:00"
          ],
          [
           "2019-11-11T00:00:00"
          ],
          [
           "2019-11-12T00:00:00"
          ],
          [
           "2019-11-13T00:00:00"
          ],
          [
           "2019-11-14T00:00:00"
          ],
          [
           "2019-11-15T00:00:00"
          ],
          [
           "2019-11-18T00:00:00"
          ],
          [
           "2019-11-19T00:00:00"
          ],
          [
           "2019-11-20T00:00:00"
          ],
          [
           "2019-11-21T00:00:00"
          ],
          [
           "2019-11-22T00:00:00"
          ],
          [
           "2019-11-25T00:00:00"
          ],
          [
           "2019-11-26T00:00:00"
          ],
          [
           "2019-11-27T00:00:00"
          ],
          [
           "2019-11-28T00:00:00"
          ],
          [
           "2019-11-29T00:00:00"
          ],
          [
           "2019-12-02T00:00:00"
          ],
          [
           "2019-12-03T00:00:00"
          ],
          [
           "2019-12-04T00:00:00"
          ],
          [
           "2019-12-05T00:00:00"
          ],
          [
           "2019-12-06T00:00:00"
          ],
          [
           "2019-12-09T00:00:00"
          ],
          [
           "2019-12-10T00:00:00"
          ],
          [
           "2019-12-11T00:00:00"
          ],
          [
           "2019-12-12T00:00:00"
          ],
          [
           "2019-12-13T00:00:00"
          ],
          [
           "2019-12-16T00:00:00"
          ],
          [
           "2019-12-17T00:00:00"
          ],
          [
           "2019-12-18T00:00:00"
          ],
          [
           "2019-12-19T00:00:00"
          ],
          [
           "2019-12-20T00:00:00"
          ],
          [
           "2019-12-23T00:00:00"
          ],
          [
           "2019-12-24T00:00:00"
          ],
          [
           "2019-12-25T00:00:00"
          ],
          [
           "2019-12-26T00:00:00"
          ],
          [
           "2019-12-27T00:00:00"
          ],
          [
           "2019-12-30T00:00:00"
          ],
          [
           "2019-12-31T00:00:00"
          ],
          [
           "2020-01-01T00:00:00"
          ],
          [
           "2020-01-02T00:00:00"
          ],
          [
           "2020-01-03T00:00:00"
          ],
          [
           "2020-01-06T00:00:00"
          ],
          [
           "2020-01-07T00:00:00"
          ],
          [
           "2020-01-08T00:00:00"
          ],
          [
           "2020-01-09T00:00:00"
          ],
          [
           "2020-01-10T00:00:00"
          ],
          [
           "2020-01-13T00:00:00"
          ],
          [
           "2020-01-14T00:00:00"
          ],
          [
           "2020-01-15T00:00:00"
          ],
          [
           "2020-01-16T00:00:00"
          ],
          [
           "2020-01-17T00:00:00"
          ],
          [
           "2020-01-20T00:00:00"
          ],
          [
           "2020-01-21T00:00:00"
          ],
          [
           "2020-01-22T00:00:00"
          ],
          [
           "2020-01-23T00:00:00"
          ],
          [
           "2020-01-24T00:00:00"
          ],
          [
           "2020-01-27T00:00:00"
          ],
          [
           "2020-01-28T00:00:00"
          ],
          [
           "2020-01-29T00:00:00"
          ],
          [
           "2020-01-30T00:00:00"
          ],
          [
           "2020-01-31T00:00:00"
          ],
          [
           "2020-02-03T00:00:00"
          ],
          [
           "2020-02-04T00:00:00"
          ],
          [
           "2020-02-05T00:00:00"
          ],
          [
           "2020-02-06T00:00:00"
          ],
          [
           "2020-02-07T00:00:00"
          ],
          [
           "2020-02-10T00:00:00"
          ],
          [
           "2020-02-11T00:00:00"
          ],
          [
           "2020-02-12T00:00:00"
          ],
          [
           "2020-02-13T00:00:00"
          ],
          [
           "2020-02-14T00:00:00"
          ],
          [
           "2020-02-17T00:00:00"
          ],
          [
           "2020-02-18T00:00:00"
          ],
          [
           "2020-02-19T00:00:00"
          ],
          [
           "2020-02-20T00:00:00"
          ],
          [
           "2020-02-21T00:00:00"
          ],
          [
           "2020-02-24T00:00:00"
          ],
          [
           "2020-02-25T00:00:00"
          ],
          [
           "2020-02-26T00:00:00"
          ],
          [
           "2020-02-27T00:00:00"
          ],
          [
           "2020-02-28T00:00:00"
          ],
          [
           "2020-03-02T00:00:00"
          ],
          [
           "2020-03-03T00:00:00"
          ],
          [
           "2020-03-04T00:00:00"
          ],
          [
           "2020-03-05T00:00:00"
          ],
          [
           "2020-03-06T00:00:00"
          ],
          [
           "2020-03-09T00:00:00"
          ],
          [
           "2020-03-10T00:00:00"
          ],
          [
           "2020-03-11T00:00:00"
          ],
          [
           "2020-03-12T00:00:00"
          ],
          [
           "2020-03-13T00:00:00"
          ],
          [
           "2020-03-16T00:00:00"
          ],
          [
           "2020-03-17T00:00:00"
          ],
          [
           "2020-03-18T00:00:00"
          ],
          [
           "2020-03-19T00:00:00"
          ],
          [
           "2020-03-20T00:00:00"
          ],
          [
           "2020-03-23T00:00:00"
          ],
          [
           "2020-03-24T00:00:00"
          ],
          [
           "2020-03-25T00:00:00"
          ],
          [
           "2020-03-26T00:00:00"
          ],
          [
           "2020-03-27T00:00:00"
          ],
          [
           "2020-03-30T00:00:00"
          ],
          [
           "2020-03-31T00:00:00"
          ],
          [
           "2020-04-01T00:00:00"
          ],
          [
           "2020-04-02T00:00:00"
          ],
          [
           "2020-04-03T00:00:00"
          ],
          [
           "2020-04-06T00:00:00"
          ],
          [
           "2020-04-07T00:00:00"
          ],
          [
           "2020-04-08T00:00:00"
          ],
          [
           "2020-04-09T00:00:00"
          ],
          [
           "2020-04-10T00:00:00"
          ],
          [
           "2020-04-13T00:00:00"
          ],
          [
           "2020-04-14T00:00:00"
          ],
          [
           "2020-04-15T00:00:00"
          ],
          [
           "2020-04-16T00:00:00"
          ],
          [
           "2020-04-17T00:00:00"
          ],
          [
           "2020-04-20T00:00:00"
          ],
          [
           "2020-04-21T00:00:00"
          ],
          [
           "2020-04-22T00:00:00"
          ],
          [
           "2020-04-23T00:00:00"
          ],
          [
           "2020-04-24T00:00:00"
          ],
          [
           "2020-04-27T00:00:00"
          ],
          [
           "2020-04-28T00:00:00"
          ],
          [
           "2020-04-29T00:00:00"
          ],
          [
           "2020-04-30T00:00:00"
          ],
          [
           "2020-05-01T00:00:00"
          ],
          [
           "2020-05-04T00:00:00"
          ],
          [
           "2020-05-05T00:00:00"
          ],
          [
           "2020-05-06T00:00:00"
          ],
          [
           "2020-05-07T00:00:00"
          ],
          [
           "2020-05-08T00:00:00"
          ],
          [
           "2020-05-11T00:00:00"
          ],
          [
           "2020-05-12T00:00:00"
          ],
          [
           "2020-05-13T00:00:00"
          ],
          [
           "2020-05-14T00:00:00"
          ],
          [
           "2020-05-15T00:00:00"
          ],
          [
           "2020-05-18T00:00:00"
          ],
          [
           "2020-05-19T00:00:00"
          ],
          [
           "2020-05-20T00:00:00"
          ],
          [
           "2020-05-21T00:00:00"
          ],
          [
           "2020-05-22T00:00:00"
          ],
          [
           "2020-05-25T00:00:00"
          ],
          [
           "2020-05-26T00:00:00"
          ],
          [
           "2020-05-27T00:00:00"
          ],
          [
           "2020-05-28T00:00:00"
          ],
          [
           "2020-05-29T00:00:00"
          ],
          [
           "2020-06-01T00:00:00"
          ],
          [
           "2020-06-02T00:00:00"
          ],
          [
           "2020-06-03T00:00:00"
          ],
          [
           "2020-06-04T00:00:00"
          ],
          [
           "2020-06-05T00:00:00"
          ],
          [
           "2020-06-08T00:00:00"
          ],
          [
           "2020-06-09T00:00:00"
          ],
          [
           "2020-06-10T00:00:00"
          ],
          [
           "2020-06-11T00:00:00"
          ],
          [
           "2020-06-12T00:00:00"
          ],
          [
           "2020-06-15T00:00:00"
          ],
          [
           "2020-06-16T00:00:00"
          ],
          [
           "2020-06-17T00:00:00"
          ],
          [
           "2020-06-18T00:00:00"
          ],
          [
           "2020-06-19T00:00:00"
          ],
          [
           "2020-06-22T00:00:00"
          ],
          [
           "2020-06-23T00:00:00"
          ],
          [
           "2020-06-24T00:00:00"
          ],
          [
           "2020-06-25T00:00:00"
          ],
          [
           "2020-06-26T00:00:00"
          ],
          [
           "2020-06-29T00:00:00"
          ],
          [
           "2020-06-30T00:00:00"
          ],
          [
           "2020-07-01T00:00:00"
          ],
          [
           "2020-07-02T00:00:00"
          ],
          [
           "2020-07-03T00:00:00"
          ],
          [
           "2020-07-06T00:00:00"
          ],
          [
           "2020-07-07T00:00:00"
          ],
          [
           "2020-07-08T00:00:00"
          ],
          [
           "2020-07-09T00:00:00"
          ],
          [
           "2020-07-10T00:00:00"
          ],
          [
           "2020-07-13T00:00:00"
          ],
          [
           "2020-07-14T00:00:00"
          ],
          [
           "2020-07-15T00:00:00"
          ],
          [
           "2020-07-16T00:00:00"
          ],
          [
           "2020-07-17T00:00:00"
          ],
          [
           "2020-07-20T00:00:00"
          ],
          [
           "2020-07-21T00:00:00"
          ],
          [
           "2020-07-22T00:00:00"
          ],
          [
           "2020-07-23T00:00:00"
          ],
          [
           "2020-07-24T00:00:00"
          ],
          [
           "2020-07-27T00:00:00"
          ],
          [
           "2020-07-28T00:00:00"
          ],
          [
           "2020-07-29T00:00:00"
          ],
          [
           "2020-07-30T00:00:00"
          ],
          [
           "2020-07-31T00:00:00"
          ],
          [
           "2020-08-03T00:00:00"
          ],
          [
           "2020-08-04T00:00:00"
          ],
          [
           "2020-08-05T00:00:00"
          ],
          [
           "2020-08-06T00:00:00"
          ],
          [
           "2020-08-07T00:00:00"
          ],
          [
           "2020-08-10T00:00:00"
          ],
          [
           "2020-08-11T00:00:00"
          ],
          [
           "2020-08-12T00:00:00"
          ],
          [
           "2020-08-13T00:00:00"
          ],
          [
           "2020-08-14T00:00:00"
          ],
          [
           "2020-08-17T00:00:00"
          ],
          [
           "2020-08-18T00:00:00"
          ],
          [
           "2020-08-19T00:00:00"
          ],
          [
           "2020-08-20T00:00:00"
          ],
          [
           "2020-08-21T00:00:00"
          ],
          [
           "2020-08-24T00:00:00"
          ],
          [
           "2020-08-25T00:00:00"
          ],
          [
           "2020-08-26T00:00:00"
          ],
          [
           "2020-08-27T00:00:00"
          ],
          [
           "2020-08-28T00:00:00"
          ],
          [
           "2020-08-31T00:00:00"
          ],
          [
           "2020-09-01T00:00:00"
          ],
          [
           "2020-09-02T00:00:00"
          ],
          [
           "2020-09-03T00:00:00"
          ],
          [
           "2020-09-04T00:00:00"
          ],
          [
           "2020-09-07T00:00:00"
          ],
          [
           "2020-09-08T00:00:00"
          ],
          [
           "2020-09-09T00:00:00"
          ],
          [
           "2020-09-10T00:00:00"
          ],
          [
           "2020-09-11T00:00:00"
          ],
          [
           "2020-09-14T00:00:00"
          ],
          [
           "2020-09-15T00:00:00"
          ],
          [
           "2020-09-16T00:00:00"
          ],
          [
           "2020-09-17T00:00:00"
          ],
          [
           "2020-09-18T00:00:00"
          ],
          [
           "2020-09-21T00:00:00"
          ],
          [
           "2020-09-22T00:00:00"
          ],
          [
           "2020-09-23T00:00:00"
          ],
          [
           "2020-09-24T00:00:00"
          ],
          [
           "2020-09-25T00:00:00"
          ],
          [
           "2020-09-28T00:00:00"
          ],
          [
           "2020-09-29T00:00:00"
          ],
          [
           "2020-09-30T00:00:00"
          ],
          [
           "2020-10-01T00:00:00"
          ],
          [
           "2020-10-02T00:00:00"
          ],
          [
           "2020-10-05T00:00:00"
          ],
          [
           "2020-10-06T00:00:00"
          ],
          [
           "2020-10-07T00:00:00"
          ],
          [
           "2020-10-08T00:00:00"
          ],
          [
           "2020-10-09T00:00:00"
          ],
          [
           "2020-10-12T00:00:00"
          ],
          [
           "2020-10-13T00:00:00"
          ],
          [
           "2020-10-14T00:00:00"
          ],
          [
           "2020-10-15T00:00:00"
          ],
          [
           "2020-10-16T00:00:00"
          ],
          [
           "2020-10-19T00:00:00"
          ],
          [
           "2020-10-20T00:00:00"
          ],
          [
           "2020-10-21T00:00:00"
          ],
          [
           "2020-10-22T00:00:00"
          ],
          [
           "2020-10-23T00:00:00"
          ],
          [
           "2020-10-26T00:00:00"
          ],
          [
           "2020-10-27T00:00:00"
          ],
          [
           "2020-10-28T00:00:00"
          ],
          [
           "2020-10-29T00:00:00"
          ],
          [
           "2020-10-30T00:00:00"
          ],
          [
           "2020-11-02T00:00:00"
          ],
          [
           "2020-11-03T00:00:00"
          ],
          [
           "2020-11-04T00:00:00"
          ],
          [
           "2020-11-05T00:00:00"
          ],
          [
           "2020-11-06T00:00:00"
          ],
          [
           "2020-11-09T00:00:00"
          ],
          [
           "2020-11-10T00:00:00"
          ],
          [
           "2020-11-11T00:00:00"
          ],
          [
           "2020-11-12T00:00:00"
          ],
          [
           "2020-11-13T00:00:00"
          ],
          [
           "2020-11-16T00:00:00"
          ],
          [
           "2020-11-17T00:00:00"
          ],
          [
           "2020-11-18T00:00:00"
          ],
          [
           "2020-11-19T00:00:00"
          ],
          [
           "2020-11-20T00:00:00"
          ],
          [
           "2020-11-23T00:00:00"
          ],
          [
           "2020-11-24T00:00:00"
          ],
          [
           "2020-11-25T00:00:00"
          ],
          [
           "2020-11-26T00:00:00"
          ],
          [
           "2020-11-27T00:00:00"
          ],
          [
           "2020-11-30T00:00:00"
          ],
          [
           "2020-12-01T00:00:00"
          ],
          [
           "2020-12-02T00:00:00"
          ],
          [
           "2020-12-03T00:00:00"
          ],
          [
           "2020-12-04T00:00:00"
          ],
          [
           "2020-12-07T00:00:00"
          ],
          [
           "2020-12-08T00:00:00"
          ],
          [
           "2020-12-09T00:00:00"
          ],
          [
           "2020-12-10T00:00:00"
          ],
          [
           "2020-12-11T00:00:00"
          ],
          [
           "2020-12-14T00:00:00"
          ],
          [
           "2020-12-15T00:00:00"
          ],
          [
           "2020-12-16T00:00:00"
          ],
          [
           "2020-12-17T00:00:00"
          ],
          [
           "2020-12-18T00:00:00"
          ],
          [
           "2020-12-21T00:00:00"
          ],
          [
           "2020-12-22T00:00:00"
          ],
          [
           "2020-12-23T00:00:00"
          ],
          [
           "2020-12-24T00:00:00"
          ],
          [
           "2020-12-25T00:00:00"
          ],
          [
           "2020-12-28T00:00:00"
          ],
          [
           "2020-12-29T00:00:00"
          ],
          [
           "2020-12-30T00:00:00"
          ],
          [
           "2020-12-31T00:00:00"
          ],
          [
           "2021-01-01T00:00:00"
          ],
          [
           "2021-01-04T00:00:00"
          ],
          [
           "2021-01-05T00:00:00"
          ],
          [
           "2021-01-06T00:00:00"
          ],
          [
           "2021-01-07T00:00:00"
          ],
          [
           "2021-01-08T00:00:00"
          ],
          [
           "2021-01-11T00:00:00"
          ],
          [
           "2021-01-12T00:00:00"
          ],
          [
           "2021-01-13T00:00:00"
          ],
          [
           "2021-01-14T00:00:00"
          ],
          [
           "2021-01-15T00:00:00"
          ],
          [
           "2021-01-18T00:00:00"
          ],
          [
           "2021-01-19T00:00:00"
          ],
          [
           "2021-01-20T00:00:00"
          ],
          [
           "2021-01-21T00:00:00"
          ],
          [
           "2021-01-22T00:00:00"
          ],
          [
           "2021-01-25T00:00:00"
          ],
          [
           "2021-01-26T00:00:00"
          ],
          [
           "2021-01-27T00:00:00"
          ],
          [
           "2021-01-28T00:00:00"
          ],
          [
           "2021-01-29T00:00:00"
          ],
          [
           "2021-02-01T00:00:00"
          ],
          [
           "2021-02-02T00:00:00"
          ],
          [
           "2021-02-03T00:00:00"
          ],
          [
           "2021-02-04T00:00:00"
          ],
          [
           "2021-02-05T00:00:00"
          ],
          [
           "2021-02-08T00:00:00"
          ],
          [
           "2021-02-09T00:00:00"
          ],
          [
           "2021-02-10T00:00:00"
          ],
          [
           "2021-02-11T00:00:00"
          ],
          [
           "2021-02-12T00:00:00"
          ],
          [
           "2021-02-15T00:00:00"
          ],
          [
           "2021-02-16T00:00:00"
          ],
          [
           "2021-02-17T00:00:00"
          ],
          [
           "2021-02-18T00:00:00"
          ],
          [
           "2021-02-19T00:00:00"
          ],
          [
           "2021-02-22T00:00:00"
          ],
          [
           "2021-02-23T00:00:00"
          ],
          [
           "2021-02-24T00:00:00"
          ],
          [
           "2021-02-25T00:00:00"
          ],
          [
           "2021-02-26T00:00:00"
          ],
          [
           "2021-03-01T00:00:00"
          ],
          [
           "2021-03-02T00:00:00"
          ],
          [
           "2021-03-03T00:00:00"
          ],
          [
           "2021-03-04T00:00:00"
          ],
          [
           "2021-03-05T00:00:00"
          ],
          [
           "2021-03-08T00:00:00"
          ],
          [
           "2021-03-09T00:00:00"
          ],
          [
           "2021-03-10T00:00:00"
          ],
          [
           "2021-03-11T00:00:00"
          ],
          [
           "2021-03-12T00:00:00"
          ],
          [
           "2021-03-15T00:00:00"
          ],
          [
           "2021-03-16T00:00:00"
          ],
          [
           "2021-03-17T00:00:00"
          ],
          [
           "2021-03-18T00:00:00"
          ],
          [
           "2021-03-19T00:00:00"
          ],
          [
           "2021-03-22T00:00:00"
          ],
          [
           "2021-03-23T00:00:00"
          ],
          [
           "2021-03-24T00:00:00"
          ],
          [
           "2021-03-25T00:00:00"
          ],
          [
           "2021-03-26T00:00:00"
          ],
          [
           "2021-03-29T00:00:00"
          ],
          [
           "2021-03-30T00:00:00"
          ],
          [
           "2021-03-31T00:00:00"
          ],
          [
           "2021-04-01T00:00:00"
          ],
          [
           "2021-04-02T00:00:00"
          ],
          [
           "2021-04-05T00:00:00"
          ],
          [
           "2021-04-06T00:00:00"
          ],
          [
           "2021-04-07T00:00:00"
          ],
          [
           "2021-04-08T00:00:00"
          ],
          [
           "2021-04-09T00:00:00"
          ],
          [
           "2021-04-12T00:00:00"
          ],
          [
           "2021-04-13T00:00:00"
          ],
          [
           "2021-04-14T00:00:00"
          ],
          [
           "2021-04-15T00:00:00"
          ],
          [
           "2021-04-16T00:00:00"
          ],
          [
           "2021-04-19T00:00:00"
          ],
          [
           "2021-04-20T00:00:00"
          ],
          [
           "2021-04-21T00:00:00"
          ],
          [
           "2021-04-22T00:00:00"
          ],
          [
           "2021-04-23T00:00:00"
          ],
          [
           "2021-04-26T00:00:00"
          ],
          [
           "2021-04-27T00:00:00"
          ],
          [
           "2021-04-28T00:00:00"
          ],
          [
           "2021-04-29T00:00:00"
          ],
          [
           "2021-04-30T00:00:00"
          ],
          [
           "2021-05-03T00:00:00"
          ],
          [
           "2021-05-04T00:00:00"
          ],
          [
           "2021-05-05T00:00:00"
          ],
          [
           "2021-05-06T00:00:00"
          ],
          [
           "2021-05-07T00:00:00"
          ],
          [
           "2021-05-10T00:00:00"
          ],
          [
           "2021-05-11T00:00:00"
          ],
          [
           "2021-05-12T00:00:00"
          ],
          [
           "2021-05-13T00:00:00"
          ],
          [
           "2021-05-14T00:00:00"
          ],
          [
           "2021-05-17T00:00:00"
          ],
          [
           "2021-05-18T00:00:00"
          ],
          [
           "2021-05-19T00:00:00"
          ],
          [
           "2021-05-20T00:00:00"
          ],
          [
           "2021-05-21T00:00:00"
          ],
          [
           "2021-05-24T00:00:00"
          ],
          [
           "2021-05-25T00:00:00"
          ],
          [
           "2021-05-26T00:00:00"
          ],
          [
           "2021-05-27T00:00:00"
          ],
          [
           "2021-05-28T00:00:00"
          ],
          [
           "2021-05-31T00:00:00"
          ],
          [
           "2021-06-01T00:00:00"
          ],
          [
           "2021-06-02T00:00:00"
          ],
          [
           "2021-06-03T00:00:00"
          ],
          [
           "2021-06-04T00:00:00"
          ],
          [
           "2021-06-07T00:00:00"
          ],
          [
           "2021-06-08T00:00:00"
          ],
          [
           "2021-06-09T00:00:00"
          ],
          [
           "2021-06-10T00:00:00"
          ],
          [
           "2021-06-11T00:00:00"
          ],
          [
           "2021-06-14T00:00:00"
          ],
          [
           "2021-06-15T00:00:00"
          ],
          [
           "2021-06-16T00:00:00"
          ],
          [
           "2021-06-17T00:00:00"
          ],
          [
           "2021-06-18T00:00:00"
          ],
          [
           "2021-06-21T00:00:00"
          ],
          [
           "2021-06-22T00:00:00"
          ],
          [
           "2021-06-23T00:00:00"
          ],
          [
           "2021-06-24T00:00:00"
          ],
          [
           "2021-06-25T00:00:00"
          ],
          [
           "2021-06-28T00:00:00"
          ],
          [
           "2021-06-29T00:00:00"
          ],
          [
           "2021-06-30T00:00:00"
          ],
          [
           "2021-07-01T00:00:00"
          ],
          [
           "2021-07-02T00:00:00"
          ],
          [
           "2021-07-05T00:00:00"
          ],
          [
           "2021-07-06T00:00:00"
          ],
          [
           "2021-07-07T00:00:00"
          ],
          [
           "2021-07-08T00:00:00"
          ],
          [
           "2021-07-09T00:00:00"
          ],
          [
           "2021-07-12T00:00:00"
          ],
          [
           "2021-07-13T00:00:00"
          ],
          [
           "2021-07-14T00:00:00"
          ],
          [
           "2021-07-15T00:00:00"
          ],
          [
           "2021-07-16T00:00:00"
          ],
          [
           "2021-07-19T00:00:00"
          ],
          [
           "2021-07-20T00:00:00"
          ],
          [
           "2021-07-21T00:00:00"
          ],
          [
           "2021-07-22T00:00:00"
          ],
          [
           "2021-07-23T00:00:00"
          ],
          [
           "2021-07-26T00:00:00"
          ],
          [
           "2021-07-27T00:00:00"
          ],
          [
           "2021-07-28T00:00:00"
          ],
          [
           "2021-07-29T00:00:00"
          ],
          [
           "2021-07-30T00:00:00"
          ],
          [
           "2021-08-02T00:00:00"
          ],
          [
           "2021-08-03T00:00:00"
          ],
          [
           "2021-08-04T00:00:00"
          ],
          [
           "2021-08-05T00:00:00"
          ],
          [
           "2021-08-06T00:00:00"
          ],
          [
           "2021-08-09T00:00:00"
          ],
          [
           "2021-08-10T00:00:00"
          ],
          [
           "2021-08-11T00:00:00"
          ],
          [
           "2021-08-12T00:00:00"
          ],
          [
           "2021-08-13T00:00:00"
          ],
          [
           "2021-08-16T00:00:00"
          ],
          [
           "2021-08-17T00:00:00"
          ],
          [
           "2021-08-18T00:00:00"
          ],
          [
           "2021-08-19T00:00:00"
          ],
          [
           "2021-08-20T00:00:00"
          ],
          [
           "2021-08-23T00:00:00"
          ],
          [
           "2021-08-24T00:00:00"
          ],
          [
           "2021-08-25T00:00:00"
          ],
          [
           "2021-08-26T00:00:00"
          ],
          [
           "2021-08-27T00:00:00"
          ],
          [
           "2021-08-30T00:00:00"
          ],
          [
           "2021-08-31T00:00:00"
          ],
          [
           "2021-09-01T00:00:00"
          ],
          [
           "2021-09-02T00:00:00"
          ],
          [
           "2021-09-03T00:00:00"
          ],
          [
           "2021-09-06T00:00:00"
          ],
          [
           "2021-09-07T00:00:00"
          ],
          [
           "2021-09-08T00:00:00"
          ],
          [
           "2021-09-09T00:00:00"
          ],
          [
           "2021-09-10T00:00:00"
          ],
          [
           "2021-09-13T00:00:00"
          ],
          [
           "2021-09-14T00:00:00"
          ],
          [
           "2021-09-15T00:00:00"
          ],
          [
           "2021-09-16T00:00:00"
          ],
          [
           "2021-09-17T00:00:00"
          ],
          [
           "2021-09-20T00:00:00"
          ],
          [
           "2021-09-21T00:00:00"
          ],
          [
           "2021-09-22T00:00:00"
          ],
          [
           "2021-09-23T00:00:00"
          ],
          [
           "2021-09-24T00:00:00"
          ],
          [
           "2021-09-27T00:00:00"
          ],
          [
           "2021-09-28T00:00:00"
          ],
          [
           "2021-09-29T00:00:00"
          ],
          [
           "2021-09-30T00:00:00"
          ],
          [
           "2021-10-01T00:00:00"
          ],
          [
           "2021-10-04T00:00:00"
          ],
          [
           "2021-10-05T00:00:00"
          ],
          [
           "2021-10-06T00:00:00"
          ],
          [
           "2021-10-07T00:00:00"
          ],
          [
           "2021-10-08T00:00:00"
          ],
          [
           "2021-10-11T00:00:00"
          ],
          [
           "2021-10-12T00:00:00"
          ],
          [
           "2021-10-13T00:00:00"
          ],
          [
           "2021-10-14T00:00:00"
          ],
          [
           "2021-10-15T00:00:00"
          ],
          [
           "2021-10-18T00:00:00"
          ],
          [
           "2021-10-19T00:00:00"
          ],
          [
           "2021-10-20T00:00:00"
          ],
          [
           "2021-10-21T00:00:00"
          ],
          [
           "2021-10-22T00:00:00"
          ],
          [
           "2021-10-25T00:00:00"
          ],
          [
           "2021-10-26T00:00:00"
          ],
          [
           "2021-10-27T00:00:00"
          ],
          [
           "2021-10-28T00:00:00"
          ],
          [
           "2021-10-29T00:00:00"
          ],
          [
           "2021-11-01T00:00:00"
          ],
          [
           "2021-11-02T00:00:00"
          ],
          [
           "2021-11-03T00:00:00"
          ],
          [
           "2021-11-04T00:00:00"
          ],
          [
           "2021-11-05T00:00:00"
          ],
          [
           "2021-11-08T00:00:00"
          ],
          [
           "2021-11-09T00:00:00"
          ],
          [
           "2021-11-10T00:00:00"
          ],
          [
           "2021-11-11T00:00:00"
          ],
          [
           "2021-11-12T00:00:00"
          ],
          [
           "2021-11-15T00:00:00"
          ],
          [
           "2021-11-16T00:00:00"
          ],
          [
           "2021-11-17T00:00:00"
          ],
          [
           "2021-11-18T00:00:00"
          ],
          [
           "2021-11-19T00:00:00"
          ],
          [
           "2021-11-22T00:00:00"
          ],
          [
           "2021-11-23T00:00:00"
          ],
          [
           "2021-11-24T00:00:00"
          ],
          [
           "2021-11-25T00:00:00"
          ],
          [
           "2021-11-26T00:00:00"
          ],
          [
           "2021-11-29T00:00:00"
          ],
          [
           "2021-11-30T00:00:00"
          ],
          [
           "2021-12-01T00:00:00"
          ],
          [
           "2021-12-02T00:00:00"
          ],
          [
           "2021-12-03T00:00:00"
          ],
          [
           "2021-12-06T00:00:00"
          ],
          [
           "2021-12-07T00:00:00"
          ],
          [
           "2021-12-08T00:00:00"
          ],
          [
           "2021-12-09T00:00:00"
          ],
          [
           "2021-12-10T00:00:00"
          ],
          [
           "2021-12-13T00:00:00"
          ],
          [
           "2021-12-14T00:00:00"
          ],
          [
           "2021-12-15T00:00:00"
          ],
          [
           "2021-12-16T00:00:00"
          ],
          [
           "2021-12-17T00:00:00"
          ],
          [
           "2021-12-20T00:00:00"
          ],
          [
           "2021-12-21T00:00:00"
          ],
          [
           "2021-12-22T00:00:00"
          ],
          [
           "2021-12-23T00:00:00"
          ],
          [
           "2021-12-24T00:00:00"
          ],
          [
           "2021-12-27T00:00:00"
          ],
          [
           "2021-12-28T00:00:00"
          ],
          [
           "2021-12-29T00:00:00"
          ],
          [
           "2021-12-30T00:00:00"
          ],
          [
           "2021-12-31T00:00:00"
          ]
         ],
         "hovertemplate": "Asset 2=%{x}<br>Asset 3=%{y}<br>date=%{customdata[0]}<extra></extra>",
         "legendgroup": "",
         "marker": {
          "color": "#636efa",
          "symbol": "circle"
         },
         "mode": "markers",
         "name": "",
         "orientation": "v",
         "showlegend": false,
         "type": "scatter",
         "x": [
          -1.610594130279168,
          2.091669698072014,
          1.2649207197577161,
          0.1055594651653652,
          1.282952548330402,
          0.06940829429118334,
          0.03468007629615496,
          -0.17334026694400173,
          0.6598367772182562,
          0.7935138864930201,
          0.051343487934274845,
          1.744782757440989,
          -0.20174848688634012,
          -0.6064690026954198,
          -0.5762711864406925,
          0.2386634844868796,
          1.0374149659864007,
          -1.2119171856589839,
          0.11927074459022959,
          0.8509189925119074,
          1.4849814377320258,
          0.3658131027602222,
          0.08283631544069787,
          0.7283562324118446,
          -0.016433853738682568,
          -1.4957264957265008,
          -0.2502920073418986,
          0.9200401472064003,
          1.2100116028510106,
          0.2947920078611016,
          -0.3919007184846475,
          1.0819672131147424,
          0.3243593902043676,
          -0.03233107015841022,
          0.25873221216039477,
          -0.3064516129032144,
          0.5986086393787243,
          0.6915406883242184,
          -0.399297236863112,
          -0.5612572161642156,
          0.22577003709081034,
          0.01609010458566105,
          0,
          0.032175032175032994,
          -0.4985525892569893,
          -0.8566348795862189,
          -0.8477339419628386,
          1.5455442288720815,
          0.712435233160627,
          0.6752411575562617,
          -0.03193867773872974,
          0.5271565495207611,
          -0.09534403305261316,
          0.8589152218864415,
          -1.214319507964043,
          1.0217113665389532,
          -1.1378002528445044,
          -0.5115089514066499,
          0.5944730077120782,
          -0.5590161316083517,
          0.17667844522965453,
          0.833734167067509,
          1.065352202257919,
          0.2045311516677145,
          0.6751452347307254,
          -0.34310667498440056,
          0.547730829420978,
          -0.03112840466927385,
          -0.295811925891317,
          0.15615240474703707,
          0.14031805425629928,
          0.4203643157403128,
          -0.031007751937972974,
          0.27915632754340675,
          -0.3402412619857681,
          -0.07759155803848122,
          0,
          0,
          1.0560646063053043,
          0.19978484708777508,
          -0.19938650306750796,
          0.0614722606423989,
          0.4300414682844405,
          -0.41290717235050456,
          0,
          -0.6756756756756562,
          0.8348794063079497,
          -0.6746396810794163,
          -0.9416486569929045,
          -0.14025245441793732,
          -1.5449438202247148,
          -0.4279600570613455,
          -0.5253104106972245,
          1.0561689870379274,
          0.23752969121138856,
          1.2954186413902007,
          -0.34310667498440056,
          -1.0485133020344368,
          0.5219041594180048,
          -0.15733165512901595,
          -1.3867002836432374,
          0.19175455417066642,
          0.11164274322169976,
          -0.12744941851203123,
          -1.7546658159196107,
          0.2922552362396567,
          -0.631374453618258,
          -0.3910068426197557,
          1.144913313706264,
          0.9540750323415184,
          0.6887714239948726,
          1.431753102131707,
          0.8155583437892053,
          -0.3266957062850176,
          -0.35898236304040276,
          0.21929824561402822,
          0.03125976867771258,
          0.20312500000001138,
          1.029159519725571,
          -0.20064824818647195,
          0.7578100835137774,
          0.5679201841903261,
          -0.24420024420023825,
          -0.6425948592411422,
          -0.40036957191250816,
          -0.09276437847867881,
          0.4797276385020178,
          1.0164792853842612,
          -0.0762311327946292,
          0.9154714678059068,
          0.347747202902936,
          -0.6930842248003671,
          -0.136549840691862,
          -0.015192950470963753,
          0.5470293268500125,
          0.3324769533020971,
          0.1807501129688252,
          0.13531799729363753,
          0.030030030030030793,
          -0.5854097868507925,
          -0.6039559112184844,
          0.6835789153881202,
          -0.6336753168376505,
          0.39477679927117926,
          0.5142165759225541,
          0.10532651218780273,
          0.3908011423417867,
          -0.044916903728086315,
          -0.20970641102458276,
          0.03002101471030989,
          -0.10504201680674322,
          -3.0644434429923217,
          -1.7666201766620253,
          -0.6467897144660143,
          0.30168307399174477,
          2.200411587779021,
          -0.5885997521685035,
          -0.467435338111573,
          0.9549154664996675,
          -1.783222204993012,
          -0.7420271550363244,
          1.4474312072530673,
          1.3640639698965351,
          -0.2784222737819096,
          0.263688537304173,
          -0.3558168316831712,
          -1.304145319049833,
          -0.3460751927009683,
          0.3472770323599141,
          0.14157621519583194,
          1.3666352497643892,
          -0.04649000464900779,
          -0.2790697674418675,
          -0.3575870646766075,
          0.9829926665626402,
          1.6378244746600787,
          0,
          0.12161751292186383,
          -0.8047373215912564,
          1.0408694321138854,
          0.6817148916830655,
          0.03009328919653384,
          -0.5415162454873783,
          0.07562008469449077,
          -0.060450355145850024,
          0.7863299561470152,
          -0.3450862715678947,
          -0.5871725383920594,
          -0.03028926245645995,
          -0.6514164520527177,
          -0.13723696248857312,
          0.5038937242327018,
          -0.19750835612274598,
          -0.5480286192723416,
          -2.6174804836981473,
          0.22005658597924488,
          1.5526976160602342,
          0.6023166023166114,
          -1.9496469143383668,
          0.5949585094723809,
          1.1206225680933888,
          1.554563644759116,
          -0.7881176113974131,
          0.9318667888786979,
          -0.22703193582561523,
          0.18203883495146092,
          -0.21199273167777638,
          0.3793626707132054,
          0.25699168556310265,
          -0.331724969843193,
          0.3782148260211716,
          0.43707611152979553,
          0.3901560624249679,
          0.20926756352765852,
          -0.2834128878281872,
          -0.3290949887808492,
          1.0805943268797757,
          0.6978470675575472,
          -0.14744913005012475,
          -0.014766686355588044,
          0.5907546891153481,
          -0.33768903244751414,
          -0.05892751915143352,
          0.6191037735849096,
          -0.2783474948725706,
          -0.029381519024522653,
          0.7788390889052307,
          0.17497812773403765,
          0,
          -0.16011644832606514,
          -0.5394372357486593,
          0.11726766344179725,
          0.8638360175695623,
          0.2612861082885595,
          0.30403938033880024,
          0.11547344110854796,
          -0.14417531718569002,
          -1.0684377707190567,
          -1.1383537653239872,
          1.2695600826690376,
          -0.21865889212827963,
          1.2417823228633948,
          -0.12987012987012744,
          -0.24562924432883176,
          -0.04345307068368,
          0.7824952905376001,
          -0.02875629043852274,
          1.0786710772328478,
          -0.04268639726806601,
          0.09964412811386456,
          0.17064846416382687,
          0.6956274843838848,
          0.05639362752006927,
          0.028180921516145485,
          0,
          0,
          0.46485420481757495,
          -0.7010656197420034,
          -0.028240609997187867,
          0,
          0.46610169491524933,
          0.042176296921148146,
          -0.15458122540753066,
          0.2674173117522771,
          0.1684446939921435,
          0.7707399103139042,
          0.12515644555694383,
          0.04166666666667324,
          0.24989587671802946,
          0.318515441074635,
          0.24848150193265117,
          0.550812448361325,
          0.02738975623118111,
          0.054764512595817536,
          0.12315270935962534,
          -0.7106737734043969,
          0.23399862353748715,
          -2.1148036253776317,
          1.0101010101010022,
          0.1805555555555546,
          -0.9150145570497724,
          -0.4197565412060889,
          0.3231698749473007,
          1.540616246498605,
          0.6206896551724022,
          0.6991089787525717,
          -0.1905799074326104,
          0,
          0.7774140752864084,
          0.3924753011232959,
          0.08088433540036881,
          -0.02693965517240378,
          0.32336297493935623,
          -0.8998119795863407,
          0.9350860550210239,
          -1.2755102040816488,
          -0.08159934720523523,
          -3.1169184701238475,
          -1.64372014610846,
          -0.5856306241965412,
          -3.908045977011502,
          -4.336124401913879,
          3.2666458268208713,
          1.0443469047979743,
          0.43439185140801,
          0.3430275913497418,
          -3.7158145065398336,
          -4.955233096634761,
          -1.5267175572519083,
          0.5772719775688684,
          -9.544112823876688,
          1.1058738216098687,
          -1.111708804016496,
          -0.3807796917497902,
          -5.314888969785211,
          0.057670126874272955,
          -0.7108549471661815,
          -6.1145510835913175,
          9.25391591096453,
          3.527636295038679,
          3.6989795918367347,
          -1.6693024073097948,
          2.126518942101505,
          1.2598425196850436,
          -5.184033177812346,
          -0.09112447603425788,
          -0.4013133892739833,
          4.560439560439552,
          4.326502014363305,
          -0.13431833445266952,
          2.723604572965719,
          0,
          0,
          1.047463175122737,
          -1.5387107223841985,
          0.509952294785346,
          1.7839607201309196,
          0.7557485126225953,
          -4.356846473029023,
          2.035708326380776,
          1.4554374488961612,
          -1.273372018052882,
          2.840816326530619,
          0.28575964438798007,
          1.7571632103846773,
          -0.7311761045426137,
          0,
          -3.35370631562452,
          2.6755310523755704,
          -0.8686039166140271,
          0.8284212203281652,
          1.0428187707378747,
          0.10946051602815597,
          0.1405810684161049,
          -2.9324598346591677,
          -1.3498312710911222,
          1.058804365531866,
          4.352030947775611,
          0.1699104108742522,
          0.6630686198920694,
          -1.0876225490196172,
          -0.20133188787361223,
          1.8466790813159564,
          0.45710802986440285,
          -0.5308660700743286,
          1.9060689234522656,
          -1.197067185395775,
          1.1207027108889822,
          0.40437322150668087,
          1.924224343675401,
          -0.11707888189666923,
          2.842490842490833,
          0.09972930616898945,
          -0.014232849416459184,
          -0.5551601423487514,
          -3.406813627254515,
          -1.5856550088915222,
          -0.5571450082818814,
          3.649303452453049,
          -0.04382761139517427,
          -0.2923121894183061,
          0.5863383172090328,
          -0.9618187117458595,
          1.5008828722778371,
          -3.0153667729776816,
          -0.4633781763826546,
          -0.39044901636884594,
          0.42213176541535824,
          1.1409698243507032,
          0.9945079412201352,
          1.2492651381540176,
          -0.6241834809116198,
          1.738241308793483,
          -0.05743000717876375,
          -1.0056026432983909,
          -0.565955594253371,
          0.9924109748978653,
          2.1676300578034655,
          -1.8104667609618115,
          1.6709881878421053,
          -0.5383961462170386,
          0.38461538461536604,
          0.5108556832694781,
          1.129464915996042,
          -0.3769370375540904,
          0.43441704035873874,
          -1.6603878889353798,
          0.04256526674233369,
          0.41128917883986305,
          0.15536723163841643,
          -0.3666619658722082,
          0.3113941967445118,
          1.5944687455905076,
          0.15277777777778717,
          0.8181944251837513,
          -0.1375515818432056,
          0.716253443526189,
          0.13676148796498164,
          0.7511608850040999,
          0.05422258370609344,
          0.06774149844194188,
          -0.09477389656104776,
          0.16262366174276618,
          0.12176971992966339,
          0.35135135135137097,
          -0.6598437920818857,
          0.32533550223666824,
          1.0268882583434717,
          0.37448174401498874,
          0.6928714190539391,
          1.0586211459573964,
          -0.07856488149796201,
          0.09173109684183692,
          0.36658811207121134,
          1.095747456300555,
          -2.0645161290322487,
          -2.8194993412384695,
          1.7082429501084275,
          -2.332711276992782,
          1.32387061553158,
          0.053879310344850356,
          -1.5347334410339324,
          1.4766201804757937,
          0.4850444624090451,
          0.17430946634488498,
          -1.6999063043769298,
          -0.8986928104575282,
          -3.1189887331684396,
          1.3189618493830602,
          0.6019036954087554,
          -1.6001113120912995,
          0.7070135746606402,
          2.5975849480482944,
          -0.23265361981661467,
          1.0973936899862886,
          0.28493894165533984,
          -0.9876877283182017,
          1.229844219732144,
          0.3239740820734424,
          0.05382131324004443,
          0.7261968800430417,
          1.1214953271027899,
          1.7031951412727926,
          -0.012981955082451207,
          -0.5712801869644187,
          -1.240532776181766,
          1.0577813037154837,
          -0.26167735182522683,
          -1.4430014430014484,
          0.026620524424363544,
          -0.27944111776449393,
          0.5604483586869532,
          -1.9240976645435468,
          0.32471925314574757,
          -2.7916385704652846,
          -0.04162042175361367,
          -1.0270645385149022,
          1.3322114710419353,
          2.2972598948242267,
          2.3674242424242435,
          1.4536804546055293,
          -0.3386739611827519,
          2.914651679519013,
          -2.0066040132080265,
          1.0368066355624528,
          -0.4232939969214835,
          0.012881617931207373,
          1.7774343122101948,
          -0.31637560111364516,
          0.07617113114130947,
          -1.471520994545221,
          0.4763744045319808,
          -0.6406970784212879,
          2.0634511220015175,
          -0.11372251705837544,
          0.11385199240986504,
          0.24008086934547485,
          -1.1092903063153994,
          1.9502868068833692,
          -0.21255313828457156,
          0.451071294324031,
          0.33678433329172885,
          0.062158130283437724,
          0.0745434215430606,
          -0.09931719428926385,
          -0.4349446998881336,
          -0.8237643534698259,
          0.7676818525044193,
          -0.19982515299113782,
          0.9510699536979145,
          0.34709309532664817,
          -0.44471896232243247,
          -1.0174959672416093,
          0.6894822615018203,
          0.42330677290836743,
          -0.09918175055788017,
          0,
          0.9803921568627552,
          0.18434312400146477,
          -0.08586849852795615,
          -0.196439533456113,
          0,
          -0.8365112559970492,
          0.2729189926807862,
          1.5959421007052,
          0.8037018996590463,
          0.22952403962308876,
          0,
          -0.22899843316860657,
          0.19328340178785713,
          0.2170243549554045,
          -1.0707410972088578,
          -0.04864404718472699,
          0.2311716753862914,
          1.5052197135227185,
          0.31093039942595396,
          -0.32188841201718027,
          -0.406649922258104,
          0.7805932508706769,
          -1.7516682554814034,
          0.6549423893268524,
          -2.084588504639104,
          0.6891459512675147,
          2.0777316059643356,
          -0.08381226053638632,
          0.6590772917914752,
          0.7619047619047623,
          0.29536862003780995,
          0.2827188125809756,
          -0.05873370139785892,
          0.2585801598495506,
          0.175849941383362,
          0.7957870099473392,
          -0.5224660397074092,
          -0.6185807656396002,
          -0.2818555490311287,
          0.7537392533270526,
          -1.1338398597311383,
          -0.6857413100023726,
          1.226190476190474,
          -0.411619428437,
          -1.3108171941426736,
          1.5196840971640593,
          -0.5068363979255056,
          -0.24878568889942107,
          -1.1163895486935866,
          -2.209944751381214,
          3.5494964382215546,
          0.5456055034989963,
          0.31850890645276725,
          1.3405456255879644,
          -0.7542353214202975,
          0.4559803577692014,
          0.6866852886405994,
          -0.6588833660848578,
          0.5003490807540317,
          -1.0420284821118615,
          0.5499005499005499,
          -0.139632301605775,
          -0.06991377301327614,
          -1.0611007462686513,
          1.19033588685917,
          0.4891684136967002,
          0.10431154381086485,
          0.5210142410559123,
          0.6104584197189513,
          0,
          0,
          1.9004006868918173,
          -0.16852039096729796,
          0.4051316677920248,
          0.30262273032951686,
          0.4022795843110887,
          0.30050083472455297,
          0.2219263204616124,
          0.3432240921169131,
          0.4192872117400438,
          -0.2856828919898898,
          -0.9586776859504244,
          0.745438362260798,
          0.45278851463278913,
          -0.05496921723834356,
          0.3849961500385138,
          -0.1424501424501591,
          0.09876001316801734,
          0.07673755755317446,
          -0.19717384160369425,
          0.3512237954121481,
          -1.3999781253417922,
          0.9983361064891836,
          -0.07688083470619425,
          1.3959111892723548,
          -0.07588075880757708,
          -1.9527012367107979,
          -1.206019030758991,
          0.31358494792247205,
          1.3174053812660558,
          -0.30853994490357156,
          0.21001436940421453,
          -1.7868960953011266,
          1.8081761006289363,
          0.353006067291773,
          0.6705507310102358,
          -0.3275824415811482,
          0.1643295354951882,
          0.20780925298041442,
          0.2073783016808653,
          -0.41389826816251135,
          0.2843705567100499,
          0.2072199803686257,
          -0.46800174140182743,
          0.6342263531984765,
          -0.10866021949363751,
          -0.03263352550854425,
          0.40261153427637597,
          0.08670207001192373,
          0.05414185165134074,
          -0.05411255411256837,
          0.16242555495398783,
          0.10810810810810226,
          -0.44276457883370024,
          -1.1389521640091018,
          0.822909809084932,
          0.6203068886712141,
          0.140601341120501,
          0.46441300356409876,
          0.33326166415824116,
          -0.0428586735240385,
          0.4609282881337582,
          -0.08536064874091566,
          0.3630926954293044,
          0.6277931474781732,
          0.4229671143068566,
          -0.6001895335368841,
          0.5084745762711655,
          -0.8326306913996379,
          1.1584652991816258,
          0.3256986761924731,
          0.3141690229343383,
          -0.41758012318613036,
          -0.1467659083761521,
          -0.35695538057742854,
          -2.0124328311031388,
          1.1935483870967745,
          0.7863138880033779,
          0.22140221402215843,
          1.0940458657689822,
          0.301768990634759,
          -0.7573399730262461,
          0.43905498641018903,
          0.4683597002497996,
          -0.6940847404951881,
          0.4485708324640255,
          -0.44656766019318184,
          0.22950135614437478,
          0.40591174021648424,
          0.25914792163368744,
          -0.06203473945410407,
          0.1241464928615798,
          0.12399256044637635,
          0.17543859649121202,
          0.36056454105286173,
          -0.318209813180041,
          0.03089280197712784,
          -0.195593988058465,
          -0.9283135636926241,
          0.7287870900572555,
          1.1472868217054268,
          0.03065603923973506,
          0.24517315353967736,
          -0.32609803322122927,
          0.48052346385850114,
          0.7529507529507479,
          -0.151484548576021,
          0.05057145746938547,
          0.22240194096239144,
          -0.15130119023602168,
          0.28285685422769086,
          -0.6044122091266237,
          -0.37498733150907615,
          0.25432349949137156,
          -0.6798579401319178,
          -0.4290968532897453,
          -0.10260619741433458,
          -0.112982744453565,
          -0.010282776349626906,
          -0.3496503496503341,
          -1.795665634674927,
          0.3467843631778104,
          0.6283380458686766,
          1.134353210531801,
          -0.2263840296357414,
          0.11344884488447904,
          -1.9058411455650353,
          0.2520478890989185,
          -0.5342551854179772,
          -0.6108478146392742,
          -0.9536929108827116,
          1.797368139510015,
          -1.2716763005780294,
          2.7251437087502675,
          -0.5284974093264259,
          0.18751953328471363,
          -1.1646043464697895,
          -0.4103103629668741,
          1.9754912317768898,
          0.9219931627473353,
          0.3182098131800573,
          0.7060268085541612,
          0.4572241414346915,
          -0.12137149792658937,
          0.15189873417722305,
          0.5156723963599446,
          0.6337390604567147,
          -0.2399040383846681,
          0.2304609218436972,
          0.1999400179946067,
          0.30928863613689694,
          0.46747563158940125,
          -0.09900009900010937,
          0.9315231394311764,
          0.8541973490427198,
          -0.13629283489096145,
          -0.487424449210377,
          -0.019592476489020932,
          -0.4703115814227044,
          0.5119117936601667,
          0.15670910871694815,
          0.4596127518091296,
          -0.31149615496934496,
          0.10741138560686542,
          0.22434646898167168,
          0.52554744525548,
          -1.3554071062058317,
          0.44165276278340115,
          0.39085401602499353,
          -2.4527934592174274,
          1.0576731191378996,
          -1.1947077409162823,
          1.2990906365544053,
          -2.012429712932809,
          -0.3221584616933376,
          0.969599030400946,
          2.3306992097629364,
          -0.2052785923753679,
          0.18611029483789676,
          -0.17598748533438843,
          -0.11753183153769557,
          -1.2159246911159203,
          -0.08933889219771932,
          1.8976651763537054,
          -1.2187987519500894,
          -2.3689665383476433,
          1.4659791729855436,
          1.7536867277799888,
          0.9792401096749016,
          0.06788207913109955,
          0.7461963368543459,
          0.5482878030011491,
          -0.16263273701329795,
          0.287466462246071,
          -0.5255111790559777,
          0
         ],
         "xaxis": "x",
         "y": [
          -0.5847953216374151,
          2.549019607843138,
          -0.7265774378585153,
          0.6933744221879731,
          0.22953328232592987,
          0.5725190839694819,
          0.07590132827324694,
          -0.6825938566552957,
          0.5727376861397503,
          0.07593014426726243,
          0,
          1.8209408194233931,
          -0.2608047690014977,
          -0.448262980948836,
          -0.22514071294558372,
          0,
          0.48890560361038,
          -0.9730538922155693,
          0.907029478458048,
          0.5992509363295915,
          0.5584512285927051,
          0.296186597556442,
          0.11074197120710409,
          1.5486725663716716,
          -0.07262164124908106,
          -1.2718023255813917,
          -0.1840264998159787,
          0.6637168141592974,
          0.402930402930401,
          0.4742794600510631,
          -0.07262164124908106,
          1.5625000000000044,
          0.14311270125222716,
          -0.2858163629867761,
          0.7165890361877275,
          -0.0355745286374836,
          0.14234875444840261,
          0.07107320540155267,
          0.39062499999999817,
          -0.2122391227449525,
          0.10634526763558033,
          0.21246458923514644,
          0.31802120141342366,
          0.49313138429024417,
          0.03505082369435781,
          -0.0700770847932746,
          -0.7012622720897687,
          0.6355932203389882,
          -0.17543859649123306,
          0.8084358523725937,
          0.767085076708504,
          0.8304498269896177,
          0.2402196293754233,
          0.479287915097583,
          -0.7155025553662769,
          0.06863417982154058,
          -1.1316872427983486,
          -0.31217481789801915,
          0.8698677800974245,
          0.10348395998621765,
          0,
          0.62026188835284,
          0.9246575342465767,
          0.3053953172717982,
          0.6089309878213852,
          -0.1008742434431648,
          0.20195220464489416,
          -0.06718172657036252,
          -0.3697478991596621,
          0,
          -0.1349527665317177,
          0.03378378378377243,
          0.06754474839581415,
          0.3037462031724567,
          -0.10094212651411023,
          0.26945099360052194,
          0,
          0,
          0.5038629492777985,
          0.03342245989306126,
          0.033411293017040704,
          0.16700066800266455,
          0.16672224074692038,
          0.29960053262316544,
          0,
          -0.5642217059409145,
          0.5674232309746245,
          -0.9956853634251617,
          -1.40797854508884,
          0.374022441346479,
          -1.3550135501355027,
          0.06868131868132064,
          -0.857927247769376,
          0.9691934925579682,
          0.6513541309564556,
          1.5667574931880182,
          -0.2682763246143604,
          -0.907868190988569,
          0.4411265693926152,
          -0.03378378378378474,
          -1.081446434606292,
          0.6832934745473126,
          0.4411265693926152,
          -0.6418918918918978,
          -1.088065283917041,
          0.44688896528016514,
          -0.9240246406570731,
          0.6217616580310931,
          0.5149330587023582,
          0.20491803278687862,
          0.238582140422638,
          0.8500510030601829,
          0.5057316250842906,
          0.40254948004026636,
          -0.23387905111928492,
          0.10046885465505978,
          -0.33456005352961804,
          -0.0671366230278636,
          1.7467248908296829,
          0,
          0.42918454935624745,
          -0.46022353714662706,
          -0.09907529722589449,
          -0.03305785123965831,
          -0.39682539682540807,
          -0.033200531208488177,
          0.6974427100630975,
          0.7255936675461707,
          0.49115913555993534,
          0.7494297816878555,
          0,
          -0.5821474773609596,
          -0.06506180871827237,
          -0.35807291666666496,
          -0.22868343678537073,
          -0.36018336607727397,
          -0.328623069339477,
          0.1318826244642426,
          0.3292723081988658,
          -0.1969149983590353,
          -0.09865175928971014,
          0.032916392363397905,
          0.13162224415926665,
          0.985869208018407,
          -0.19524894240155566,
          -0.6847081838930626,
          0.5909389363099194,
          0.13054830287205446,
          -1.205997392438081,
          0.03299241174531155,
          0.39577836411609424,
          -2.5295663600525504,
          -2.190765082574992,
          -0.7236388697450113,
          0.242971190558828,
          2.042936288088638,
          -0.7804546996946146,
          -0.13679890560874655,
          0.753424657534268,
          -1.393609789259022,
          -0.10341261633918376,
          1.1732229123533426,
          0.954979536152799,
          -0.472972972972974,
          0.9843856076035334,
          -0.47058823529413096,
          -0.8780817291455469,
          0.17035775127766312,
          0.544217687074833,
          -0.10148849797020827,
          1.151371486623768,
          0.5691329092735226,
          0.36617842876164935,
          -0.2321724709784477,
          0.7313829787234007,
          0.42904290429042924,
          0.29576076240551724,
          -0.32765399737875345,
          0.06574621959236332,
          0.7555847568988268,
          0.1304206064558237,
          0.03256268316508185,
          -0.5859375000000048,
          0.1637197118533118,
          -0.13076168682576375,
          0.7855973813420606,
          0.4871711594673734,
          -0.45248868778280643,
          -0.09740259740260016,
          -0.38999025024375494,
          0.7830342577487869,
          0.35610229847847025,
          0.3870967741935476,
          -1.4138817480719843,
          -2.83572359843546,
          0.13418316001343433,
          0.8375209380234375,
          0.7973421926910161,
          -1.087673038892546,
          0.5664778407197519,
          0.695825049701797,
          1.6781836130306018,
          -0.48543689320387373,
          0.6829268292683002,
          -0.0645994832041362,
          -0.19392372333549354,
          -0.38860103626941744,
          0.5851755526657926,
          0.3878474466709635,
          0.193174500965878,
          0.9640102827763536,
          0.031826861871408776,
          -0.03181673560291645,
          -0.06365372374285236,
          0.31847133757962687,
          -0.6031746031746203,
          0.4152028106036645,
          1.0178117048346111,
          0.12594458438286363,
          0.44025157232704504,
          0.1878522229179765,
          -0.06250000000000176,
          -0.0625390869293326,
          0.46933667083855,
          -0.062285892245408175,
          -0.49859769398566806,
          0.15659254619480556,
          0.0938086303939875,
          -0.21868166198062586,
          -0.4696305572949413,
          -0.18873859704308923,
          0.37819098644816707,
          1.0047095761381417,
          -0.1865091700341873,
          0.37371535347242635,
          -0.124107973937329,
          -0.3417210313762022,
          -1.7144638403989942,
          -0.6977481763400134,
          1.1817310763334503,
          -0.25252525252523667,
          1.3291139240506245,
          -0.3747657713928787,
          -0.09404388714732666,
          0.18826482585502996,
          0.2818665831506386,
          0.8119925046845724,
          1.3320941759603508,
          -0.7948639559767658,
          0.12326656394453354,
          0.3077870113881281,
          1.04326480515494,
          0.09110233829335211,
          0.06067961165046504,
          0,
          0,
          0.1516070345664082,
          -1.1504692703602781,
          -0.1837672281776134,
          0,
          1.2273703590058198,
          -0.12124886329191006,
          -0.3034901365705479,
          0,
          0.1522070015220521,
          0.39513677811549053,
          -0.09082652134421303,
          -0.30303030303031164,
          0.12158054711246546,
          0.21250758955675378,
          0.1514692517419007,
          1.0586811857229361,
          -0.17958695001497066,
          -0.14992503748126362,
          -0.3003003003002869,
          -0.5421686746987886,
          0.9388249545729686,
          -2.2802280228022687,
          0.9210930303960625,
          0.5171889260724211,
          -1.0290556900726353,
          -1.2232415902140907,
          0.15479876160991154,
          1.7619783616692475,
          1.3669501822600187,
          0.41953850764158435,
          -0.1790510295434032,
          0.029895366218237022,
          0.6873879258816256,
          0.35618878005346016,
          0,
          -0.23661638568473692,
          0.3854135784168506,
          -0.26580035440045857,
          0.7699141249629851,
          -0.7346459006758735,
          -0.5920663114268966,
          -3.6628945801072024,
          -1.947449768160741,
          0.09457755359394973,
          -3.3385826771653457,
          -4.007820136852401,
          0.5091649694500915,
          1.3846673421141653,
          2.1319120586275813,
          -1.3046314416177442,
          -3.8003965631196293,
          -7.557540364136036,
          -0.9661835748792409,
          -0.11257035647278503,
          -11.006761833208111,
          1.8151118615449455,
          -3.68988391376451,
          3.65906155832974,
          -4.900332225913624,
          4.017467248908316,
          1.721242653232565,
          -4.374742055303332,
          8.15709969788519,
          3.152434158020767,
          2.0502901353964917,
          -3.1084154662623114,
          2.4256651017214375,
          1.1841100076394113,
          -2.6802567006417317,
          0.8533747090767995,
          -0.769230769230763,
          3.37209302325581,
          0.9373828271465922,
          -0.33432392273402267,
          0.9690644800596214,
          0,
          0,
          0.8121077888519845,
          -2.7828634199926627,
          0.7532956685498996,
          2.317757009345792,
          1.096090610157124,
          -3.5778821828695557,
          2.136431784107952,
          0.477064220183473,
          -0.9130752373995478,
          1.6955399926280812,
          1.5947807176513284,
          1.0702818408847448,
          -2.3649841157783045,
          0,
          -3.0007230657989936,
          2.3108460678345115,
          -0.3278688524590124,
          0.8406432748537983,
          0.8698803914461744,
          -0.2155946819978371,
          0.21606049693913598,
          -1.7606899029823906,
          -1.7556693489392796,
          0.3723008190617989,
          3.597922848664696,
          -0.6086645184389456,
          0.8285302593659782,
          -1.0003572704537227,
          -0.39696860339227524,
          2.0289855072463547,
          -0.2840909090908913,
          0.3205128205128166,
          1.6684416045438493,
          -1.6410614525139748,
          1.7039403620873237,
          0.7329842931937254,
          2.598752598752584,
          -0.9456264775413734,
          2.591203545857508,
          -0.33233632436026195,
          -0.9003001000333579,
          -0.1345895020188341,
          -3.908355795148248,
          0.21037868162692167,
          -0.3848845346396063,
          2.9153494906919626,
          1.2286689419795196,
          -0.8091706001348479,
          1.1216859279401712,
          -0.9747899159663895,
          1.2559402579769163,
          -2.7824337914850754,
          0.7931034482758469,
          -0.41053711939786564,
          0.37787701820678743,
          -0.20533880903491342,
          0.274348422496566,
          2.051983584131348,
          -0.9718498659517457,
          1.4890016920473825,
          -0.7002334111370412,
          -0.5036937541974622,
          -0.708741140735724,
          0.8497620666213453,
          0.9100101112234592,
          -0.7348029392117775,
          1.648721399730831,
          -0.5296259516716348,
          0.2995008319467518,
          0.39814200398143135,
          0.19828155981493076,
          -1.1873350923482704,
          0.06675567423231163,
          -1.8012008005337037,
          -0.2717391304347903,
          0.5790190735694988,
          -0.20318320352186026,
          -1.9341703427214048,
          -1.3494809688581193,
          2.0694493160294454,
          -0.10309278350515758,
          -0.06879944960440512,
          -0.8605851979345698,
          0.20833333333332657,
          0.31185031185030804,
          1.485319516407591,
          1.3955071477195395,
          0.10070493454179541,
          -1.1737089201878022,
          0.3053953172717982,
          -0.5751014884979619,
          0.98673018033345,
          -0.9770889487870651,
          -0.34025178632188785,
          1.638784568111993,
          -0.40309035942223637,
          0.6408094435075945,
          -0.636729222520113,
          -0.6745362563237843,
          -0.8828522920203615,
          -0.06851661527920715,
          1.9883441892355223,
          -1.2773109243697474,
          -1.327885597548519,
          1.6908212560386322,
          -1.1537156430267903,
          1.7851012701681994,
          -0.7082630691399617,
          0.37364130434782433,
          0,
          0.744500846023685,
          0.2351360429963117,
          -0.636729222520113,
          -0.6408094435075822,
          -2.8513238289205645,
          0.17470300489168908,
          0.6627136379490689,
          -1.004851004851008,
          -0.14000700035002148,
          2.032947774272702,
          -0.7557540364135998,
          -0.5884389061959322,
          0.10445682451255048,
          0.2782608695651999,
          0.48560527228582717,
          -0.17259233690024653,
          -0.2766251728907283,
          0.762829403606099,
          0.6538196834136204,
          0.6837606837606783,
          -0.40747028862478696,
          -0.5455165359699873,
          -2.262598560164542,
          1.4731673097158797,
          -0.17283097131006367,
          -0.934903047091414,
          -1.3282069206571123,
          -0.14169323414806054,
          0.6739978715856489,
          -1.937984496124022,
          -0.8623787279913746,
          -2.9358463211308354,
          0,
          -0.11202389843166859,
          1.9813084112149548,
          2.419354838709666,
          2.397995705082322,
          0.6990562740300665,
          -0.27768136063866233,
          4.072398190045237,
          1.0702341137123685,
          1.3567174056915974,
          -1.077375122428986,
          -0.23102310231023757,
          0.9593119417796923,
          -0.2621231979030099,
          0.22996057818660312,
          -0.8194034742707303,
          0.46265697290149715,
          -0.29605263157894385,
          0.8578027053777755,
          -0.06542361792607317,
          0.03273322422258686,
          0.0981675392670185,
          -1.0460934946060862,
          0.627684175751575,
          0.09848982271830993,
          -0.2623811085601792,
          0.8549819138441426,
          -0.13042060645583559,
          0.09794319294810479,
          0.2609262883235322,
          0,
          -0.7482108002602329,
          -0.1311045558833326,
          0.03281916639318651,
          0.8858267716535445,
          0.32520325203252953,
          -0.4213938411669487,
          -2.539062499999989,
          1.1022044088176177,
          0.759828212751897,
          0.16393442622951285,
          0,
          0.8510638297872344,
          0.6815968841285373,
          -0.3546099290780125,
          -0.35587188612099474,
          0,
          0.6818181818181656,
          -0.128990648177999,
          1.549886987407165,
          0.12718600953894274,
          0.6033661479834924,
          -0.25252525252523667,
          -0.1898734177215359,
          0.06341154090044568,
          0.918884664131827,
          -0.690737833594996,
          -0.03161555485297705,
          0.031625553447174694,
          0.6006955422067828,
          -0.2199874292897611,
          -0.2834645669291304,
          -0.568540745420093,
          0.6988564167725506,
          -1.1041009463722364,
          -0.19138755980861788,
          -2.4288910194950337,
          1.211922698984592,
          1.1650485436893299,
          0.3198976327575034,
          0.5739795918367394,
          -0.3170577045022053,
          0.2862595419847293,
          0.03171582619726178,
          -0.09511731135065696,
          0.4443033957473712,
          0.7582938388625693,
          1.1602383192223253,
          -0.1549907005579709,
          -0.5277864017385828,
          -0.6242197253433271,
          0.12562814070352116,
          -0.43914680050189453,
          -0.409577819785748,
          0.44289781714647364,
          -0.6299212598425146,
          -1.4263074484944591,
          1.8327974276527381,
          0.22102936532994852,
          -0.06301197227472251,
          0.06305170239595499,
          -0.693131695022051,
          2.28426395939087,
          0.5583126550868532,
          0.5552128315854455,
          0.27607361963188726,
          -0.42826552462527984,
          0.030721966205871646,
          0.8292383292383079,
          -0.2132196162046969,
          0.5494505494505652,
          -0.5768063145112379,
          0.12213740458015615,
          -0.21347971942666052,
          0.030562347188253784,
          0,
          0.7638252367858229,
          0.6670709520921961,
          0.4518072289156535,
          -0.26986506746625266,
          0.3307276007215749,
          0,
          0,
          0.7791429427629829,
          -0.3568242640499871,
          0.7460459564309156,
          0.02962085308059116,
          -0.4737933076695426,
          -0.059506099375165954,
          0.2977076510865979,
          0.682695161769112,
          0.8844339622641328,
          -0.08766803039158635,
          -1.6964024568587361,
          1.071109788753356,
          0.6476302619958756,
          -0.35097981866041567,
          0.05870267097153086,
          -0.11733646230568619,
          0.11747430249635368,
          -0.146670577882081,
          -0.176263219741507,
          0.647439670394368,
          -1.3157894736842053,
          1.8962962962962853,
          0.11631288165164623,
          0.7841998257333943,
          0.11527377521612057,
          -1.8422567645365675,
          0.7624633431085046,
          0.02910360884749792,
          1.076520221123082,
          0,
          -0.08635578583765358,
          -1.7286084701814899,
          1.4365288771621203,
          0.520231213872826,
          0.34502587694075937,
          -0.2578796561604449,
          0,
          0.028727377190463324,
          0.5169442848937329,
          -0.6571428571428549,
          0.6327293643945899,
          0.5144326950557239,
          -0.08529997156667857,
          0.3984063745020034,
          0.1417233560090743,
          0.08491367110102904,
          0.48076923076924444,
          0.25330706445256196,
          0.6457046603032188,
          0.139470013946985,
          0.5013927576601813,
          0.24944567627493142,
          0.16588332872546782,
          -1.5180789401048884,
          0.5325112107623265,
          0.1393922497909359,
          -0.9187082405345267,
          0.7867378477100121,
          0.05575689991638656,
          -0.36221788799111443,
          0.22371364653246523,
          -0.8370535714285952,
          0.4783342712436828,
          0.1960235228227443,
          0.0838457238680851,
          -0.5026528902541129,
          0.7297221442604548,
          -1.5045973808860629,
          1.4427157001414426,
          0.5298382598996043,
          0.22191400832180186,
          -0.11071132023249688,
          -0.8866722083679536,
          -0.22365110427735405,
          -2.241524236480789,
          0.5159071367153849,
          1.3686911890504467,
          0.11251758087203498,
          1.236302332115757,
          -0.30530113794059344,
          -0.4454342984410128,
          0.7550335570470014,
          0.38856508465166995,
          -0.41470832181364936,
          0.3609106052193126,
          0.3872752420470373,
          0.49600440892807335,
          0.3290375651220274,
          -0.02732987154962441,
          0.3007107709130758,
          0.27255382938131056,
          0.4077194889915655,
          0.3519220357336321,
          0.16185594820610116,
          -0.3770535954753479,
          0.4055150040551418,
          -0.10770059235328062,
          -1.4016172506738551,
          0.3827227993439147,
          0.49019607843136664,
          -0.27100271002710796,
          -0.19021739130435325,
          -0.19057990743260197,
          0.3546099290780243,
          0.027181299266085875,
          -0.2989130434782496,
          0.32706459525757264,
          0.21733224667210613,
          -0.569259962049352,
          0.8996728462377375,
          -0.6484733855714462,
          -0.9790590155017953,
          -0.41197473221641573,
          -0.19305019305019852,
          0.414479137883405,
          -0.11007154650523152,
          -0.743801652892563,
          0.19428254232582487,
          -0.8864265927977687,
          -1.3974287311347109,
          1.1904761904762036,
          0.8403361344537643,
          0.8611111111111153,
          -0.7711374277058679,
          -0.05550929780738431,
          -1.9994445987225933,
          0.8500991782374854,
          -0.16858668165215424,
          -0.42217844075428357,
          -0.3957037874505482,
          1.1918274687854427,
          -0.8412787436903926,
          1.9513574660633421,
          -0.3328710124826522,
          0.27831895352074265,
          -0.38856508465166995,
          0.5015324602953407,
          1.4139173828666276,
          0.6560962274467109,
          -0.48886474741987457,
          0.13646288209605384,
          0.29980921231942176,
          -0.1630434782608346,
          0.5171475231355219,
          0.08123476848093188,
          0.838744588744573,
          -0.1878186208747035,
          0.3225806451612995,
          0.3751339764201412,
          0.533902829684993,
          0.39830058417420144,
          0.3702724147050957,
          0.44795783926218063,
          0.23609653725079371,
          -0.15702695629414923,
          -0.052424639580604365,
          0.26226068712298856,
          0.23541721161392248,
          0.026096033402923494,
          0.4956952778502619,
          0.38940809968846557,
          0.23273855702093418,
          -0.722394220846235,
          -0.12993762993763364,
          -0.1040853499869923,
          -0.9637926543370564,
          0.15781167806418123,
          0.28886554621847643,
          -3.901544907043706,
          0.7356948228882644,
          -1.000811468758442,
          2.1584699453551726,
          -1.203530355710078,
          -0.3789929615592961,
          1.494565217391327,
          2.3560910307898144,
          -0.6277792309704218,
          -0.13161358252173913,
          -0.02635740643120792,
          -0.2636435539151143,
          -0.7665873645254921,
          0.39957378795950177,
          1.4592730167153118,
          -0.6014644351464415,
          -1.6048408313601756,
          1.4973262032085795,
          0.7639620653319115,
          0.9673202614378978,
          -0.02589331952354478,
          0.5439005439005404,
          0.7727975270479166,
          -0.6901840490797555,
          0.33462033462032537,
          0.07696254489482005,
          0
         ],
         "yaxis": "y"
        }
       ],
       "layout": {
        "autosize": true,
        "legend": {
         "tracegroupgap": 0
        },
        "template": {
         "data": {
          "bar": [
           {
            "error_x": {
             "color": "#2a3f5f"
            },
            "error_y": {
             "color": "#2a3f5f"
            },
            "marker": {
             "line": {
              "color": "#E5ECF6",
              "width": 0.5
             },
             "pattern": {
              "fillmode": "overlay",
              "size": 10,
              "solidity": 0.2
             }
            },
            "type": "bar"
           }
          ],
          "barpolar": [
           {
            "marker": {
             "line": {
              "color": "#E5ECF6",
              "width": 0.5
             },
             "pattern": {
              "fillmode": "overlay",
              "size": 10,
              "solidity": 0.2
             }
            },
            "type": "barpolar"
           }
          ],
          "carpet": [
           {
            "aaxis": {
             "endlinecolor": "#2a3f5f",
             "gridcolor": "white",
             "linecolor": "white",
             "minorgridcolor": "white",
             "startlinecolor": "#2a3f5f"
            },
            "baxis": {
             "endlinecolor": "#2a3f5f",
             "gridcolor": "white",
             "linecolor": "white",
             "minorgridcolor": "white",
             "startlinecolor": "#2a3f5f"
            },
            "type": "carpet"
           }
          ],
          "choropleth": [
           {
            "colorbar": {
             "outlinewidth": 0,
             "ticks": ""
            },
            "type": "choropleth"
           }
          ],
          "contour": [
           {
            "colorbar": {
             "outlinewidth": 0,
             "ticks": ""
            },
            "colorscale": [
             [
              0,
              "#0d0887"
             ],
             [
              0.1111111111111111,
              "#46039f"
             ],
             [
              0.2222222222222222,
              "#7201a8"
             ],
             [
              0.3333333333333333,
              "#9c179e"
             ],
             [
              0.4444444444444444,
              "#bd3786"
             ],
             [
              0.5555555555555556,
              "#d8576b"
             ],
             [
              0.6666666666666666,
              "#ed7953"
             ],
             [
              0.7777777777777778,
              "#fb9f3a"
             ],
             [
              0.8888888888888888,
              "#fdca26"
             ],
             [
              1,
              "#f0f921"
             ]
            ],
            "type": "contour"
           }
          ],
          "contourcarpet": [
           {
            "colorbar": {
             "outlinewidth": 0,
             "ticks": ""
            },
            "type": "contourcarpet"
           }
          ],
          "heatmap": [
           {
            "colorbar": {
             "outlinewidth": 0,
             "ticks": ""
            },
            "colorscale": [
             [
              0,
              "#0d0887"
             ],
             [
              0.1111111111111111,
              "#46039f"
             ],
             [
              0.2222222222222222,
              "#7201a8"
             ],
             [
              0.3333333333333333,
              "#9c179e"
             ],
             [
              0.4444444444444444,
              "#bd3786"
             ],
             [
              0.5555555555555556,
              "#d8576b"
             ],
             [
              0.6666666666666666,
              "#ed7953"
             ],
             [
              0.7777777777777778,
              "#fb9f3a"
             ],
             [
              0.8888888888888888,
              "#fdca26"
             ],
             [
              1,
              "#f0f921"
             ]
            ],
            "type": "heatmap"
           }
          ],
          "heatmapgl": [
           {
            "colorbar": {
             "outlinewidth": 0,
             "ticks": ""
            },
            "colorscale": [
             [
              0,
              "#0d0887"
             ],
             [
              0.1111111111111111,
              "#46039f"
             ],
             [
              0.2222222222222222,
              "#7201a8"
             ],
             [
              0.3333333333333333,
              "#9c179e"
             ],
             [
              0.4444444444444444,
              "#bd3786"
             ],
             [
              0.5555555555555556,
              "#d8576b"
             ],
             [
              0.6666666666666666,
              "#ed7953"
             ],
             [
              0.7777777777777778,
              "#fb9f3a"
             ],
             [
              0.8888888888888888,
              "#fdca26"
             ],
             [
              1,
              "#f0f921"
             ]
            ],
            "type": "heatmapgl"
           }
          ],
          "histogram": [
           {
            "marker": {
             "pattern": {
              "fillmode": "overlay",
              "size": 10,
              "solidity": 0.2
             }
            },
            "type": "histogram"
           }
          ],
          "histogram2d": [
           {
            "colorbar": {
             "outlinewidth": 0,
             "ticks": ""
            },
            "colorscale": [
             [
              0,
              "#0d0887"
             ],
             [
              0.1111111111111111,
              "#46039f"
             ],
             [
              0.2222222222222222,
              "#7201a8"
             ],
             [
              0.3333333333333333,
              "#9c179e"
             ],
             [
              0.4444444444444444,
              "#bd3786"
             ],
             [
              0.5555555555555556,
              "#d8576b"
             ],
             [
              0.6666666666666666,
              "#ed7953"
             ],
             [
              0.7777777777777778,
              "#fb9f3a"
             ],
             [
              0.8888888888888888,
              "#fdca26"
             ],
             [
              1,
              "#f0f921"
             ]
            ],
            "type": "histogram2d"
           }
          ],
          "histogram2dcontour": [
           {
            "colorbar": {
             "outlinewidth": 0,
             "ticks": ""
            },
            "colorscale": [
             [
              0,
              "#0d0887"
             ],
             [
              0.1111111111111111,
              "#46039f"
             ],
             [
              0.2222222222222222,
              "#7201a8"
             ],
             [
              0.3333333333333333,
              "#9c179e"
             ],
             [
              0.4444444444444444,
              "#bd3786"
             ],
             [
              0.5555555555555556,
              "#d8576b"
             ],
             [
              0.6666666666666666,
              "#ed7953"
             ],
             [
              0.7777777777777778,
              "#fb9f3a"
             ],
             [
              0.8888888888888888,
              "#fdca26"
             ],
             [
              1,
              "#f0f921"
             ]
            ],
            "type": "histogram2dcontour"
           }
          ],
          "mesh3d": [
           {
            "colorbar": {
             "outlinewidth": 0,
             "ticks": ""
            },
            "type": "mesh3d"
           }
          ],
          "parcoords": [
           {
            "line": {
             "colorbar": {
              "outlinewidth": 0,
              "ticks": ""
             }
            },
            "type": "parcoords"
           }
          ],
          "pie": [
           {
            "automargin": true,
            "type": "pie"
           }
          ],
          "scatter": [
           {
            "fillpattern": {
             "fillmode": "overlay",
             "size": 10,
             "solidity": 0.2
            },
            "type": "scatter"
           }
          ],
          "scatter3d": [
           {
            "line": {
             "colorbar": {
              "outlinewidth": 0,
              "ticks": ""
             }
            },
            "marker": {
             "colorbar": {
              "outlinewidth": 0,
              "ticks": ""
             }
            },
            "type": "scatter3d"
           }
          ],
          "scattercarpet": [
           {
            "marker": {
             "colorbar": {
              "outlinewidth": 0,
              "ticks": ""
             }
            },
            "type": "scattercarpet"
           }
          ],
          "scattergeo": [
           {
            "marker": {
             "colorbar": {
              "outlinewidth": 0,
              "ticks": ""
             }
            },
            "type": "scattergeo"
           }
          ],
          "scattergl": [
           {
            "marker": {
             "colorbar": {
              "outlinewidth": 0,
              "ticks": ""
             }
            },
            "type": "scattergl"
           }
          ],
          "scattermapbox": [
           {
            "marker": {
             "colorbar": {
              "outlinewidth": 0,
              "ticks": ""
             }
            },
            "type": "scattermapbox"
           }
          ],
          "scatterpolar": [
           {
            "marker": {
             "colorbar": {
              "outlinewidth": 0,
              "ticks": ""
             }
            },
            "type": "scatterpolar"
           }
          ],
          "scatterpolargl": [
           {
            "marker": {
             "colorbar": {
              "outlinewidth": 0,
              "ticks": ""
             }
            },
            "type": "scatterpolargl"
           }
          ],
          "scatterternary": [
           {
            "marker": {
             "colorbar": {
              "outlinewidth": 0,
              "ticks": ""
             }
            },
            "type": "scatterternary"
           }
          ],
          "surface": [
           {
            "colorbar": {
             "outlinewidth": 0,
             "ticks": ""
            },
            "colorscale": [
             [
              0,
              "#0d0887"
             ],
             [
              0.1111111111111111,
              "#46039f"
             ],
             [
              0.2222222222222222,
              "#7201a8"
             ],
             [
              0.3333333333333333,
              "#9c179e"
             ],
             [
              0.4444444444444444,
              "#bd3786"
             ],
             [
              0.5555555555555556,
              "#d8576b"
             ],
             [
              0.6666666666666666,
              "#ed7953"
             ],
             [
              0.7777777777777778,
              "#fb9f3a"
             ],
             [
              0.8888888888888888,
              "#fdca26"
             ],
             [
              1,
              "#f0f921"
             ]
            ],
            "type": "surface"
           }
          ],
          "table": [
           {
            "cells": {
             "fill": {
              "color": "#EBF0F8"
             },
             "line": {
              "color": "white"
             }
            },
            "header": {
             "fill": {
              "color": "#C8D4E3"
             },
             "line": {
              "color": "white"
             }
            },
            "type": "table"
           }
          ]
         },
         "layout": {
          "annotationdefaults": {
           "arrowcolor": "#2a3f5f",
           "arrowhead": 0,
           "arrowwidth": 1
          },
          "autotypenumbers": "strict",
          "coloraxis": {
           "colorbar": {
            "outlinewidth": 0,
            "ticks": ""
           }
          },
          "colorscale": {
           "diverging": [
            [
             0,
             "#8e0152"
            ],
            [
             0.1,
             "#c51b7d"
            ],
            [
             0.2,
             "#de77ae"
            ],
            [
             0.3,
             "#f1b6da"
            ],
            [
             0.4,
             "#fde0ef"
            ],
            [
             0.5,
             "#f7f7f7"
            ],
            [
             0.6,
             "#e6f5d0"
            ],
            [
             0.7,
             "#b8e186"
            ],
            [
             0.8,
             "#7fbc41"
            ],
            [
             0.9,
             "#4d9221"
            ],
            [
             1,
             "#276419"
            ]
           ],
           "sequential": [
            [
             0,
             "#0d0887"
            ],
            [
             0.1111111111111111,
             "#46039f"
            ],
            [
             0.2222222222222222,
             "#7201a8"
            ],
            [
             0.3333333333333333,
             "#9c179e"
            ],
            [
             0.4444444444444444,
             "#bd3786"
            ],
            [
             0.5555555555555556,
             "#d8576b"
            ],
            [
             0.6666666666666666,
             "#ed7953"
            ],
            [
             0.7777777777777778,
             "#fb9f3a"
            ],
            [
             0.8888888888888888,
             "#fdca26"
            ],
            [
             1,
             "#f0f921"
            ]
           ],
           "sequentialminus": [
            [
             0,
             "#0d0887"
            ],
            [
             0.1111111111111111,
             "#46039f"
            ],
            [
             0.2222222222222222,
             "#7201a8"
            ],
            [
             0.3333333333333333,
             "#9c179e"
            ],
            [
             0.4444444444444444,
             "#bd3786"
            ],
            [
             0.5555555555555556,
             "#d8576b"
            ],
            [
             0.6666666666666666,
             "#ed7953"
            ],
            [
             0.7777777777777778,
             "#fb9f3a"
            ],
            [
             0.8888888888888888,
             "#fdca26"
            ],
            [
             1,
             "#f0f921"
            ]
           ]
          },
          "colorway": [
           "#636efa",
           "#EF553B",
           "#00cc96",
           "#ab63fa",
           "#FFA15A",
           "#19d3f3",
           "#FF6692",
           "#B6E880",
           "#FF97FF",
           "#FECB52"
          ],
          "font": {
           "color": "#2a3f5f"
          },
          "geo": {
           "bgcolor": "white",
           "lakecolor": "white",
           "landcolor": "#E5ECF6",
           "showlakes": true,
           "showland": true,
           "subunitcolor": "white"
          },
          "hoverlabel": {
           "align": "left"
          },
          "hovermode": "closest",
          "mapbox": {
           "style": "light"
          },
          "paper_bgcolor": "white",
          "plot_bgcolor": "#E5ECF6",
          "polar": {
           "angularaxis": {
            "gridcolor": "white",
            "linecolor": "white",
            "ticks": ""
           },
           "bgcolor": "#E5ECF6",
           "radialaxis": {
            "gridcolor": "white",
            "linecolor": "white",
            "ticks": ""
           }
          },
          "scene": {
           "xaxis": {
            "backgroundcolor": "#E5ECF6",
            "gridcolor": "white",
            "gridwidth": 2,
            "linecolor": "white",
            "showbackground": true,
            "ticks": "",
            "zerolinecolor": "white"
           },
           "yaxis": {
            "backgroundcolor": "#E5ECF6",
            "gridcolor": "white",
            "gridwidth": 2,
            "linecolor": "white",
            "showbackground": true,
            "ticks": "",
            "zerolinecolor": "white"
           },
           "zaxis": {
            "backgroundcolor": "#E5ECF6",
            "gridcolor": "white",
            "gridwidth": 2,
            "linecolor": "white",
            "showbackground": true,
            "ticks": "",
            "zerolinecolor": "white"
           }
          },
          "shapedefaults": {
           "line": {
            "color": "#2a3f5f"
           }
          },
          "ternary": {
           "aaxis": {
            "gridcolor": "white",
            "linecolor": "white",
            "ticks": ""
           },
           "baxis": {
            "gridcolor": "white",
            "linecolor": "white",
            "ticks": ""
           },
           "bgcolor": "#E5ECF6",
           "caxis": {
            "gridcolor": "white",
            "linecolor": "white",
            "ticks": ""
           }
          },
          "title": {
           "x": 0.05
          },
          "xaxis": {
           "automargin": true,
           "gridcolor": "white",
           "linecolor": "white",
           "ticks": "",
           "title": {
            "standoff": 15
           },
           "zerolinecolor": "white",
           "zerolinewidth": 2
          },
          "yaxis": {
           "automargin": true,
           "gridcolor": "white",
           "linecolor": "white",
           "ticks": "",
           "title": {
            "standoff": 15
           },
           "zerolinecolor": "white",
           "zerolinewidth": 2
          }
         }
        },
        "title": {
         "text": "Interactive Scatter Plot: Asset 2 vs Asset 3 (whole period)"
        },
        "xaxis": {
         "anchor": "y",
         "autorange": true,
         "domain": [
          0,
          1
         ],
         "range": [
          -10.703767423390596,
          10.413570510478438
         ],
         "title": {
          "text": "Asset 2"
         },
         "type": "linear"
        },
        "yaxis": {
         "anchor": "x",
         "autorange": true,
         "domain": [
          0,
          1
         ],
         "range": [
          -12.58824555179348,
          9.73858341647056
         ],
         "title": {
          "text": "Asset 3"
         },
         "type": "linear"
        }
       }
      },
      "image/png": "[encoded data removed]",
      "text/html": [
       "<div>                            <div id=\"7cffe209-84f0-4fc1-b4e2-5be8d0190866\" class=\"plotly-graph-div\" style=\"height:525px; width:100%;\"></div>            <script type=\"text/javascript\">                require([\"plotly\"], function(Plotly) {                    window.PLOTLYENV=window.PLOTLYENV || {};                                    if (document.getElementById(\"7cffe209-84f0-4fc1-b4e2-5be8d0190866\")) {                    Plotly.newPlot(                        \"7cffe209-84f0-4fc1-b4e2-5be8d0190866\",                        [{\"customdata\":[[\"2019-01-02T00:00:00\"],[\"2019-01-03T00:00:00\"],[\"2019-01-04T00:00:00\"],[\"2019-01-07T00:00:00\"],[\"2019-01-08T00:00:00\"],[\"2019-01-09T00:00:00\"],[\"2019-01-10T00:00:00\"],[\"2019-01-11T00:00:00\"],[\"2019-01-14T00:00:00\"],[\"2019-01-15T00:00:00\"],[\"2019-01-16T00:00:00\"],[\"2019-01-17T00:00:00\"],[\"2019-01-18T00:00:00\"],[\"2019-01-21T00:00:00\"],[\"2019-01-22T00:00:00\"],[\"2019-01-23T00:00:00\"],[\"2019-01-24T00:00:00\"],[\"2019-01-25T00:00:00\"],[\"2019-01-28T00:00:00\"],[\"2019-01-29T00:00:00\"],[\"2019-01-30T00:00:00\"],[\"2019-01-31T00:00:00\"],[\"2019-02-01T00:00:00\"],[\"2019-02-04T00:00:00\"],[\"2019-02-05T00:00:00\"],[\"2019-02-06T00:00:00\"],[\"2019-02-07T00:00:00\"],[\"2019-02-08T00:00:00\"],[\"2019-02-11T00:00:00\"],[\"2019-02-12T00:00:00\"],[\"2019-02-13T00:00:00\"],[\"2019-02-14T00:00:00\"],[\"2019-02-15T00:00:00\"],[\"2019-02-18T00:00:00\"],[\"2019-02-19T00:00:00\"],[\"2019-02-20T00:00:00\"],[\"2019-02-21T00:00:00\"],[\"2019-02-22T00:00:00\"],[\"2019-02-25T00:00:00\"],[\"2019-02-26T00:00:00\"],[\"2019-02-27T00:00:00\"],[\"2019-02-28T00:00:00\"],[\"2019-03-01T00:00:00\"],[\"2019-03-04T00:00:00\"],[\"2019-03-05T00:00:00\"],[\"2019-03-06T00:00:00\"],[\"2019-03-07T00:00:00\"],[\"2019-03-08T00:00:00\"],[\"2019-03-11T00:00:00\"],[\"2019-03-12T00:00:00\"],[\"2019-03-13T00:00:00\"],[\"2019-03-14T00:00:00\"],[\"2019-03-15T00:00:00\"],[\"2019-03-18T00:00:00\"],[\"2019-03-19T00:00:00\"],[\"2019-03-20T00:00:00\"],[\"2019-03-21T00:00:00\"],[\"2019-03-22T00:00:00\"],[\"2019-03-25T00:00:00\"],[\"2019-03-26T00:00:00\"],[\"2019-03-27T00:00:00\"],[\"2019-03-28T00:00:00\"],[\"2019-03-29T00:00:00\"],[\"2019-04-01T00:00:00\"],[\"2019-04-02T00:00:00\"],[\"2019-04-03T00:00:00\"],[\"2019-04-04T00:00:00\"],[\"2019-04-05T00:00:00\"],[\"2019-04-08T00:00:00\"],[\"2019-04-09T00:00:00\"],[\"2019-04-10T00:00:00\"],[\"2019-04-11T00:00:00\"],[\"2019-04-12T00:00:00\"],[\"2019-04-15T00:00:00\"],[\"2019-04-16T00:00:00\"],[\"2019-04-17T00:00:00\"],[\"2019-04-18T00:00:00\"],[\"2019-04-19T00:00:00\"],[\"2019-04-22T00:00:00\"],[\"2019-04-23T00:00:00\"],[\"2019-04-24T00:00:00\"],[\"2019-04-25T00:00:00\"],[\"2019-04-26T00:00:00\"],[\"2019-04-29T00:00:00\"],[\"2019-04-30T00:00:00\"],[\"2019-05-01T00:00:00\"],[\"2019-05-02T00:00:00\"],[\"2019-05-03T00:00:00\"],[\"2019-05-06T00:00:00\"],[\"2019-05-07T00:00:00\"],[\"2019-05-08T00:00:00\"],[\"2019-05-09T00:00:00\"],[\"2019-05-10T00:00:00\"],[\"2019-05-13T00:00:00\"],[\"2019-05-14T00:00:00\"],[\"2019-05-15T00:00:00\"],[\"2019-05-16T00:00:00\"],[\"2019-05-17T00:00:00\"],[\"2019-05-20T00:00:00\"],[\"2019-05-21T00:00:00\"],[\"2019-05-22T00:00:00\"],[\"2019-05-23T00:00:00\"],[\"2019-05-24T00:00:00\"],[\"2019-05-27T00:00:00\"],[\"2019-05-28T00:00:00\"],[\"2019-05-29T00:00:00\"],[\"2019-05-30T00:00:00\"],[\"2019-05-31T00:00:00\"],[\"2019-06-03T00:00:00\"],[\"2019-06-04T00:00:00\"],[\"2019-06-05T00:00:00\"],[\"2019-06-06T00:00:00\"],[\"2019-06-07T00:00:00\"],[\"2019-06-10T00:00:00\"],[\"2019-06-11T00:00:00\"],[\"2019-06-12T00:00:00\"],[\"2019-06-13T00:00:00\"],[\"2019-06-14T00:00:00\"],[\"2019-06-17T00:00:00\"],[\"2019-06-18T00:00:00\"],[\"2019-06-19T00:00:00\"],[\"2019-06-20T00:00:00\"],[\"2019-06-21T00:00:00\"],[\"2019-06-24T00:00:00\"],[\"2019-06-25T00:00:00\"],[\"2019-06-26T00:00:00\"],[\"2019-06-27T00:00:00\"],[\"2019-06-28T00:00:00\"],[\"2019-07-01T00:00:00\"],[\"2019-07-02T00:00:00\"],[\"2019-07-03T00:00:00\"],[\"2019-07-04T00:00:00\"],[\"2019-07-05T00:00:00\"],[\"2019-07-08T00:00:00\"],[\"2019-07-09T00:00:00\"],[\"2019-07-10T00:00:00\"],[\"2019-07-11T00:00:00\"],[\"2019-07-12T00:00:00\"],[\"2019-07-15T00:00:00\"],[\"2019-07-16T00:00:00\"],[\"2019-07-17T00:00:00\"],[\"2019-07-18T00:00:00\"],[\"2019-07-19T00:00:00\"],[\"2019-07-22T00:00:00\"],[\"2019-07-23T00:00:00\"],[\"2019-07-24T00:00:00\"],[\"2019-07-25T00:00:00\"],[\"2019-07-26T00:00:00\"],[\"2019-07-29T00:00:00\"],[\"2019-07-30T00:00:00\"],[\"2019-07-31T00:00:00\"],[\"2019-08-01T00:00:00\"],[\"2019-08-02T00:00:00\"],[\"2019-08-05T00:00:00\"],[\"2019-08-06T00:00:00\"],[\"2019-08-07T00:00:00\"],[\"2019-08-08T00:00:00\"],[\"2019-08-09T00:00:00\"],[\"2019-08-12T00:00:00\"],[\"2019-08-13T00:00:00\"],[\"2019-08-14T00:00:00\"],[\"2019-08-15T00:00:00\"],[\"2019-08-16T00:00:00\"],[\"2019-08-19T00:00:00\"],[\"2019-08-20T00:00:00\"],[\"2019-08-21T00:00:00\"],[\"2019-08-22T00:00:00\"],[\"2019-08-23T00:00:00\"],[\"2019-08-26T00:00:00\"],[\"2019-08-27T00:00:00\"],[\"2019-08-28T00:00:00\"],[\"2019-08-29T00:00:00\"],[\"2019-08-30T00:00:00\"],[\"2019-09-02T00:00:00\"],[\"2019-09-03T00:00:00\"],[\"2019-09-04T00:00:00\"],[\"2019-09-05T00:00:00\"],[\"2019-09-06T00:00:00\"],[\"2019-09-09T00:00:00\"],[\"2019-09-10T00:00:00\"],[\"2019-09-11T00:00:00\"],[\"2019-09-12T00:00:00\"],[\"2019-09-13T00:00:00\"],[\"2019-09-16T00:00:00\"],[\"2019-09-17T00:00:00\"],[\"2019-09-18T00:00:00\"],[\"2019-09-19T00:00:00\"],[\"2019-09-20T00:00:00\"],[\"2019-09-23T00:00:00\"],[\"2019-09-24T00:00:00\"],[\"2019-09-25T00:00:00\"],[\"2019-09-26T00:00:00\"],[\"2019-09-27T00:00:00\"],[\"2019-09-30T00:00:00\"],[\"2019-10-01T00:00:00\"],[\"2019-10-02T00:00:00\"],[\"2019-10-03T00:00:00\"],[\"2019-10-04T00:00:00\"],[\"2019-10-07T00:00:00\"],[\"2019-10-08T00:00:00\"],[\"2019-10-09T00:00:00\"],[\"2019-10-10T00:00:00\"],[\"2019-10-11T00:00:00\"],[\"2019-10-14T00:00:00\"],[\"2019-10-15T00:00:00\"],[\"2019-10-16T00:00:00\"],[\"2019-10-17T00:00:00\"],[\"2019-10-18T00:00:00\"],[\"2019-10-21T00:00:00\"],[\"2019-10-22T00:00:00\"],[\"2019-10-23T00:00:00\"],[\"2019-10-24T00:00:00\"],[\"2019-10-25T00:00:00\"],[\"2019-10-28T00:00:00\"],[\"2019-10-29T00:00:00\"],[\"2019-10-30T00:00:00\"],[\"2019-10-31T00:00:00\"],[\"2019-11-01T00:00:00\"],[\"2019-11-04T00:00:00\"],[\"2019-11-05T00:00:00\"],[\"2019-11-06T00:00:00\"],[\"2019-11-07T00:00:00\"],[\"2019-11-08T00:00:00\"],[\"2019-11-11T00:00:00\"],[\"2019-11-12T00:00:00\"],[\"2019-11-13T00:00:00\"],[\"2019-11-14T00:00:00\"],[\"2019-11-15T00:00:00\"],[\"2019-11-18T00:00:00\"],[\"2019-11-19T00:00:00\"],[\"2019-11-20T00:00:00\"],[\"2019-11-21T00:00:00\"],[\"2019-11-22T00:00:00\"],[\"2019-11-25T00:00:00\"],[\"2019-11-26T00:00:00\"],[\"2019-11-27T00:00:00\"],[\"2019-11-28T00:00:00\"],[\"2019-11-29T00:00:00\"],[\"2019-12-02T00:00:00\"],[\"2019-12-03T00:00:00\"],[\"2019-12-04T00:00:00\"],[\"2019-12-05T00:00:00\"],[\"2019-12-06T00:00:00\"],[\"2019-12-09T00:00:00\"],[\"2019-12-10T00:00:00\"],[\"2019-12-11T00:00:00\"],[\"2019-12-12T00:00:00\"],[\"2019-12-13T00:00:00\"],[\"2019-12-16T00:00:00\"],[\"2019-12-17T00:00:00\"],[\"2019-12-18T00:00:00\"],[\"2019-12-19T00:00:00\"],[\"2019-12-20T00:00:00\"],[\"2019-12-23T00:00:00\"],[\"2019-12-24T00:00:00\"],[\"2019-12-25T00:00:00\"],[\"2019-12-26T00:00:00\"],[\"2019-12-27T00:00:00\"],[\"2019-12-30T00:00:00\"],[\"2019-12-31T00:00:00\"],[\"2020-01-01T00:00:00\"],[\"2020-01-02T00:00:00\"],[\"2020-01-03T00:00:00\"],[\"2020-01-06T00:00:00\"],[\"2020-01-07T00:00:00\"],[\"2020-01-08T00:00:00\"],[\"2020-01-09T00:00:00\"],[\"2020-01-10T00:00:00\"],[\"2020-01-13T00:00:00\"],[\"2020-01-14T00:00:00\"],[\"2020-01-15T00:00:00\"],[\"2020-01-16T00:00:00\"],[\"2020-01-17T00:00:00\"],[\"2020-01-20T00:00:00\"],[\"2020-01-21T00:00:00\"],[\"2020-01-22T00:00:00\"],[\"2020-01-23T00:00:00\"],[\"2020-01-24T00:00:00\"],[\"2020-01-27T00:00:00\"],[\"2020-01-28T00:00:00\"],[\"2020-01-29T00:00:00\"],[\"2020-01-30T00:00:00\"],[\"2020-01-31T00:00:00\"],[\"2020-02-03T00:00:00\"],[\"2020-02-04T00:00:00\"],[\"2020-02-05T00:00:00\"],[\"2020-02-06T00:00:00\"],[\"2020-02-07T00:00:00\"],[\"2020-02-10T00:00:00\"],[\"2020-02-11T00:00:00\"],[\"2020-02-12T00:00:00\"],[\"2020-02-13T00:00:00\"],[\"2020-02-14T00:00:00\"],[\"2020-02-17T00:00:00\"],[\"2020-02-18T00:00:00\"],[\"2020-02-19T00:00:00\"],[\"2020-02-20T00:00:00\"],[\"2020-02-21T00:00:00\"],[\"2020-02-24T00:00:00\"],[\"2020-02-25T00:00:00\"],[\"2020-02-26T00:00:00\"],[\"2020-02-27T00:00:00\"],[\"2020-02-28T00:00:00\"],[\"2020-03-02T00:00:00\"],[\"2020-03-03T00:00:00\"],[\"2020-03-04T00:00:00\"],[\"2020-03-05T00:00:00\"],[\"2020-03-06T00:00:00\"],[\"2020-03-09T00:00:00\"],[\"2020-03-10T00:00:00\"],[\"2020-03-11T00:00:00\"],[\"2020-03-12T00:00:00\"],[\"2020-03-13T00:00:00\"],[\"2020-03-16T00:00:00\"],[\"2020-03-17T00:00:00\"],[\"2020-03-18T00:00:00\"],[\"2020-03-19T00:00:00\"],[\"2020-03-20T00:00:00\"],[\"2020-03-23T00:00:00\"],[\"2020-03-24T00:00:00\"],[\"2020-03-25T00:00:00\"],[\"2020-03-26T00:00:00\"],[\"2020-03-27T00:00:00\"],[\"2020-03-30T00:00:00\"],[\"2020-03-31T00:00:00\"],[\"2020-04-01T00:00:00\"],[\"2020-04-02T00:00:00\"],[\"2020-04-03T00:00:00\"],[\"2020-04-06T00:00:00\"],[\"2020-04-07T00:00:00\"],[\"2020-04-08T00:00:00\"],[\"2020-04-09T00:00:00\"],[\"2020-04-10T00:00:00\"],[\"2020-04-13T00:00:00\"],[\"2020-04-14T00:00:00\"],[\"2020-04-15T00:00:00\"],[\"2020-04-16T00:00:00\"],[\"2020-04-17T00:00:00\"],[\"2020-04-20T00:00:00\"],[\"2020-04-21T00:00:00\"],[\"2020-04-22T00:00:00\"],[\"2020-04-23T00:00:00\"],[\"2020-04-24T00:00:00\"],[\"2020-04-27T00:00:00\"],[\"2020-04-28T00:00:00\"],[\"2020-04-29T00:00:00\"],[\"2020-04-30T00:00:00\"],[\"2020-05-01T00:00:00\"],[\"2020-05-04T00:00:00\"],[\"2020-05-05T00:00:00\"],[\"2020-05-06T00:00:00\"],[\"2020-05-07T00:00:00\"],[\"2020-05-08T00:00:00\"],[\"2020-05-11T00:00:00\"],[\"2020-05-12T00:00:00\"],[\"2020-05-13T00:00:00\"],[\"2020-05-14T00:00:00\"],[\"2020-05-15T00:00:00\"],[\"2020-05-18T00:00:00\"],[\"2020-05-19T00:00:00\"],[\"2020-05-20T00:00:00\"],[\"2020-05-21T00:00:00\"],[\"2020-05-22T00:00:00\"],[\"2020-05-25T00:00:00\"],[\"2020-05-26T00:00:00\"],[\"2020-05-27T00:00:00\"],[\"2020-05-28T00:00:00\"],[\"2020-05-29T00:00:00\"],[\"2020-06-01T00:00:00\"],[\"2020-06-02T00:00:00\"],[\"2020-06-03T00:00:00\"],[\"2020-06-04T00:00:00\"],[\"2020-06-05T00:00:00\"],[\"2020-06-08T00:00:00\"],[\"2020-06-09T00:00:00\"],[\"2020-06-10T00:00:00\"],[\"2020-06-11T00:00:00\"],[\"2020-06-12T00:00:00\"],[\"2020-06-15T00:00:00\"],[\"2020-06-16T00:00:00\"],[\"2020-06-17T00:00:00\"],[\"2020-06-18T00:00:00\"],[\"2020-06-19T00:00:00\"],[\"2020-06-22T00:00:00\"],[\"2020-06-23T00:00:00\"],[\"2020-06-24T00:00:00\"],[\"2020-06-25T00:00:00\"],[\"2020-06-26T00:00:00\"],[\"2020-06-29T00:00:00\"],[\"2020-06-30T00:00:00\"],[\"2020-07-01T00:00:00\"],[\"2020-07-02T00:00:00\"],[\"2020-07-03T00:00:00\"],[\"2020-07-06T00:00:00\"],[\"2020-07-07T00:00:00\"],[\"2020-07-08T00:00:00\"],[\"2020-07-09T00:00:00\"],[\"2020-07-10T00:00:00\"],[\"2020-07-13T00:00:00\"],[\"2020-07-14T00:00:00\"],[\"2020-07-15T00:00:00\"],[\"2020-07-16T00:00:00\"],[\"2020-07-17T00:00:00\"],[\"2020-07-20T00:00:00\"],[\"2020-07-21T00:00:00\"],[\"2020-07-22T00:00:00\"],[\"2020-07-23T00:00:00\"],[\"2020-07-24T00:00:00\"],[\"2020-07-27T00:00:00\"],[\"2020-07-28T00:00:00\"],[\"2020-07-29T00:00:00\"],[\"2020-07-30T00:00:00\"],[\"2020-07-31T00:00:00\"],[\"2020-08-03T00:00:00\"],[\"2020-08-04T00:00:00\"],[\"2020-08-05T00:00:00\"],[\"2020-08-06T00:00:00\"],[\"2020-08-07T00:00:00\"],[\"2020-08-10T00:00:00\"],[\"2020-08-11T00:00:00\"],[\"2020-08-12T00:00:00\"],[\"2020-08-13T00:00:00\"],[\"2020-08-14T00:00:00\"],[\"2020-08-17T00:00:00\"],[\"2020-08-18T00:00:00\"],[\"2020-08-19T00:00:00\"],[\"2020-08-20T00:00:00\"],[\"2020-08-21T00:00:00\"],[\"2020-08-24T00:00:00\"],[\"2020-08-25T00:00:00\"],[\"2020-08-26T00:00:00\"],[\"2020-08-27T00:00:00\"],[\"2020-08-28T00:00:00\"],[\"2020-08-31T00:00:00\"],[\"2020-09-01T00:00:00\"],[\"2020-09-02T00:00:00\"],[\"2020-09-03T00:00:00\"],[\"2020-09-04T00:00:00\"],[\"2020-09-07T00:00:00\"],[\"2020-09-08T00:00:00\"],[\"2020-09-09T00:00:00\"],[\"2020-09-10T00:00:00\"],[\"2020-09-11T00:00:00\"],[\"2020-09-14T00:00:00\"],[\"2020-09-15T00:00:00\"],[\"2020-09-16T00:00:00\"],[\"2020-09-17T00:00:00\"],[\"2020-09-18T00:00:00\"],[\"2020-09-21T00:00:00\"],[\"2020-09-22T00:00:00\"],[\"2020-09-23T00:00:00\"],[\"2020-09-24T00:00:00\"],[\"2020-09-25T00:00:00\"],[\"2020-09-28T00:00:00\"],[\"2020-09-29T00:00:00\"],[\"2020-09-30T00:00:00\"],[\"2020-10-01T00:00:00\"],[\"2020-10-02T00:00:00\"],[\"2020-10-05T00:00:00\"],[\"2020-10-06T00:00:00\"],[\"2020-10-07T00:00:00\"],[\"2020-10-08T00:00:00\"],[\"2020-10-09T00:00:00\"],[\"2020-10-12T00:00:00\"],[\"2020-10-13T00:00:00\"],[\"2020-10-14T00:00:00\"],[\"2020-10-15T00:00:00\"],[\"2020-10-16T00:00:00\"],[\"2020-10-19T00:00:00\"],[\"2020-10-20T00:00:00\"],[\"2020-10-21T00:00:00\"],[\"2020-10-22T00:00:00\"],[\"2020-10-23T00:00:00\"],[\"2020-10-26T00:00:00\"],[\"2020-10-27T00:00:00\"],[\"2020-10-28T00:00:00\"],[\"2020-10-29T00:00:00\"],[\"2020-10-30T00:00:00\"],[\"2020-11-02T00:00:00\"],[\"2020-11-03T00:00:00\"],[\"2020-11-04T00:00:00\"],[\"2020-11-05T00:00:00\"],[\"2020-11-06T00:00:00\"],[\"2020-11-09T00:00:00\"],[\"2020-11-10T00:00:00\"],[\"2020-11-11T00:00:00\"],[\"2020-11-12T00:00:00\"],[\"2020-11-13T00:00:00\"],[\"2020-11-16T00:00:00\"],[\"2020-11-17T00:00:00\"],[\"2020-11-18T00:00:00\"],[\"2020-11-19T00:00:00\"],[\"2020-11-20T00:00:00\"],[\"2020-11-23T00:00:00\"],[\"2020-11-24T00:00:00\"],[\"2020-11-25T00:00:00\"],[\"2020-11-26T00:00:00\"],[\"2020-11-27T00:00:00\"],[\"2020-11-30T00:00:00\"],[\"2020-12-01T00:00:00\"],[\"2020-12-02T00:00:00\"],[\"2020-12-03T00:00:00\"],[\"2020-12-04T00:00:00\"],[\"2020-12-07T00:00:00\"],[\"2020-12-08T00:00:00\"],[\"2020-12-09T00:00:00\"],[\"2020-12-10T00:00:00\"],[\"2020-12-11T00:00:00\"],[\"2020-12-14T00:00:00\"],[\"2020-12-15T00:00:00\"],[\"2020-12-16T00:00:00\"],[\"2020-12-17T00:00:00\"],[\"2020-12-18T00:00:00\"],[\"2020-12-21T00:00:00\"],[\"2020-12-22T00:00:00\"],[\"2020-12-23T00:00:00\"],[\"2020-12-24T00:00:00\"],[\"2020-12-25T00:00:00\"],[\"2020-12-28T00:00:00\"],[\"2020-12-29T00:00:00\"],[\"2020-12-30T00:00:00\"],[\"2020-12-31T00:00:00\"],[\"2021-01-01T00:00:00\"],[\"2021-01-04T00:00:00\"],[\"2021-01-05T00:00:00\"],[\"2021-01-06T00:00:00\"],[\"2021-01-07T00:00:00\"],[\"2021-01-08T00:00:00\"],[\"2021-01-11T00:00:00\"],[\"2021-01-12T00:00:00\"],[\"2021-01-13T00:00:00\"],[\"2021-01-14T00:00:00\"],[\"2021-01-15T00:00:00\"],[\"2021-01-18T00:00:00\"],[\"2021-01-19T00:00:00\"],[\"2021-01-20T00:00:00\"],[\"2021-01-21T00:00:00\"],[\"2021-01-22T00:00:00\"],[\"2021-01-25T00:00:00\"],[\"2021-01-26T00:00:00\"],[\"2021-01-27T00:00:00\"],[\"2021-01-28T00:00:00\"],[\"2021-01-29T00:00:00\"],[\"2021-02-01T00:00:00\"],[\"2021-02-02T00:00:00\"],[\"2021-02-03T00:00:00\"],[\"2021-02-04T00:00:00\"],[\"2021-02-05T00:00:00\"],[\"2021-02-08T00:00:00\"],[\"2021-02-09T00:00:00\"],[\"2021-02-10T00:00:00\"],[\"2021-02-11T00:00:00\"],[\"2021-02-12T00:00:00\"],[\"2021-02-15T00:00:00\"],[\"2021-02-16T00:00:00\"],[\"2021-02-17T00:00:00\"],[\"2021-02-18T00:00:00\"],[\"2021-02-19T00:00:00\"],[\"2021-02-22T00:00:00\"],[\"2021-02-23T00:00:00\"],[\"2021-02-24T00:00:00\"],[\"2021-02-25T00:00:00\"],[\"2021-02-26T00:00:00\"],[\"2021-03-01T00:00:00\"],[\"2021-03-02T00:00:00\"],[\"2021-03-03T00:00:00\"],[\"2021-03-04T00:00:00\"],[\"2021-03-05T00:00:00\"],[\"2021-03-08T00:00:00\"],[\"2021-03-09T00:00:00\"],[\"2021-03-10T00:00:00\"],[\"2021-03-11T00:00:00\"],[\"2021-03-12T00:00:00\"],[\"2021-03-15T00:00:00\"],[\"2021-03-16T00:00:00\"],[\"2021-03-17T00:00:00\"],[\"2021-03-18T00:00:00\"],[\"2021-03-19T00:00:00\"],[\"2021-03-22T00:00:00\"],[\"2021-03-23T00:00:00\"],[\"2021-03-24T00:00:00\"],[\"2021-03-25T00:00:00\"],[\"2021-03-26T00:00:00\"],[\"2021-03-29T00:00:00\"],[\"2021-03-30T00:00:00\"],[\"2021-03-31T00:00:00\"],[\"2021-04-01T00:00:00\"],[\"2021-04-02T00:00:00\"],[\"2021-04-05T00:00:00\"],[\"2021-04-06T00:00:00\"],[\"2021-04-07T00:00:00\"],[\"2021-04-08T00:00:00\"],[\"2021-04-09T00:00:00\"],[\"2021-04-12T00:00:00\"],[\"2021-04-13T00:00:00\"],[\"2021-04-14T00:00:00\"],[\"2021-04-15T00:00:00\"],[\"2021-04-16T00:00:00\"],[\"2021-04-19T00:00:00\"],[\"2021-04-20T00:00:00\"],[\"2021-04-21T00:00:00\"],[\"2021-04-22T00:00:00\"],[\"2021-04-23T00:00:00\"],[\"2021-04-26T00:00:00\"],[\"2021-04-27T00:00:00\"],[\"2021-04-28T00:00:00\"],[\"2021-04-29T00:00:00\"],[\"2021-04-30T00:00:00\"],[\"2021-05-03T00:00:00\"],[\"2021-05-04T00:00:00\"],[\"2021-05-05T00:00:00\"],[\"2021-05-06T00:00:00\"],[\"2021-05-07T00:00:00\"],[\"2021-05-10T00:00:00\"],[\"2021-05-11T00:00:00\"],[\"2021-05-12T00:00:00\"],[\"2021-05-13T00:00:00\"],[\"2021-05-14T00:00:00\"],[\"2021-05-17T00:00:00\"],[\"2021-05-18T00:00:00\"],[\"2021-05-19T00:00:00\"],[\"2021-05-20T00:00:00\"],[\"2021-05-21T00:00:00\"],[\"2021-05-24T00:00:00\"],[\"2021-05-25T00:00:00\"],[\"2021-05-26T00:00:00\"],[\"2021-05-27T00:00:00\"],[\"2021-05-28T00:00:00\"],[\"2021-05-31T00:00:00\"],[\"2021-06-01T00:00:00\"],[\"2021-06-02T00:00:00\"],[\"2021-06-03T00:00:00\"],[\"2021-06-04T00:00:00\"],[\"2021-06-07T00:00:00\"],[\"2021-06-08T00:00:00\"],[\"2021-06-09T00:00:00\"],[\"2021-06-10T00:00:00\"],[\"2021-06-11T00:00:00\"],[\"2021-06-14T00:00:00\"],[\"2021-06-15T00:00:00\"],[\"2021-06-16T00:00:00\"],[\"2021-06-17T00:00:00\"],[\"2021-06-18T00:00:00\"],[\"2021-06-21T00:00:00\"],[\"2021-06-22T00:00:00\"],[\"2021-06-23T00:00:00\"],[\"2021-06-24T00:00:00\"],[\"2021-06-25T00:00:00\"],[\"2021-06-28T00:00:00\"],[\"2021-06-29T00:00:00\"],[\"2021-06-30T00:00:00\"],[\"2021-07-01T00:00:00\"],[\"2021-07-02T00:00:00\"],[\"2021-07-05T00:00:00\"],[\"2021-07-06T00:00:00\"],[\"2021-07-07T00:00:00\"],[\"2021-07-08T00:00:00\"],[\"2021-07-09T00:00:00\"],[\"2021-07-12T00:00:00\"],[\"2021-07-13T00:00:00\"],[\"2021-07-14T00:00:00\"],[\"2021-07-15T00:00:00\"],[\"2021-07-16T00:00:00\"],[\"2021-07-19T00:00:00\"],[\"2021-07-20T00:00:00\"],[\"2021-07-21T00:00:00\"],[\"2021-07-22T00:00:00\"],[\"2021-07-23T00:00:00\"],[\"2021-07-26T00:00:00\"],[\"2021-07-27T00:00:00\"],[\"2021-07-28T00:00:00\"],[\"2021-07-29T00:00:00\"],[\"2021-07-30T00:00:00\"],[\"2021-08-02T00:00:00\"],[\"2021-08-03T00:00:00\"],[\"2021-08-04T00:00:00\"],[\"2021-08-05T00:00:00\"],[\"2021-08-06T00:00:00\"],[\"2021-08-09T00:00:00\"],[\"2021-08-10T00:00:00\"],[\"2021-08-11T00:00:00\"],[\"2021-08-12T00:00:00\"],[\"2021-08-13T00:00:00\"],[\"2021-08-16T00:00:00\"],[\"2021-08-17T00:00:00\"],[\"2021-08-18T00:00:00\"],[\"2021-08-19T00:00:00\"],[\"2021-08-20T00:00:00\"],[\"2021-08-23T00:00:00\"],[\"2021-08-24T00:00:00\"],[\"2021-08-25T00:00:00\"],[\"2021-08-26T00:00:00\"],[\"2021-08-27T00:00:00\"],[\"2021-08-30T00:00:00\"],[\"2021-08-31T00:00:00\"],[\"2021-09-01T00:00:00\"],[\"2021-09-02T00:00:00\"],[\"2021-09-03T00:00:00\"],[\"2021-09-06T00:00:00\"],[\"2021-09-07T00:00:00\"],[\"2021-09-08T00:00:00\"],[\"2021-09-09T00:00:00\"],[\"2021-09-10T00:00:00\"],[\"2021-09-13T00:00:00\"],[\"2021-09-14T00:00:00\"],[\"2021-09-15T00:00:00\"],[\"2021-09-16T00:00:00\"],[\"2021-09-17T00:00:00\"],[\"2021-09-20T00:00:00\"],[\"2021-09-21T00:00:00\"],[\"2021-09-22T00:00:00\"],[\"2021-09-23T00:00:00\"],[\"2021-09-24T00:00:00\"],[\"2021-09-27T00:00:00\"],[\"2021-09-28T00:00:00\"],[\"2021-09-29T00:00:00\"],[\"2021-09-30T00:00:00\"],[\"2021-10-01T00:00:00\"],[\"2021-10-04T00:00:00\"],[\"2021-10-05T00:00:00\"],[\"2021-10-06T00:00:00\"],[\"2021-10-07T00:00:00\"],[\"2021-10-08T00:00:00\"],[\"2021-10-11T00:00:00\"],[\"2021-10-12T00:00:00\"],[\"2021-10-13T00:00:00\"],[\"2021-10-14T00:00:00\"],[\"2021-10-15T00:00:00\"],[\"2021-10-18T00:00:00\"],[\"2021-10-19T00:00:00\"],[\"2021-10-20T00:00:00\"],[\"2021-10-21T00:00:00\"],[\"2021-10-22T00:00:00\"],[\"2021-10-25T00:00:00\"],[\"2021-10-26T00:00:00\"],[\"2021-10-27T00:00:00\"],[\"2021-10-28T00:00:00\"],[\"2021-10-29T00:00:00\"],[\"2021-11-01T00:00:00\"],[\"2021-11-02T00:00:00\"],[\"2021-11-03T00:00:00\"],[\"2021-11-04T00:00:00\"],[\"2021-11-05T00:00:00\"],[\"2021-11-08T00:00:00\"],[\"2021-11-09T00:00:00\"],[\"2021-11-10T00:00:00\"],[\"2021-11-11T00:00:00\"],[\"2021-11-12T00:00:00\"],[\"2021-11-15T00:00:00\"],[\"2021-11-16T00:00:00\"],[\"2021-11-17T00:00:00\"],[\"2021-11-18T00:00:00\"],[\"2021-11-19T00:00:00\"],[\"2021-11-22T00:00:00\"],[\"2021-11-23T00:00:00\"],[\"2021-11-24T00:00:00\"],[\"2021-11-25T00:00:00\"],[\"2021-11-26T00:00:00\"],[\"2021-11-29T00:00:00\"],[\"2021-11-30T00:00:00\"],[\"2021-12-01T00:00:00\"],[\"2021-12-02T00:00:00\"],[\"2021-12-03T00:00:00\"],[\"2021-12-06T00:00:00\"],[\"2021-12-07T00:00:00\"],[\"2021-12-08T00:00:00\"],[\"2021-12-09T00:00:00\"],[\"2021-12-10T00:00:00\"],[\"2021-12-13T00:00:00\"],[\"2021-12-14T00:00:00\"],[\"2021-12-15T00:00:00\"],[\"2021-12-16T00:00:00\"],[\"2021-12-17T00:00:00\"],[\"2021-12-20T00:00:00\"],[\"2021-12-21T00:00:00\"],[\"2021-12-22T00:00:00\"],[\"2021-12-23T00:00:00\"],[\"2021-12-24T00:00:00\"],[\"2021-12-27T00:00:00\"],[\"2021-12-28T00:00:00\"],[\"2021-12-29T00:00:00\"],[\"2021-12-30T00:00:00\"],[\"2021-12-31T00:00:00\"]],\"hovertemplate\":\"Asset 2=%{x}\\u003cbr\\u003eAsset 3=%{y}\\u003cbr\\u003edate=%{customdata[0]}\\u003cextra\\u003e\\u003c\\u002fextra\\u003e\",\"legendgroup\":\"\",\"marker\":{\"color\":\"#636efa\",\"symbol\":\"circle\"},\"mode\":\"markers\",\"name\":\"\",\"orientation\":\"v\",\"showlegend\":false,\"x\":[-1.610594130279168,2.091669698072014,1.2649207197577161,0.1055594651653652,1.282952548330402,0.06940829429118334,0.03468007629615496,-0.17334026694400173,0.6598367772182562,0.7935138864930201,0.051343487934274845,1.744782757440989,-0.20174848688634012,-0.6064690026954198,-0.5762711864406925,0.2386634844868796,1.0374149659864007,-1.2119171856589839,0.11927074459022959,0.8509189925119074,1.4849814377320258,0.3658131027602222,0.08283631544069787,0.7283562324118446,-0.016433853738682568,-1.4957264957265008,-0.2502920073418986,0.9200401472064003,1.2100116028510106,0.2947920078611016,-0.3919007184846475,1.0819672131147424,0.3243593902043676,-0.03233107015841022,0.25873221216039477,-0.3064516129032144,0.5986086393787243,0.6915406883242184,-0.399297236863112,-0.5612572161642156,0.22577003709081034,0.01609010458566105,0.0,0.032175032175032994,-0.4985525892569893,-0.8566348795862189,-0.8477339419628386,1.5455442288720815,0.712435233160627,0.6752411575562617,-0.03193867773872974,0.5271565495207611,-0.09534403305261316,0.8589152218864415,-1.214319507964043,1.0217113665389532,-1.1378002528445044,-0.5115089514066499,0.5944730077120782,-0.5590161316083517,0.17667844522965453,0.833734167067509,1.065352202257919,0.2045311516677145,0.6751452347307254,-0.34310667498440056,0.547730829420978,-0.03112840466927385,-0.295811925891317,0.15615240474703707,0.14031805425629928,0.4203643157403128,-0.031007751937972974,0.27915632754340675,-0.3402412619857681,-0.07759155803848122,0.0,0.0,1.0560646063053043,0.19978484708777508,-0.19938650306750796,0.0614722606423989,0.4300414682844405,-0.41290717235050456,0.0,-0.6756756756756562,0.8348794063079497,-0.6746396810794163,-0.9416486569929045,-0.14025245441793732,-1.5449438202247148,-0.4279600570613455,-0.5253104106972245,1.0561689870379274,0.23752969121138856,1.2954186413902007,-0.34310667498440056,-1.0485133020344368,0.5219041594180048,-0.15733165512901595,-1.3867002836432374,0.19175455417066642,0.11164274322169976,-0.12744941851203123,-1.7546658159196107,0.2922552362396567,-0.631374453618258,-0.3910068426197557,1.144913313706264,0.9540750323415184,0.6887714239948726,1.431753102131707,0.8155583437892053,-0.3266957062850176,-0.35898236304040276,0.21929824561402822,0.03125976867771258,0.20312500000001138,1.029159519725571,-0.20064824818647195,0.7578100835137774,0.5679201841903261,-0.24420024420023825,-0.6425948592411422,-0.40036957191250816,-0.09276437847867881,0.4797276385020178,1.0164792853842612,-0.0762311327946292,0.9154714678059068,0.347747202902936,-0.6930842248003671,-0.136549840691862,-0.015192950470963753,0.5470293268500125,0.3324769533020971,0.1807501129688252,0.13531799729363753,0.030030030030030793,-0.5854097868507925,-0.6039559112184844,0.6835789153881202,-0.6336753168376505,0.39477679927117926,0.5142165759225541,0.10532651218780273,0.3908011423417867,-0.044916903728086315,-0.20970641102458276,0.03002101471030989,-0.10504201680674322,-3.0644434429923217,-1.7666201766620253,-0.6467897144660143,0.30168307399174477,2.200411587779021,-0.5885997521685035,-0.467435338111573,0.9549154664996675,-1.783222204993012,-0.7420271550363244,1.4474312072530673,1.3640639698965351,-0.2784222737819096,0.263688537304173,-0.3558168316831712,-1.304145319049833,-0.3460751927009683,0.3472770323599141,0.14157621519583194,1.3666352497643892,-0.04649000464900779,-0.2790697674418675,-0.3575870646766075,0.9829926665626402,1.6378244746600787,0.0,0.12161751292186383,-0.8047373215912564,1.0408694321138854,0.6817148916830655,0.03009328919653384,-0.5415162454873783,0.07562008469449077,-0.060450355145850024,0.7863299561470152,-0.3450862715678947,-0.5871725383920594,-0.03028926245645995,-0.6514164520527177,-0.13723696248857312,0.5038937242327018,-0.19750835612274598,-0.5480286192723416,-2.6174804836981473,0.22005658597924488,1.5526976160602342,0.6023166023166114,-1.9496469143383668,0.5949585094723809,1.1206225680933888,1.554563644759116,-0.7881176113974131,0.9318667888786979,-0.22703193582561523,0.18203883495146092,-0.21199273167777638,0.3793626707132054,0.25699168556310265,-0.331724969843193,0.3782148260211716,0.43707611152979553,0.3901560624249679,0.20926756352765852,-0.2834128878281872,-0.3290949887808492,1.0805943268797757,0.6978470675575472,-0.14744913005012475,-0.014766686355588044,0.5907546891153481,-0.33768903244751414,-0.05892751915143352,0.6191037735849096,-0.2783474948725706,-0.029381519024522653,0.7788390889052307,0.17497812773403765,0.0,-0.16011644832606514,-0.5394372357486593,0.11726766344179725,0.8638360175695623,0.2612861082885595,0.30403938033880024,0.11547344110854796,-0.14417531718569002,-1.0684377707190567,-1.1383537653239872,1.2695600826690376,-0.21865889212827963,1.2417823228633948,-0.12987012987012744,-0.24562924432883176,-0.04345307068368,0.7824952905376001,-0.02875629043852274,1.0786710772328478,-0.04268639726806601,0.09964412811386456,0.17064846416382687,0.6956274843838848,0.05639362752006927,0.028180921516145485,0.0,0.0,0.46485420481757495,-0.7010656197420034,-0.028240609997187867,0.0,0.46610169491524933,0.042176296921148146,-0.15458122540753066,0.2674173117522771,0.1684446939921435,0.7707399103139042,0.12515644555694383,0.04166666666667324,0.24989587671802946,0.318515441074635,0.24848150193265117,0.550812448361325,0.02738975623118111,0.054764512595817536,0.12315270935962534,-0.7106737734043969,0.23399862353748715,-2.1148036253776317,1.0101010101010022,0.1805555555555546,-0.9150145570497724,-0.4197565412060889,0.3231698749473007,1.540616246498605,0.6206896551724022,0.6991089787525717,-0.1905799074326104,0.0,0.7774140752864084,0.3924753011232959,0.08088433540036881,-0.02693965517240378,0.32336297493935623,-0.8998119795863407,0.9350860550210239,-1.2755102040816488,-0.08159934720523523,-3.1169184701238475,-1.64372014610846,-0.5856306241965412,-3.908045977011502,-4.336124401913879,3.2666458268208713,1.0443469047979743,0.43439185140801,0.3430275913497418,-3.7158145065398336,-4.955233096634761,-1.5267175572519083,0.5772719775688684,-9.544112823876688,1.1058738216098687,-1.111708804016496,-0.3807796917497902,-5.314888969785211,0.057670126874272955,-0.7108549471661815,-6.1145510835913175,9.25391591096453,3.527636295038679,3.6989795918367347,-1.6693024073097948,2.126518942101505,1.2598425196850436,-5.184033177812346,-0.09112447603425788,-0.4013133892739833,4.560439560439552,4.326502014363305,-0.13431833445266952,2.723604572965719,0.0,0.0,1.047463175122737,-1.5387107223841985,0.509952294785346,1.7839607201309196,0.7557485126225953,-4.356846473029023,2.035708326380776,1.4554374488961612,-1.273372018052882,2.840816326530619,0.28575964438798007,1.7571632103846773,-0.7311761045426137,0.0,-3.35370631562452,2.6755310523755704,-0.8686039166140271,0.8284212203281652,1.0428187707378747,0.10946051602815597,0.1405810684161049,-2.9324598346591677,-1.3498312710911222,1.058804365531866,4.352030947775611,0.1699104108742522,0.6630686198920694,-1.0876225490196172,-0.20133188787361223,1.8466790813159564,0.45710802986440285,-0.5308660700743286,1.9060689234522656,-1.197067185395775,1.1207027108889822,0.40437322150668087,1.924224343675401,-0.11707888189666923,2.842490842490833,0.09972930616898945,-0.014232849416459184,-0.5551601423487514,-3.406813627254515,-1.5856550088915222,-0.5571450082818814,3.649303452453049,-0.04382761139517427,-0.2923121894183061,0.5863383172090328,-0.9618187117458595,1.5008828722778371,-3.0153667729776816,-0.4633781763826546,-0.39044901636884594,0.42213176541535824,1.1409698243507032,0.9945079412201352,1.2492651381540176,-0.6241834809116198,1.738241308793483,-0.05743000717876375,-1.0056026432983909,-0.565955594253371,0.9924109748978653,2.1676300578034655,-1.8104667609618115,1.6709881878421053,-0.5383961462170386,0.38461538461536604,0.5108556832694781,1.129464915996042,-0.3769370375540904,0.43441704035873874,-1.6603878889353798,0.04256526674233369,0.41128917883986305,0.15536723163841643,-0.3666619658722082,0.3113941967445118,1.5944687455905076,0.15277777777778717,0.8181944251837513,-0.1375515818432056,0.716253443526189,0.13676148796498164,0.7511608850040999,0.05422258370609344,0.06774149844194188,-0.09477389656104776,0.16262366174276618,0.12176971992966339,0.35135135135137097,-0.6598437920818857,0.32533550223666824,1.0268882583434717,0.37448174401498874,0.6928714190539391,1.0586211459573964,-0.07856488149796201,0.09173109684183692,0.36658811207121134,1.095747456300555,-2.0645161290322487,-2.8194993412384695,1.7082429501084275,-2.332711276992782,1.32387061553158,0.053879310344850356,-1.5347334410339324,1.4766201804757937,0.4850444624090451,0.17430946634488498,-1.6999063043769298,-0.8986928104575282,-3.1189887331684396,1.3189618493830602,0.6019036954087554,-1.6001113120912995,0.7070135746606402,2.5975849480482944,-0.23265361981661467,1.0973936899862886,0.28493894165533984,-0.9876877283182017,1.229844219732144,0.3239740820734424,0.05382131324004443,0.7261968800430417,1.1214953271027899,1.7031951412727926,-0.012981955082451207,-0.5712801869644187,-1.240532776181766,1.0577813037154837,-0.26167735182522683,-1.4430014430014484,0.026620524424363544,-0.27944111776449393,0.5604483586869532,-1.9240976645435468,0.32471925314574757,-2.7916385704652846,-0.04162042175361367,-1.0270645385149022,1.3322114710419353,2.2972598948242267,2.3674242424242435,1.4536804546055293,-0.3386739611827519,2.914651679519013,-2.0066040132080265,1.0368066355624528,-0.4232939969214835,0.012881617931207373,1.7774343122101948,-0.31637560111364516,0.07617113114130947,-1.471520994545221,0.4763744045319808,-0.6406970784212879,2.0634511220015175,-0.11372251705837544,0.11385199240986504,0.24008086934547485,-1.1092903063153994,1.9502868068833692,-0.21255313828457156,0.451071294324031,0.33678433329172885,0.062158130283437724,0.0745434215430606,-0.09931719428926385,-0.4349446998881336,-0.8237643534698259,0.7676818525044193,-0.19982515299113782,0.9510699536979145,0.34709309532664817,-0.44471896232243247,-1.0174959672416093,0.6894822615018203,0.42330677290836743,-0.09918175055788017,0.0,0.9803921568627552,0.18434312400146477,-0.08586849852795615,-0.196439533456113,0.0,-0.8365112559970492,0.2729189926807862,1.5959421007052,0.8037018996590463,0.22952403962308876,0.0,-0.22899843316860657,0.19328340178785713,0.2170243549554045,-1.0707410972088578,-0.04864404718472699,0.2311716753862914,1.5052197135227185,0.31093039942595396,-0.32188841201718027,-0.406649922258104,0.7805932508706769,-1.7516682554814034,0.6549423893268524,-2.084588504639104,0.6891459512675147,2.0777316059643356,-0.08381226053638632,0.6590772917914752,0.7619047619047623,0.29536862003780995,0.2827188125809756,-0.05873370139785892,0.2585801598495506,0.175849941383362,0.7957870099473392,-0.5224660397074092,-0.6185807656396002,-0.2818555490311287,0.7537392533270526,-1.1338398597311383,-0.6857413100023726,1.226190476190474,-0.411619428437,-1.3108171941426736,1.5196840971640593,-0.5068363979255056,-0.24878568889942107,-1.1163895486935866,-2.209944751381214,3.5494964382215546,0.5456055034989963,0.31850890645276725,1.3405456255879644,-0.7542353214202975,0.4559803577692014,0.6866852886405994,-0.6588833660848578,0.5003490807540317,-1.0420284821118615,0.5499005499005499,-0.139632301605775,-0.06991377301327614,-1.0611007462686513,1.19033588685917,0.4891684136967002,0.10431154381086485,0.5210142410559123,0.6104584197189513,0.0,0.0,1.9004006868918173,-0.16852039096729796,0.4051316677920248,0.30262273032951686,0.4022795843110887,0.30050083472455297,0.2219263204616124,0.3432240921169131,0.4192872117400438,-0.2856828919898898,-0.9586776859504244,0.745438362260798,0.45278851463278913,-0.05496921723834356,0.3849961500385138,-0.1424501424501591,0.09876001316801734,0.07673755755317446,-0.19717384160369425,0.3512237954121481,-1.3999781253417922,0.9983361064891836,-0.07688083470619425,1.3959111892723548,-0.07588075880757708,-1.9527012367107979,-1.206019030758991,0.31358494792247205,1.3174053812660558,-0.30853994490357156,0.21001436940421453,-1.7868960953011266,1.8081761006289363,0.353006067291773,0.6705507310102358,-0.3275824415811482,0.1643295354951882,0.20780925298041442,0.2073783016808653,-0.41389826816251135,0.2843705567100499,0.2072199803686257,-0.46800174140182743,0.6342263531984765,-0.10866021949363751,-0.03263352550854425,0.40261153427637597,0.08670207001192373,0.05414185165134074,-0.05411255411256837,0.16242555495398783,0.10810810810810226,-0.44276457883370024,-1.1389521640091018,0.822909809084932,0.6203068886712141,0.140601341120501,0.46441300356409876,0.33326166415824116,-0.0428586735240385,0.4609282881337582,-0.08536064874091566,0.3630926954293044,0.6277931474781732,0.4229671143068566,-0.6001895335368841,0.5084745762711655,-0.8326306913996379,1.1584652991816258,0.3256986761924731,0.3141690229343383,-0.41758012318613036,-0.1467659083761521,-0.35695538057742854,-2.0124328311031388,1.1935483870967745,0.7863138880033779,0.22140221402215843,1.0940458657689822,0.301768990634759,-0.7573399730262461,0.43905498641018903,0.4683597002497996,-0.6940847404951881,0.4485708324640255,-0.44656766019318184,0.22950135614437478,0.40591174021648424,0.25914792163368744,-0.06203473945410407,0.1241464928615798,0.12399256044637635,0.17543859649121202,0.36056454105286173,-0.318209813180041,0.03089280197712784,-0.195593988058465,-0.9283135636926241,0.7287870900572555,1.1472868217054268,0.03065603923973506,0.24517315353967736,-0.32609803322122927,0.48052346385850114,0.7529507529507479,-0.151484548576021,0.05057145746938547,0.22240194096239144,-0.15130119023602168,0.28285685422769086,-0.6044122091266237,-0.37498733150907615,0.25432349949137156,-0.6798579401319178,-0.4290968532897453,-0.10260619741433458,-0.112982744453565,-0.010282776349626906,-0.3496503496503341,-1.795665634674927,0.3467843631778104,0.6283380458686766,1.134353210531801,-0.2263840296357414,0.11344884488447904,-1.9058411455650353,0.2520478890989185,-0.5342551854179772,-0.6108478146392742,-0.9536929108827116,1.797368139510015,-1.2716763005780294,2.7251437087502675,-0.5284974093264259,0.18751953328471363,-1.1646043464697895,-0.4103103629668741,1.9754912317768898,0.9219931627473353,0.3182098131800573,0.7060268085541612,0.4572241414346915,-0.12137149792658937,0.15189873417722305,0.5156723963599446,0.6337390604567147,-0.2399040383846681,0.2304609218436972,0.1999400179946067,0.30928863613689694,0.46747563158940125,-0.09900009900010937,0.9315231394311764,0.8541973490427198,-0.13629283489096145,-0.487424449210377,-0.019592476489020932,-0.4703115814227044,0.5119117936601667,0.15670910871694815,0.4596127518091296,-0.31149615496934496,0.10741138560686542,0.22434646898167168,0.52554744525548,-1.3554071062058317,0.44165276278340115,0.39085401602499353,-2.4527934592174274,1.0576731191378996,-1.1947077409162823,1.2990906365544053,-2.012429712932809,-0.3221584616933376,0.969599030400946,2.3306992097629364,-0.2052785923753679,0.18611029483789676,-0.17598748533438843,-0.11753183153769557,-1.2159246911159203,-0.08933889219771932,1.8976651763537054,-1.2187987519500894,-2.3689665383476433,1.4659791729855436,1.7536867277799888,0.9792401096749016,0.06788207913109955,0.7461963368543459,0.5482878030011491,-0.16263273701329795,0.287466462246071,-0.5255111790559777,0.0],\"xaxis\":\"x\",\"y\":[-0.5847953216374151,2.549019607843138,-0.7265774378585153,0.6933744221879731,0.22953328232592987,0.5725190839694819,0.07590132827324694,-0.6825938566552957,0.5727376861397503,0.07593014426726243,0.0,1.8209408194233931,-0.2608047690014977,-0.448262980948836,-0.22514071294558372,0.0,0.48890560361038,-0.9730538922155693,0.907029478458048,0.5992509363295915,0.5584512285927051,0.296186597556442,0.11074197120710409,1.5486725663716716,-0.07262164124908106,-1.2718023255813917,-0.1840264998159787,0.6637168141592974,0.402930402930401,0.4742794600510631,-0.07262164124908106,1.5625000000000044,0.14311270125222716,-0.2858163629867761,0.7165890361877275,-0.0355745286374836,0.14234875444840261,0.07107320540155267,0.39062499999999817,-0.2122391227449525,0.10634526763558033,0.21246458923514644,0.31802120141342366,0.49313138429024417,0.03505082369435781,-0.0700770847932746,-0.7012622720897687,0.6355932203389882,-0.17543859649123306,0.8084358523725937,0.767085076708504,0.8304498269896177,0.2402196293754233,0.479287915097583,-0.7155025553662769,0.06863417982154058,-1.1316872427983486,-0.31217481789801915,0.8698677800974245,0.10348395998621765,0.0,0.62026188835284,0.9246575342465767,0.3053953172717982,0.6089309878213852,-0.1008742434431648,0.20195220464489416,-0.06718172657036252,-0.3697478991596621,0.0,-0.1349527665317177,0.03378378378377243,0.06754474839581415,0.3037462031724567,-0.10094212651411023,0.26945099360052194,0.0,0.0,0.5038629492777985,0.03342245989306126,0.033411293017040704,0.16700066800266455,0.16672224074692038,0.29960053262316544,0.0,-0.5642217059409145,0.5674232309746245,-0.9956853634251617,-1.40797854508884,0.374022441346479,-1.3550135501355027,0.06868131868132064,-0.857927247769376,0.9691934925579682,0.6513541309564556,1.5667574931880182,-0.2682763246143604,-0.907868190988569,0.4411265693926152,-0.03378378378378474,-1.081446434606292,0.6832934745473126,0.4411265693926152,-0.6418918918918978,-1.088065283917041,0.44688896528016514,-0.9240246406570731,0.6217616580310931,0.5149330587023582,0.20491803278687862,0.238582140422638,0.8500510030601829,0.5057316250842906,0.40254948004026636,-0.23387905111928492,0.10046885465505978,-0.33456005352961804,-0.0671366230278636,1.7467248908296829,0.0,0.42918454935624745,-0.46022353714662706,-0.09907529722589449,-0.03305785123965831,-0.39682539682540807,-0.033200531208488177,0.6974427100630975,0.7255936675461707,0.49115913555993534,0.7494297816878555,0.0,-0.5821474773609596,-0.06506180871827237,-0.35807291666666496,-0.22868343678537073,-0.36018336607727397,-0.328623069339477,0.1318826244642426,0.3292723081988658,-0.1969149983590353,-0.09865175928971014,0.032916392363397905,0.13162224415926665,0.985869208018407,-0.19524894240155566,-0.6847081838930626,0.5909389363099194,0.13054830287205446,-1.205997392438081,0.03299241174531155,0.39577836411609424,-2.5295663600525504,-2.190765082574992,-0.7236388697450113,0.242971190558828,2.042936288088638,-0.7804546996946146,-0.13679890560874655,0.753424657534268,-1.393609789259022,-0.10341261633918376,1.1732229123533426,0.954979536152799,-0.472972972972974,0.9843856076035334,-0.47058823529413096,-0.8780817291455469,0.17035775127766312,0.544217687074833,-0.10148849797020827,1.151371486623768,0.5691329092735226,0.36617842876164935,-0.2321724709784477,0.7313829787234007,0.42904290429042924,0.29576076240551724,-0.32765399737875345,0.06574621959236332,0.7555847568988268,0.1304206064558237,0.03256268316508185,-0.5859375000000048,0.1637197118533118,-0.13076168682576375,0.7855973813420606,0.4871711594673734,-0.45248868778280643,-0.09740259740260016,-0.38999025024375494,0.7830342577487869,0.35610229847847025,0.3870967741935476,-1.4138817480719843,-2.83572359843546,0.13418316001343433,0.8375209380234375,0.7973421926910161,-1.087673038892546,0.5664778407197519,0.695825049701797,1.6781836130306018,-0.48543689320387373,0.6829268292683002,-0.0645994832041362,-0.19392372333549354,-0.38860103626941744,0.5851755526657926,0.3878474466709635,0.193174500965878,0.9640102827763536,0.031826861871408776,-0.03181673560291645,-0.06365372374285236,0.31847133757962687,-0.6031746031746203,0.4152028106036645,1.0178117048346111,0.12594458438286363,0.44025157232704504,0.1878522229179765,-0.06250000000000176,-0.0625390869293326,0.46933667083855,-0.062285892245408175,-0.49859769398566806,0.15659254619480556,0.0938086303939875,-0.21868166198062586,-0.4696305572949413,-0.18873859704308923,0.37819098644816707,1.0047095761381417,-0.1865091700341873,0.37371535347242635,-0.124107973937329,-0.3417210313762022,-1.7144638403989942,-0.6977481763400134,1.1817310763334503,-0.25252525252523667,1.3291139240506245,-0.3747657713928787,-0.09404388714732666,0.18826482585502996,0.2818665831506386,0.8119925046845724,1.3320941759603508,-0.7948639559767658,0.12326656394453354,0.3077870113881281,1.04326480515494,0.09110233829335211,0.06067961165046504,0.0,0.0,0.1516070345664082,-1.1504692703602781,-0.1837672281776134,0.0,1.2273703590058198,-0.12124886329191006,-0.3034901365705479,0.0,0.1522070015220521,0.39513677811549053,-0.09082652134421303,-0.30303030303031164,0.12158054711246546,0.21250758955675378,0.1514692517419007,1.0586811857229361,-0.17958695001497066,-0.14992503748126362,-0.3003003003002869,-0.5421686746987886,0.9388249545729686,-2.2802280228022687,0.9210930303960625,0.5171889260724211,-1.0290556900726353,-1.2232415902140907,0.15479876160991154,1.7619783616692475,1.3669501822600187,0.41953850764158435,-0.1790510295434032,0.029895366218237022,0.6873879258816256,0.35618878005346016,0.0,-0.23661638568473692,0.3854135784168506,-0.26580035440045857,0.7699141249629851,-0.7346459006758735,-0.5920663114268966,-3.6628945801072024,-1.947449768160741,0.09457755359394973,-3.3385826771653457,-4.007820136852401,0.5091649694500915,1.3846673421141653,2.1319120586275813,-1.3046314416177442,-3.8003965631196293,-7.557540364136036,-0.9661835748792409,-0.11257035647278503,-11.006761833208111,1.8151118615449455,-3.68988391376451,3.65906155832974,-4.900332225913624,4.017467248908316,1.721242653232565,-4.374742055303332,8.15709969788519,3.152434158020767,2.0502901353964917,-3.1084154662623114,2.4256651017214375,1.1841100076394113,-2.6802567006417317,0.8533747090767995,-0.769230769230763,3.37209302325581,0.9373828271465922,-0.33432392273402267,0.9690644800596214,0.0,0.0,0.8121077888519845,-2.7828634199926627,0.7532956685498996,2.317757009345792,1.096090610157124,-3.5778821828695557,2.136431784107952,0.477064220183473,-0.9130752373995478,1.6955399926280812,1.5947807176513284,1.0702818408847448,-2.3649841157783045,0.0,-3.0007230657989936,2.3108460678345115,-0.3278688524590124,0.8406432748537983,0.8698803914461744,-0.2155946819978371,0.21606049693913598,-1.7606899029823906,-1.7556693489392796,0.3723008190617989,3.597922848664696,-0.6086645184389456,0.8285302593659782,-1.0003572704537227,-0.39696860339227524,2.0289855072463547,-0.2840909090908913,0.3205128205128166,1.6684416045438493,-1.6410614525139748,1.7039403620873237,0.7329842931937254,2.598752598752584,-0.9456264775413734,2.591203545857508,-0.33233632436026195,-0.9003001000333579,-0.1345895020188341,-3.908355795148248,0.21037868162692167,-0.3848845346396063,2.9153494906919626,1.2286689419795196,-0.8091706001348479,1.1216859279401712,-0.9747899159663895,1.2559402579769163,-2.7824337914850754,0.7931034482758469,-0.41053711939786564,0.37787701820678743,-0.20533880903491342,0.274348422496566,2.051983584131348,-0.9718498659517457,1.4890016920473825,-0.7002334111370412,-0.5036937541974622,-0.708741140735724,0.8497620666213453,0.9100101112234592,-0.7348029392117775,1.648721399730831,-0.5296259516716348,0.2995008319467518,0.39814200398143135,0.19828155981493076,-1.1873350923482704,0.06675567423231163,-1.8012008005337037,-0.2717391304347903,0.5790190735694988,-0.20318320352186026,-1.9341703427214048,-1.3494809688581193,2.0694493160294454,-0.10309278350515758,-0.06879944960440512,-0.8605851979345698,0.20833333333332657,0.31185031185030804,1.485319516407591,1.3955071477195395,0.10070493454179541,-1.1737089201878022,0.3053953172717982,-0.5751014884979619,0.98673018033345,-0.9770889487870651,-0.34025178632188785,1.638784568111993,-0.40309035942223637,0.6408094435075945,-0.636729222520113,-0.6745362563237843,-0.8828522920203615,-0.06851661527920715,1.9883441892355223,-1.2773109243697474,-1.327885597548519,1.6908212560386322,-1.1537156430267903,1.7851012701681994,-0.7082630691399617,0.37364130434782433,0.0,0.744500846023685,0.2351360429963117,-0.636729222520113,-0.6408094435075822,-2.8513238289205645,0.17470300489168908,0.6627136379490689,-1.004851004851008,-0.14000700035002148,2.032947774272702,-0.7557540364135998,-0.5884389061959322,0.10445682451255048,0.2782608695651999,0.48560527228582717,-0.17259233690024653,-0.2766251728907283,0.762829403606099,0.6538196834136204,0.6837606837606783,-0.40747028862478696,-0.5455165359699873,-2.262598560164542,1.4731673097158797,-0.17283097131006367,-0.934903047091414,-1.3282069206571123,-0.14169323414806054,0.6739978715856489,-1.937984496124022,-0.8623787279913746,-2.9358463211308354,0.0,-0.11202389843166859,1.9813084112149548,2.419354838709666,2.397995705082322,0.6990562740300665,-0.27768136063866233,4.072398190045237,1.0702341137123685,1.3567174056915974,-1.077375122428986,-0.23102310231023757,0.9593119417796923,-0.2621231979030099,0.22996057818660312,-0.8194034742707303,0.46265697290149715,-0.29605263157894385,0.8578027053777755,-0.06542361792607317,0.03273322422258686,0.0981675392670185,-1.0460934946060862,0.627684175751575,0.09848982271830993,-0.2623811085601792,0.8549819138441426,-0.13042060645583559,0.09794319294810479,0.2609262883235322,0.0,-0.7482108002602329,-0.1311045558833326,0.03281916639318651,0.8858267716535445,0.32520325203252953,-0.4213938411669487,-2.539062499999989,1.1022044088176177,0.759828212751897,0.16393442622951285,0.0,0.8510638297872344,0.6815968841285373,-0.3546099290780125,-0.35587188612099474,0.0,0.6818181818181656,-0.128990648177999,1.549886987407165,0.12718600953894274,0.6033661479834924,-0.25252525252523667,-0.1898734177215359,0.06341154090044568,0.918884664131827,-0.690737833594996,-0.03161555485297705,0.031625553447174694,0.6006955422067828,-0.2199874292897611,-0.2834645669291304,-0.568540745420093,0.6988564167725506,-1.1041009463722364,-0.19138755980861788,-2.4288910194950337,1.211922698984592,1.1650485436893299,0.3198976327575034,0.5739795918367394,-0.3170577045022053,0.2862595419847293,0.03171582619726178,-0.09511731135065696,0.4443033957473712,0.7582938388625693,1.1602383192223253,-0.1549907005579709,-0.5277864017385828,-0.6242197253433271,0.12562814070352116,-0.43914680050189453,-0.409577819785748,0.44289781714647364,-0.6299212598425146,-1.4263074484944591,1.8327974276527381,0.22102936532994852,-0.06301197227472251,0.06305170239595499,-0.693131695022051,2.28426395939087,0.5583126550868532,0.5552128315854455,0.27607361963188726,-0.42826552462527984,0.030721966205871646,0.8292383292383079,-0.2132196162046969,0.5494505494505652,-0.5768063145112379,0.12213740458015615,-0.21347971942666052,0.030562347188253784,0.0,0.7638252367858229,0.6670709520921961,0.4518072289156535,-0.26986506746625266,0.3307276007215749,0.0,0.0,0.7791429427629829,-0.3568242640499871,0.7460459564309156,0.02962085308059116,-0.4737933076695426,-0.059506099375165954,0.2977076510865979,0.682695161769112,0.8844339622641328,-0.08766803039158635,-1.6964024568587361,1.071109788753356,0.6476302619958756,-0.35097981866041567,0.05870267097153086,-0.11733646230568619,0.11747430249635368,-0.146670577882081,-0.176263219741507,0.647439670394368,-1.3157894736842053,1.8962962962962853,0.11631288165164623,0.7841998257333943,0.11527377521612057,-1.8422567645365675,0.7624633431085046,0.02910360884749792,1.076520221123082,0.0,-0.08635578583765358,-1.7286084701814899,1.4365288771621203,0.520231213872826,0.34502587694075937,-0.2578796561604449,0.0,0.028727377190463324,0.5169442848937329,-0.6571428571428549,0.6327293643945899,0.5144326950557239,-0.08529997156667857,0.3984063745020034,0.1417233560090743,0.08491367110102904,0.48076923076924444,0.25330706445256196,0.6457046603032188,0.139470013946985,0.5013927576601813,0.24944567627493142,0.16588332872546782,-1.5180789401048884,0.5325112107623265,0.1393922497909359,-0.9187082405345267,0.7867378477100121,0.05575689991638656,-0.36221788799111443,0.22371364653246523,-0.8370535714285952,0.4783342712436828,0.1960235228227443,0.0838457238680851,-0.5026528902541129,0.7297221442604548,-1.5045973808860629,1.4427157001414426,0.5298382598996043,0.22191400832180186,-0.11071132023249688,-0.8866722083679536,-0.22365110427735405,-2.241524236480789,0.5159071367153849,1.3686911890504467,0.11251758087203498,1.236302332115757,-0.30530113794059344,-0.4454342984410128,0.7550335570470014,0.38856508465166995,-0.41470832181364936,0.3609106052193126,0.3872752420470373,0.49600440892807335,0.3290375651220274,-0.02732987154962441,0.3007107709130758,0.27255382938131056,0.4077194889915655,0.3519220357336321,0.16185594820610116,-0.3770535954753479,0.4055150040551418,-0.10770059235328062,-1.4016172506738551,0.3827227993439147,0.49019607843136664,-0.27100271002710796,-0.19021739130435325,-0.19057990743260197,0.3546099290780243,0.027181299266085875,-0.2989130434782496,0.32706459525757264,0.21733224667210613,-0.569259962049352,0.8996728462377375,-0.6484733855714462,-0.9790590155017953,-0.41197473221641573,-0.19305019305019852,0.414479137883405,-0.11007154650523152,-0.743801652892563,0.19428254232582487,-0.8864265927977687,-1.3974287311347109,1.1904761904762036,0.8403361344537643,0.8611111111111153,-0.7711374277058679,-0.05550929780738431,-1.9994445987225933,0.8500991782374854,-0.16858668165215424,-0.42217844075428357,-0.3957037874505482,1.1918274687854427,-0.8412787436903926,1.9513574660633421,-0.3328710124826522,0.27831895352074265,-0.38856508465166995,0.5015324602953407,1.4139173828666276,0.6560962274467109,-0.48886474741987457,0.13646288209605384,0.29980921231942176,-0.1630434782608346,0.5171475231355219,0.08123476848093188,0.838744588744573,-0.1878186208747035,0.3225806451612995,0.3751339764201412,0.533902829684993,0.39830058417420144,0.3702724147050957,0.44795783926218063,0.23609653725079371,-0.15702695629414923,-0.052424639580604365,0.26226068712298856,0.23541721161392248,0.026096033402923494,0.4956952778502619,0.38940809968846557,0.23273855702093418,-0.722394220846235,-0.12993762993763364,-0.1040853499869923,-0.9637926543370564,0.15781167806418123,0.28886554621847643,-3.901544907043706,0.7356948228882644,-1.000811468758442,2.1584699453551726,-1.203530355710078,-0.3789929615592961,1.494565217391327,2.3560910307898144,-0.6277792309704218,-0.13161358252173913,-0.02635740643120792,-0.2636435539151143,-0.7665873645254921,0.39957378795950177,1.4592730167153118,-0.6014644351464415,-1.6048408313601756,1.4973262032085795,0.7639620653319115,0.9673202614378978,-0.02589331952354478,0.5439005439005404,0.7727975270479166,-0.6901840490797555,0.33462033462032537,0.07696254489482005,0.0],\"yaxis\":\"y\",\"type\":\"scatter\"}],                        {\"template\":{\"data\":{\"histogram2dcontour\":[{\"type\":\"histogram2dcontour\",\"colorbar\":{\"outlinewidth\":0,\"ticks\":\"\"},\"colorscale\":[[0.0,\"#0d0887\"],[0.1111111111111111,\"#46039f\"],[0.2222222222222222,\"#7201a8\"],[0.3333333333333333,\"#9c179e\"],[0.4444444444444444,\"#bd3786\"],[0.5555555555555556,\"#d8576b\"],[0.6666666666666666,\"#ed7953\"],[0.7777777777777778,\"#fb9f3a\"],[0.8888888888888888,\"#fdca26\"],[1.0,\"#f0f921\"]]}],\"choropleth\":[{\"type\":\"choropleth\",\"colorbar\":{\"outlinewidth\":0,\"ticks\":\"\"}}],\"histogram2d\":[{\"type\":\"histogram2d\",\"colorbar\":{\"outlinewidth\":0,\"ticks\":\"\"},\"colorscale\":[[0.0,\"#0d0887\"],[0.1111111111111111,\"#46039f\"],[0.2222222222222222,\"#7201a8\"],[0.3333333333333333,\"#9c179e\"],[0.4444444444444444,\"#bd3786\"],[0.5555555555555556,\"#d8576b\"],[0.6666666666666666,\"#ed7953\"],[0.7777777777777778,\"#fb9f3a\"],[0.8888888888888888,\"#fdca26\"],[1.0,\"#f0f921\"]]}],\"heatmap\":[{\"type\":\"heatmap\",\"colorbar\":{\"outlinewidth\":0,\"ticks\":\"\"},\"colorscale\":[[0.0,\"#0d0887\"],[0.1111111111111111,\"#46039f\"],[0.2222222222222222,\"#7201a8\"],[0.3333333333333333,\"#9c179e\"],[0.4444444444444444,\"#bd3786\"],[0.5555555555555556,\"#d8576b\"],[0.6666666666666666,\"#ed7953\"],[0.7777777777777778,\"#fb9f3a\"],[0.8888888888888888,\"#fdca26\"],[1.0,\"#f0f921\"]]}],\"heatmapgl\":[{\"type\":\"heatmapgl\",\"colorbar\":{\"outlinewidth\":0,\"ticks\":\"\"},\"colorscale\":[[0.0,\"#0d0887\"],[0.1111111111111111,\"#46039f\"],[0.2222222222222222,\"#7201a8\"],[0.3333333333333333,\"#9c179e\"],[0.4444444444444444,\"#bd3786\"],[0.5555555555555556,\"#d8576b\"],[0.6666666666666666,\"#ed7953\"],[0.7777777777777778,\"#fb9f3a\"],[0.8888888888888888,\"#fdca26\"],[1.0,\"#f0f921\"]]}],\"contourcarpet\":[{\"type\":\"contourcarpet\",\"colorbar\":{\"outlinewidth\":0,\"ticks\":\"\"}}],\"contour\":[{\"type\":\"contour\",\"colorbar\":{\"outlinewidth\":0,\"ticks\":\"\"},\"colorscale\":[[0.0,\"#0d0887\"],[0.1111111111111111,\"#46039f\"],[0.2222222222222222,\"#7201a8\"],[0.3333333333333333,\"#9c179e\"],[0.4444444444444444,\"#bd3786\"],[0.5555555555555556,\"#d8576b\"],[0.6666666666666666,\"#ed7953\"],[0.7777777777777778,\"#fb9f3a\"],[0.8888888888888888,\"#fdca26\"],[1.0,\"#f0f921\"]]}],\"surface\":[{\"type\":\"surface\",\"colorbar\":{\"outlinewidth\":0,\"ticks\":\"\"},\"colorscale\":[[0.0,\"#0d0887\"],[0.1111111111111111,\"#46039f\"],[0.2222222222222222,\"#7201a8\"],[0.3333333333333333,\"#9c179e\"],[0.4444444444444444,\"#bd3786\"],[0.5555555555555556,\"#d8576b\"],[0.6666666666666666,\"#ed7953\"],[0.7777777777777778,\"#fb9f3a\"],[0.8888888888888888,\"#fdca26\"],[1.0,\"#f0f921\"]]}],\"mesh3d\":[{\"type\":\"mesh3d\",\"colorbar\":{\"outlinewidth\":0,\"ticks\":\"\"}}],\"scatter\":[{\"fillpattern\":{\"fillmode\":\"overlay\",\"size\":10,\"solidity\":0.2},\"type\":\"scatter\"}],\"parcoords\":[{\"type\":\"parcoords\",\"line\":{\"colorbar\":{\"outlinewidth\":0,\"ticks\":\"\"}}}],\"scatterpolargl\":[{\"type\":\"scatterpolargl\",\"marker\":{\"colorbar\":{\"outlinewidth\":0,\"ticks\":\"\"}}}],\"bar\":[{\"error_x\":{\"color\":\"#2a3f5f\"},\"error_y\":{\"color\":\"#2a3f5f\"},\"marker\":{\"line\":{\"color\":\"#E5ECF6\",\"width\":0.5},\"pattern\":{\"fillmode\":\"overlay\",\"size\":10,\"solidity\":0.2}},\"type\":\"bar\"}],\"scattergeo\":[{\"type\":\"scattergeo\",\"marker\":{\"colorbar\":{\"outlinewidth\":0,\"ticks\":\"\"}}}],\"scatterpolar\":[{\"type\":\"scatterpolar\",\"marker\":{\"colorbar\":{\"outlinewidth\":0,\"ticks\":\"\"}}}],\"histogram\":[{\"marker\":{\"pattern\":{\"fillmode\":\"overlay\",\"size\":10,\"solidity\":0.2}},\"type\":\"histogram\"}],\"scattergl\":[{\"type\":\"scattergl\",\"marker\":{\"colorbar\":{\"outlinewidth\":0,\"ticks\":\"\"}}}],\"scatter3d\":[{\"type\":\"scatter3d\",\"line\":{\"colorbar\":{\"outlinewidth\":0,\"ticks\":\"\"}},\"marker\":{\"colorbar\":{\"outlinewidth\":0,\"ticks\":\"\"}}}],\"scattermapbox\":[{\"type\":\"scattermapbox\",\"marker\":{\"colorbar\":{\"outlinewidth\":0,\"ticks\":\"\"}}}],\"scatterternary\":[{\"type\":\"scatterternary\",\"marker\":{\"colorbar\":{\"outlinewidth\":0,\"ticks\":\"\"}}}],\"scattercarpet\":[{\"type\":\"scattercarpet\",\"marker\":{\"colorbar\":{\"outlinewidth\":0,\"ticks\":\"\"}}}],\"carpet\":[{\"aaxis\":{\"endlinecolor\":\"#2a3f5f\",\"gridcolor\":\"white\",\"linecolor\":\"white\",\"minorgridcolor\":\"white\",\"startlinecolor\":\"#2a3f5f\"},\"baxis\":{\"endlinecolor\":\"#2a3f5f\",\"gridcolor\":\"white\",\"linecolor\":\"white\",\"minorgridcolor\":\"white\",\"startlinecolor\":\"#2a3f5f\"},\"type\":\"carpet\"}],\"table\":[{\"cells\":{\"fill\":{\"color\":\"#EBF0F8\"},\"line\":{\"color\":\"white\"}},\"header\":{\"fill\":{\"color\":\"#C8D4E3\"},\"line\":{\"color\":\"white\"}},\"type\":\"table\"}],\"barpolar\":[{\"marker\":{\"line\":{\"color\":\"#E5ECF6\",\"width\":0.5},\"pattern\":{\"fillmode\":\"overlay\",\"size\":10,\"solidity\":0.2}},\"type\":\"barpolar\"}],\"pie\":[{\"automargin\":true,\"type\":\"pie\"}]},\"layout\":{\"autotypenumbers\":\"strict\",\"colorway\":[\"#636efa\",\"#EF553B\",\"#00cc96\",\"#ab63fa\",\"#FFA15A\",\"#19d3f3\",\"#FF6692\",\"#B6E880\",\"#FF97FF\",\"#FECB52\"],\"font\":{\"color\":\"#2a3f5f\"},\"hovermode\":\"closest\",\"hoverlabel\":{\"align\":\"left\"},\"paper_bgcolor\":\"white\",\"plot_bgcolor\":\"#E5ECF6\",\"polar\":{\"bgcolor\":\"#E5ECF6\",\"angularaxis\":{\"gridcolor\":\"white\",\"linecolor\":\"white\",\"ticks\":\"\"},\"radialaxis\":{\"gridcolor\":\"white\",\"linecolor\":\"white\",\"ticks\":\"\"}},\"ternary\":{\"bgcolor\":\"#E5ECF6\",\"aaxis\":{\"gridcolor\":\"white\",\"linecolor\":\"white\",\"ticks\":\"\"},\"baxis\":{\"gridcolor\":\"white\",\"linecolor\":\"white\",\"ticks\":\"\"},\"caxis\":{\"gridcolor\":\"white\",\"linecolor\":\"white\",\"ticks\":\"\"}},\"coloraxis\":{\"colorbar\":{\"outlinewidth\":0,\"ticks\":\"\"}},\"colorscale\":{\"sequential\":[[0.0,\"#0d0887\"],[0.1111111111111111,\"#46039f\"],[0.2222222222222222,\"#7201a8\"],[0.3333333333333333,\"#9c179e\"],[0.4444444444444444,\"#bd3786\"],[0.5555555555555556,\"#d8576b\"],[0.6666666666666666,\"#ed7953\"],[0.7777777777777778,\"#fb9f3a\"],[0.8888888888888888,\"#fdca26\"],[1.0,\"#f0f921\"]],\"sequentialminus\":[[0.0,\"#0d0887\"],[0.1111111111111111,\"#46039f\"],[0.2222222222222222,\"#7201a8\"],[0.3333333333333333,\"#9c179e\"],[0.4444444444444444,\"#bd3786\"],[0.5555555555555556,\"#d8576b\"],[0.6666666666666666,\"#ed7953\"],[0.7777777777777778,\"#fb9f3a\"],[0.8888888888888888,\"#fdca26\"],[1.0,\"#f0f921\"]],\"diverging\":[[0,\"#8e0152\"],[0.1,\"#c51b7d\"],[0.2,\"#de77ae\"],[0.3,\"#f1b6da\"],[0.4,\"#fde0ef\"],[0.5,\"#f7f7f7\"],[0.6,\"#e6f5d0\"],[0.7,\"#b8e186\"],[0.8,\"#7fbc41\"],[0.9,\"#4d9221\"],[1,\"#276419\"]]},\"xaxis\":{\"gridcolor\":\"white\",\"linecolor\":\"white\",\"ticks\":\"\",\"title\":{\"standoff\":15},\"zerolinecolor\":\"white\",\"automargin\":true,\"zerolinewidth\":2},\"yaxis\":{\"gridcolor\":\"white\",\"linecolor\":\"white\",\"ticks\":\"\",\"title\":{\"standoff\":15},\"zerolinecolor\":\"white\",\"automargin\":true,\"zerolinewidth\":2},\"scene\":{\"xaxis\":{\"backgroundcolor\":\"#E5ECF6\",\"gridcolor\":\"white\",\"linecolor\":\"white\",\"showbackground\":true,\"ticks\":\"\",\"zerolinecolor\":\"white\",\"gridwidth\":2},\"yaxis\":{\"backgroundcolor\":\"#E5ECF6\",\"gridcolor\":\"white\",\"linecolor\":\"white\",\"showbackground\":true,\"ticks\":\"\",\"zerolinecolor\":\"white\",\"gridwidth\":2},\"zaxis\":{\"backgroundcolor\":\"#E5ECF6\",\"gridcolor\":\"white\",\"linecolor\":\"white\",\"showbackground\":true,\"ticks\":\"\",\"zerolinecolor\":\"white\",\"gridwidth\":2}},\"shapedefaults\":{\"line\":{\"color\":\"#2a3f5f\"}},\"annotationdefaults\":{\"arrowcolor\":\"#2a3f5f\",\"arrowhead\":0,\"arrowwidth\":1},\"geo\":{\"bgcolor\":\"white\",\"landcolor\":\"#E5ECF6\",\"subunitcolor\":\"white\",\"showland\":true,\"showlakes\":true,\"lakecolor\":\"white\"},\"title\":{\"x\":0.05},\"mapbox\":{\"style\":\"light\"}}},\"xaxis\":{\"anchor\":\"y\",\"domain\":[0.0,1.0],\"title\":{\"text\":\"Asset 2\"}},\"yaxis\":{\"anchor\":\"x\",\"domain\":[0.0,1.0],\"title\":{\"text\":\"Asset 3\"}},\"legend\":{\"tracegroupgap\":0},\"title\":{\"text\":\"Interactive Scatter Plot: Asset 2 vs Asset 3 (whole period)\"}},                        {\"responsive\": true}                    ).then(function(){\n",
       "                            \n",
       "var gd = document.getElementById('7cffe209-84f0-4fc1-b4e2-5be8d0190866');\n",
       "var x = new MutationObserver(function (mutations, observer) {{\n",
       "        var display = window.getComputedStyle(gd).display;\n",
       "        if (!display || display === 'none') {{\n",
       "            console.log([gd, 'removed!']);\n",
       "            Plotly.purge(gd);\n",
       "            observer.disconnect();\n",
       "        }}\n",
       "}});\n",
       "\n",
       "// Listen for the removal of the full notebook cells\n",
       "var notebookContainer = gd.closest('#notebook-container');\n",
       "if (notebookContainer) {{\n",
       "    x.observe(notebookContainer, {childList: true});\n",
       "}}\n",
       "\n",
       "// Listen for the clearing of the current output cell\n",
       "var outputEl = gd.closest('.output');\n",
       "if (outputEl) {{\n",
       "    x.observe(outputEl, {childList: true});\n",
       "}}\n",
       "\n",
       "                        })                };                });            </script>        </div>"
      ]
     },
     "metadata": {},
     "output_type": "display_data"
    }
   ],
   "source": [
    "df3_reset = df3.reset_index()  # it won't work if date is the index (as previously set)\n",
    "\n",
    "fig = px.scatter(df3_reset, \n",
    "                 x='Asset2', \n",
    "                 y='Asset3', \n",
    "                 hover_data={'date': True},  # Show date when hovering over a point\n",
    "                 labels={'Asset2': 'Asset 2', 'Asset3': 'Asset 3'},\n",
    "                 title=\"Interactive Scatter Plot: Asset 2 vs Asset 3 (whole period)\")\n",
    "\n",
    "fig.show()"
   ]
  },
  {
   "cell_type": "markdown",
   "id": "cd78c19b-a2f7-403d-b9aa-b0ae51698303",
   "metadata": {
    "jp-MarkdownHeadingCollapsed": true
   },
   "source": [
    "## 09 | Further Insights\n",
    "\n",
    "---\n",
    "\n",
    "In the **static scatter plot**, we focus on the correlation between Asset 2 and Asset 3 before and after the crash. Although Asset 2 experienced a higher growth rate post-crash, the Pearson correlation between the two assets remains similar before (0.858) and after (0.852) the crash. This result led us to conclude that, **despite differing growth trajectories, the assets continued to follow similar patterns in their daily return changes**, and the correlation remained relatively stable.\n",
    "\n",
    "In the **interactive scatter plot**, the quadrants provide insightful information as a framework to interpret the correlation between Asset 2 and Asset 3 over the entire period. I explain: we divide the chart into four quadrants: bottom-left, top-left, top-right, and bottom-right. These quadrants help visualize the relationship between the two assets, where the bottom-left quadrant shows both assets declining, the top-right quadrant indicates both assets rising, and the other quadrants show contrasting movements between the assets (rare movement, since they are strongly correlated).\n",
    "\n",
    "Through the hover feature, we can observe that many data points in the bottom-left quadrant correspond to significant downturns, which occurred during the 2020 crash. Interestingly, some points in the top-right quadrant are from the same period, suggesting a rapid recovery, which shows the **resilience of these assets as they regained value quickly after the crash**. This behavior reinforces the idea that both assets were affected but displayed strong recovery potential.\n",
    "\n",
    "Together, the static and interactive scatter plots offer a comprehensive view of how Asset 2 and Asset 3 behaved. While the static plot helps us visualize and test our hypothesis about changing correlation after crash, the interactive plot, with its quadrant-based insights, provides understanding of the assets’ resilience and their correlated movements throughout the whole period."
   ]
  },
  {
   "cell_type": "markdown",
   "id": "918b280f-4135-4d44-a60c-28899375159f",
   "metadata": {},
   "source": [
    "<h1 style=\"color: #FF8C00;\">Exercise 3: Portfolio Analysis</h1>\n",
    "\n",
    "---\n",
    "\n",
    "This third exercise focuses on calculating and analyzing the performance of a portfolio. Begin by loading the file named `portfolio_weights.csv`, which contains the daily weights of each asset in the portfolio.\n",
    "\n",
    "Tasks to complete in this exercise:\n",
    "- Create an area chart of the asset weights.\n",
    "- Plot the historical cumulative returns of the portfolio.\n",
    "- Calculate the annualized return of the portfolio.\n",
    "- Determine the annualized volatility of the portfolio (using an annualization factor of 261 days).\n",
    "- Produce an area chart grouping asset weights by their categories, as detailed in the `asset_information_data.csv`."
   ]
  },
  {
   "cell_type": "markdown",
   "id": "e1fe8fab-dfd1-40eb-a3ca-c12346b7c6dd",
   "metadata": {},
   "source": [
    "## 10 | Preparing New Data Implementation"
   ]
  },
  {
   "cell_type": "markdown",
   "id": "abd12121-1afc-407b-b6e9-c9a31276e4ab",
   "metadata": {},
   "source": [
    "10.01 | Data Extraction"
   ]
  },
  {
   "cell_type": "code",
   "execution_count": 189,
   "id": "a3fc0695-792a-4898-804d-9c43b3f830e6",
   "metadata": {},
   "outputs": [],
   "source": [
    "weights_draft = pd.read_csv('portfolio_weights.csv')"
   ]
  },
  {
   "cell_type": "code",
   "execution_count": 190,
   "id": "ccddc193-64a0-4fb5-a284-f8e8ed19dd12",
   "metadata": {},
   "outputs": [],
   "source": [
    "info_draft = pd.read_csv('asset_information_data.csv')"
   ]
  },
  {
   "cell_type": "markdown",
   "id": "32300dd0-a07a-4fb1-b6b3-398830b4e300",
   "metadata": {},
   "source": [
    "10.02 | Data Exploring (first impressions)"
   ]
  },
  {
   "cell_type": "code",
   "execution_count": 191,
   "id": "9d6c0f30-abed-4cfd-a3b7-37729f817da7",
   "metadata": {},
   "outputs": [
    {
     "data": {
      "text/html": [
       "<div>\n",
       "<style scoped>\n",
       "    .dataframe tbody tr th:only-of-type {\n",
       "        vertical-align: middle;\n",
       "    }\n",
       "\n",
       "    .dataframe tbody tr th {\n",
       "        vertical-align: top;\n",
       "    }\n",
       "\n",
       "    .dataframe thead th {\n",
       "        text-align: right;\n",
       "    }\n",
       "</style>\n",
       "<table border=\"1\" class=\"dataframe\">\n",
       "  <thead>\n",
       "    <tr style=\"text-align: right;\">\n",
       "      <th></th>\n",
       "      <th>date</th>\n",
       "      <th>Asset1</th>\n",
       "      <th>Asset2</th>\n",
       "      <th>Asset3</th>\n",
       "      <th>Asset4</th>\n",
       "      <th>Asset5</th>\n",
       "    </tr>\n",
       "  </thead>\n",
       "  <tbody>\n",
       "    <tr>\n",
       "      <th>0</th>\n",
       "      <td>2019-01-02</td>\n",
       "      <td>0.225458</td>\n",
       "      <td>0.116255</td>\n",
       "      <td>0.265003</td>\n",
       "      <td>0.23031</td>\n",
       "      <td>0.162974</td>\n",
       "    </tr>\n",
       "    <tr>\n",
       "      <th>1</th>\n",
       "      <td>2019-01-03</td>\n",
       "      <td>0.225458</td>\n",
       "      <td>0.116255</td>\n",
       "      <td>0.265003</td>\n",
       "      <td>0.23031</td>\n",
       "      <td>0.162974</td>\n",
       "    </tr>\n",
       "    <tr>\n",
       "      <th>2</th>\n",
       "      <td>2019-01-04</td>\n",
       "      <td>0.225458</td>\n",
       "      <td>0.116255</td>\n",
       "      <td>0.265003</td>\n",
       "      <td>0.23031</td>\n",
       "      <td>0.162974</td>\n",
       "    </tr>\n",
       "    <tr>\n",
       "      <th>3</th>\n",
       "      <td>2019-01-07</td>\n",
       "      <td>0.225458</td>\n",
       "      <td>0.116255</td>\n",
       "      <td>0.265003</td>\n",
       "      <td>0.23031</td>\n",
       "      <td>0.162974</td>\n",
       "    </tr>\n",
       "    <tr>\n",
       "      <th>4</th>\n",
       "      <td>2019-01-08</td>\n",
       "      <td>0.225458</td>\n",
       "      <td>0.116255</td>\n",
       "      <td>0.265003</td>\n",
       "      <td>0.23031</td>\n",
       "      <td>0.162974</td>\n",
       "    </tr>\n",
       "  </tbody>\n",
       "</table>\n",
       "</div>"
      ],
      "text/plain": [
       "         date    Asset1    Asset2    Asset3   Asset4    Asset5\n",
       "0  2019-01-02  0.225458  0.116255  0.265003  0.23031  0.162974\n",
       "1  2019-01-03  0.225458  0.116255  0.265003  0.23031  0.162974\n",
       "2  2019-01-04  0.225458  0.116255  0.265003  0.23031  0.162974\n",
       "3  2019-01-07  0.225458  0.116255  0.265003  0.23031  0.162974\n",
       "4  2019-01-08  0.225458  0.116255  0.265003  0.23031  0.162974"
      ]
     },
     "execution_count": 191,
     "metadata": {},
     "output_type": "execute_result"
    }
   ],
   "source": [
    "weights_draft.head()"
   ]
  },
  {
   "cell_type": "code",
   "execution_count": 192,
   "id": "e48662d0-c1a6-486c-8f44-ac73553ed713",
   "metadata": {},
   "outputs": [
    {
     "data": {
      "text/html": [
       "<div>\n",
       "<style scoped>\n",
       "    .dataframe tbody tr th:only-of-type {\n",
       "        vertical-align: middle;\n",
       "    }\n",
       "\n",
       "    .dataframe tbody tr th {\n",
       "        vertical-align: top;\n",
       "    }\n",
       "\n",
       "    .dataframe thead th {\n",
       "        text-align: right;\n",
       "    }\n",
       "</style>\n",
       "<table border=\"1\" class=\"dataframe\">\n",
       "  <thead>\n",
       "    <tr style=\"text-align: right;\">\n",
       "      <th></th>\n",
       "      <th>Name</th>\n",
       "      <th>Family</th>\n",
       "    </tr>\n",
       "  </thead>\n",
       "  <tbody>\n",
       "    <tr>\n",
       "      <th>0</th>\n",
       "      <td>Asset1</td>\n",
       "      <td>Fixed Income</td>\n",
       "    </tr>\n",
       "    <tr>\n",
       "      <th>1</th>\n",
       "      <td>Asset2</td>\n",
       "      <td>Fixed Income</td>\n",
       "    </tr>\n",
       "    <tr>\n",
       "      <th>2</th>\n",
       "      <td>Asset3</td>\n",
       "      <td>Equity</td>\n",
       "    </tr>\n",
       "    <tr>\n",
       "      <th>3</th>\n",
       "      <td>Asset4</td>\n",
       "      <td>Equity</td>\n",
       "    </tr>\n",
       "    <tr>\n",
       "      <th>4</th>\n",
       "      <td>Asset5</td>\n",
       "      <td>Alternative</td>\n",
       "    </tr>\n",
       "  </tbody>\n",
       "</table>\n",
       "</div>"
      ],
      "text/plain": [
       "     Name        Family\n",
       "0  Asset1  Fixed Income\n",
       "1  Asset2  Fixed Income\n",
       "2  Asset3        Equity\n",
       "3  Asset4        Equity\n",
       "4  Asset5   Alternative"
      ]
     },
     "execution_count": 192,
     "metadata": {},
     "output_type": "execute_result"
    }
   ],
   "source": [
    "info_draft.head()"
   ]
  },
  {
   "cell_type": "code",
   "execution_count": 193,
   "id": "85510923-1eae-4cd2-90b5-896cdf3e221e",
   "metadata": {},
   "outputs": [
    {
     "name": "stdout",
     "output_type": "stream",
     "text": [
      "<class 'pandas.core.frame.DataFrame'>\n",
      "RangeIndex: 783 entries, 0 to 782\n",
      "Data columns (total 6 columns):\n",
      " #   Column  Non-Null Count  Dtype  \n",
      "---  ------  --------------  -----  \n",
      " 0   date    783 non-null    object \n",
      " 1   Asset1  783 non-null    float64\n",
      " 2   Asset2  783 non-null    float64\n",
      " 3   Asset3  783 non-null    float64\n",
      " 4   Asset4  783 non-null    float64\n",
      " 5   Asset5  783 non-null    float64\n",
      "dtypes: float64(5), object(1)\n",
      "memory usage: 36.8+ KB\n"
     ]
    }
   ],
   "source": [
    "weights_draft.info()"
   ]
  },
  {
   "cell_type": "code",
   "execution_count": 194,
   "id": "57e999c7-faeb-475a-b1eb-6cd70dcfe3a1",
   "metadata": {},
   "outputs": [
    {
     "name": "stdout",
     "output_type": "stream",
     "text": [
      "<class 'pandas.core.frame.DataFrame'>\n",
      "RangeIndex: 5 entries, 0 to 4\n",
      "Data columns (total 2 columns):\n",
      " #   Column  Non-Null Count  Dtype \n",
      "---  ------  --------------  ----- \n",
      " 0   Name    5 non-null      object\n",
      " 1   Family  5 non-null      object\n",
      "dtypes: object(2)\n",
      "memory usage: 212.0+ bytes\n"
     ]
    }
   ],
   "source": [
    "info_draft.info()"
   ]
  },
  {
   "cell_type": "code",
   "execution_count": 217,
   "id": "d8e139bb-4f86-49c7-8cbc-765338092750",
   "metadata": {},
   "outputs": [],
   "source": [
    "weights = weights_draft.copy() # Copy as best practices"
   ]
  },
  {
   "cell_type": "markdown",
   "id": "dcc67a5f-4acd-4109-8c8b-3ac62cf2fa89",
   "metadata": {},
   "source": [
    "10.03 | Column Standardization"
   ]
  },
  {
   "cell_type": "code",
   "execution_count": 218,
   "id": "30b8b83a-18d2-4d0f-9bf4-cbafe9ffd0f9",
   "metadata": {},
   "outputs": [],
   "source": [
    "weights['date'] = pd.to_datetime(weights['date'])"
   ]
  },
  {
   "cell_type": "code",
   "execution_count": 219,
   "id": "30d063f1-3038-46be-b94c-0bfc9a1ace84",
   "metadata": {},
   "outputs": [],
   "source": [
    "weights.set_index('date', inplace=True)"
   ]
  },
  {
   "cell_type": "markdown",
   "id": "ae4326ac-043a-4a65-b21a-73e30541c847",
   "metadata": {},
   "source": [
    "10.04 | Data Cleaning"
   ]
  },
  {
   "cell_type": "code",
   "execution_count": 169,
   "id": "4bfb77be-49b2-4d12-a0e9-089394610ca3",
   "metadata": {},
   "outputs": [
    {
     "data": {
      "text/plain": [
       "date      0\n",
       "Asset1    0\n",
       "Asset2    0\n",
       "Asset3    0\n",
       "Asset4    0\n",
       "Asset5    0\n",
       "dtype: int64"
      ]
     },
     "execution_count": 169,
     "metadata": {},
     "output_type": "execute_result"
    }
   ],
   "source": [
    "weights.isna().sum()"
   ]
  },
  {
   "cell_type": "code",
   "execution_count": 170,
   "id": "2140d1e3-d192-4a49-8590-f1aa0e19408f",
   "metadata": {},
   "outputs": [
    {
     "data": {
      "text/plain": [
       "0"
      ]
     },
     "execution_count": 170,
     "metadata": {},
     "output_type": "execute_result"
    }
   ],
   "source": [
    "weights.duplicated().sum()"
   ]
  },
  {
   "cell_type": "code",
   "execution_count": 172,
   "id": "8050cfc8-b81e-46d3-ad50-8ab335d7e136",
   "metadata": {},
   "outputs": [
    {
     "data": {
      "text/plain": [
       "date      0\n",
       "Asset1    0\n",
       "Asset2    0\n",
       "Asset3    0\n",
       "Asset4    0\n",
       "Asset5    0\n",
       "dtype: int64"
      ]
     },
     "execution_count": 172,
     "metadata": {},
     "output_type": "execute_result"
    }
   ],
   "source": [
    "weights.eq(' ').sum()"
   ]
  },
  {
   "cell_type": "markdown",
   "id": "38197ec6-f773-4f8b-b38b-281392fe7c3d",
   "metadata": {},
   "source": [
    "## 11 | Area Chart of Assets Weight"
   ]
  },
  {
   "cell_type": "markdown",
   "id": "9e179283-eb5b-4f98-8613-68cabf16511c",
   "metadata": {},
   "source": [
    "**Asset weight** represents the percentage of the total value of a portfolio that is invested in a particular asset. For example, if your portfolio is worth 100,000 and you have 25,000 invested in Asset 1, the weight of Asset 1 in the portfolio would be 25% (or 0.25). This percentage shows the proportion of your total portfolio allocated to that specific asset.\n",
    "\n",
    "**Asset Allocation** is the strategy of dividing an investment portfolio among different asset classes (such as stocks, bonds, real estate, or cash) based on factors like risk tolerance, time horizon, and investment goals. The goal is to balance risk and return by adjusting the weights of each asset class in the portfolio."
   ]
  },
  {
   "cell_type": "markdown",
   "id": "b637f3ee-c2dd-4ee8-9706-7729cfd207a9",
   "metadata": {},
   "source": [
    "11.01 | Stacked Plot of Assets (Visualization)\n",
    "\n",
    "---\n",
    "\n",
    "The stacked area chart is the best option to visualize Asset Allocation because it clearly shows how the weight of each asset in the portfolio changes over time, while also making it easy to see the overall trend. Since the areas stack on top of each other, it shows the proportion of each asset relative to the total portfolio. This makes it easy to track how each asset grows or shrinks, and how the portfolio composition shifts over time, all in one view. It's especially useful for understanding how the total portfolio is made up at different points in time.\n",
    "\n",
    "\n",
    "\n",
    "\n",
    "\n",
    "\n"
   ]
  },
  {
   "cell_type": "code",
   "execution_count": 226,
   "id": "286a93c9-24fe-4525-bb57-0a34f6852cfd",
   "metadata": {},
   "outputs": [],
   "source": [
    "# Ensure assets are represented by their same respective colors as in the time series graph\n",
    "colors = ['#1f77b4', '#ff7f0e', '#2ca02c', '#d62728', '#9467bd']"
   ]
  },
  {
   "cell_type": "code",
   "execution_count": 250,
   "id": "61c5abab-660f-4bdf-a063-b9b049f0c29d",
   "metadata": {},
   "outputs": [],
   "source": [
    "# We can use the mean of every quarter since they are perfect representations of the asset weight\n",
    "weights_vis = weights.resample('Q').mean() "
   ]
  },
  {
   "cell_type": "code",
   "execution_count": 251,
   "id": "b1dc4166-2cdc-43a6-913a-5ec6589f1a49",
   "metadata": {},
   "outputs": [
    {
     "data": {
      "text/plain": [
       "<Figure size 1600x600 with 0 Axes>"
      ]
     },
     "metadata": {},
     "output_type": "display_data"
    },
    {
     "data": {
      "image/png": "[encoded data removed]",
      "text/plain": [
       "<Figure size 640x480 with 1 Axes>"
      ]
     },
     "metadata": {},
     "output_type": "display_data"
    }
   ],
   "source": [
    "plt.figure(figsize=(16,6))\n",
    "weights_vis.plot.area(stacked=True, color=colors, alpha=0.7)\n",
    "\n",
    "plt.title('Area Chart of Assets Weight')\n",
    "plt.ylabel('Asset Weight')\n",
    "plt.xlabel('Quarter')\n",
    "plt.legend(title='Assets', \n",
    "           bbox_to_anchor=(1, 1), loc='upper left', fontsize=8)\n",
    "\n",
    "plt.tight_layout()\n",
    "plt.show()"
   ]
  },
  {
   "cell_type": "markdown",
   "id": "a7353475-0d33-482a-b47f-54cb05403d7c",
   "metadata": {},
   "source": [
    "11.02 | Interpretation\n",
    "\n",
    "---\n",
    "\n",
    "At the beginning of each year, there are clear strategic shifts in asset allocation. For example, **in early 2020**, the weights adjusted significantly toward Assets 1 and 5, reflecting a pivot in strategy. Asset 1, with its increased allocation, might have been chosen for stability, suggesting a **focus on safeguarding returns during a potential uncertain market period like the Covid-19 Pandemics**. Interestingly, Asset 5 also saw a significant increase, hinting at a diversification effort or a calculated risk despite its historical volatility.\n",
    "\n",
    "**In 2021**, we observe another shift: Assets 2 and 4 were given considerably more weight. This change suggests a **deliberate turn towards a higher-risk, potentially higher-reward approach**, aligning with the observed growth potential in Asset 2. Here, it seems that the strategy transitioned to capitalizing on growth opportunities while maintaining a balanced but opportunistic stance with Asset 4's increased weight. Each of these annual shifts indicates a responsive, adaptive strategy, aligning allocations with market conditions and portfolio goals for that year."
   ]
  },
  {
   "cell_type": "markdown",
   "id": "30e74a29-980f-4417-a698-b6848a880848",
   "metadata": {},
   "source": [
    "## 12 | Historical Cumulative Returns"
   ]
  },
  {
   "cell_type": "markdown",
   "id": "84cbd314-c8d6-42fb-839e-3fd167a0e32a",
   "metadata": {},
   "source": [
    "---\n",
    "\n",
    "The cumulative historical return of a portfolio shows how much the portfolio has grown or shrunk over time, taking into account all the changes in the value of the assets it holds. It starts with an initial value (like 100), calculates the daily changes in asset prices, and then combines those changes according to how much of each asset is in the portfolio. By adding up these daily changes, we get the total return over the period, showing how much the portfolio has gained or lost from the beginning to the end. Simply put, it tracks the overall performance of the portfolio over time, helping you understand its growth or decline."
   ]
  },
  {
   "cell_type": "markdown",
   "id": "8c5fa93c-0c73-4a45-b133-0f774e53f6cc",
   "metadata": {},
   "source": [
    "12.01 | Creating New Dataframe"
   ]
  },
  {
   "cell_type": "code",
   "execution_count": 363,
   "id": "47094b0e-ec4f-4951-a1cc-77b0c79c0d14",
   "metadata": {},
   "outputs": [],
   "source": [
    "df5 = df3 * weights.values # Dataframe containing weighted daily returns"
   ]
  },
  {
   "cell_type": "code",
   "execution_count": 364,
   "id": "b2b7996f-5ba5-4b06-a75a-d1a8f0573c20",
   "metadata": {},
   "outputs": [],
   "source": [
    "df5['Return'] = df5.sum(axis=1)"
   ]
  },
  {
   "cell_type": "code",
   "execution_count": 366,
   "id": "534a2bf5-da46-4681-ba3c-197fc95b022f",
   "metadata": {},
   "outputs": [],
   "source": [
    "df5['Return'].iloc[0] = 100"
   ]
  },
  {
   "cell_type": "code",
   "execution_count": 368,
   "id": "02fee4d1-08dd-4c04-866f-47c08f5a94f9",
   "metadata": {},
   "outputs": [],
   "source": [
    "df5['Return'] = df5['Return'].cumsum()"
   ]
  },
  {
   "cell_type": "code",
   "execution_count": 369,
   "id": "79c08fea-5ad9-4358-8907-4299eabacaf8",
   "metadata": {},
   "outputs": [
    {
     "data": {
      "text/html": [
       "<div>\n",
       "<style scoped>\n",
       "    .dataframe tbody tr th:only-of-type {\n",
       "        vertical-align: middle;\n",
       "    }\n",
       "\n",
       "    .dataframe tbody tr th {\n",
       "        vertical-align: top;\n",
       "    }\n",
       "\n",
       "    .dataframe thead th {\n",
       "        text-align: right;\n",
       "    }\n",
       "</style>\n",
       "<table border=\"1\" class=\"dataframe\">\n",
       "  <thead>\n",
       "    <tr style=\"text-align: right;\">\n",
       "      <th></th>\n",
       "      <th>Asset1</th>\n",
       "      <th>Asset2</th>\n",
       "      <th>Asset3</th>\n",
       "      <th>Asset4</th>\n",
       "      <th>Asset5</th>\n",
       "      <th>Return</th>\n",
       "    </tr>\n",
       "    <tr>\n",
       "      <th>date</th>\n",
       "      <th></th>\n",
       "      <th></th>\n",
       "      <th></th>\n",
       "      <th></th>\n",
       "      <th></th>\n",
       "      <th></th>\n",
       "    </tr>\n",
       "  </thead>\n",
       "  <tbody>\n",
       "    <tr>\n",
       "      <th>2019-01-02</th>\n",
       "      <td>0.225</td>\n",
       "      <td>0.116</td>\n",
       "      <td>0.265</td>\n",
       "      <td>0.230</td>\n",
       "      <td>0.163</td>\n",
       "      <td>100.000</td>\n",
       "    </tr>\n",
       "    <tr>\n",
       "      <th>2019-01-03</th>\n",
       "      <td>-0.062</td>\n",
       "      <td>0.243</td>\n",
       "      <td>0.675</td>\n",
       "      <td>-0.026</td>\n",
       "      <td>0.314</td>\n",
       "      <td>101.144</td>\n",
       "    </tr>\n",
       "    <tr>\n",
       "      <th>2019-01-04</th>\n",
       "      <td>-0.034</td>\n",
       "      <td>0.147</td>\n",
       "      <td>-0.193</td>\n",
       "      <td>0.043</td>\n",
       "      <td>0.241</td>\n",
       "      <td>101.348</td>\n",
       "    </tr>\n",
       "    <tr>\n",
       "      <th>2019-01-07</th>\n",
       "      <td>-0.034</td>\n",
       "      <td>0.012</td>\n",
       "      <td>0.184</td>\n",
       "      <td>0.083</td>\n",
       "      <td>-0.003</td>\n",
       "      <td>101.590</td>\n",
       "    </tr>\n",
       "    <tr>\n",
       "      <th>2019-01-08</th>\n",
       "      <td>0.045</td>\n",
       "      <td>0.149</td>\n",
       "      <td>0.061</td>\n",
       "      <td>0.095</td>\n",
       "      <td>0.228</td>\n",
       "      <td>102.168</td>\n",
       "    </tr>\n",
       "  </tbody>\n",
       "</table>\n",
       "</div>"
      ],
      "text/plain": [
       "            Asset1  Asset2  Asset3  Asset4  Asset5   Return\n",
       "date                                                       \n",
       "2019-01-02   0.225   0.116   0.265   0.230   0.163  100.000\n",
       "2019-01-03  -0.062   0.243   0.675  -0.026   0.314  101.144\n",
       "2019-01-04  -0.034   0.147  -0.193   0.043   0.241  101.348\n",
       "2019-01-07  -0.034   0.012   0.184   0.083  -0.003  101.590\n",
       "2019-01-08   0.045   0.149   0.061   0.095   0.228  102.168"
      ]
     },
     "execution_count": 369,
     "metadata": {},
     "output_type": "execute_result"
    }
   ],
   "source": [
    "df5.head().round(3)"
   ]
  },
  {
   "cell_type": "code",
   "execution_count": 452,
   "id": "618c5d79-145f-46b9-9c3b-73b92e0e49cb",
   "metadata": {},
   "outputs": [
    {
     "data": {
      "text/plain": [
       "count    783.00\n",
       "mean     115.79\n",
       "std        9.50\n",
       "min       94.42\n",
       "25%      109.13\n",
       "50%      112.77\n",
       "75%      123.41\n",
       "max      134.52\n",
       "Name: Return, dtype: float64"
      ]
     },
     "execution_count": 452,
     "metadata": {},
     "output_type": "execute_result"
    }
   ],
   "source": [
    "df5['Return'].describe().round(2)"
   ]
  },
  {
   "cell_type": "markdown",
   "id": "2459387c-28fb-4a4c-b6e7-1964d161b231",
   "metadata": {},
   "source": [
    "12.02 | Historical Cumulative Return Visualization"
   ]
  },
  {
   "cell_type": "code",
   "execution_count": 382,
   "id": "ee2d8ba7-5850-4e18-9040-b7822bba966b",
   "metadata": {},
   "outputs": [
    {
     "data": {
      "image/png": "[encoded data removed]",
      "text/plain": [
       "<Figure size 1000x600 with 1 Axes>"
      ]
     },
     "metadata": {},
     "output_type": "display_data"
    }
   ],
   "source": [
    "plt.figure(figsize=(10,6))\n",
    "sns.lineplot(data=df5.Return)\n",
    "plt.title('Historical Cumulative Return', fontsize=16)\n",
    "plt.xlabel('Quarter')\n",
    "plt.ylabel('Portfolio Relative Value (%)')\n",
    "plt.gca().xaxis.set_major_locator(mdates.MonthLocator(bymonth=[1, 4, 7, 10]))\n",
    "plt.xticks(rotation=45)\n",
    "plt.grid(True)"
   ]
  },
  {
   "cell_type": "markdown",
   "id": "1811c987-2b69-48cf-bc98-66bb68dc8102",
   "metadata": {},
   "source": [
    "The portfolio's cumulative returns show a generally positive trend over time, with the value fluctuating between 94.42% and 134.52% of its initial value. On average, the portfolio has grown by 115.79%, with a standard deviation of 9.5%, indicating moderate volatility in its performance.\n",
    "\n",
    "The first quarter of 2020 saw a notable downturn, as the portfolio dropped from 115% to 95% of its initial value, reflecting the market turbulence during that period. However, by the start of the third quarter, the portfolio had regained some of its losses, reaching 110% of the initial value. This upward momentum continued throughout the rest of the year, with the portfolio finishing 2021 at 135% of its starting value.\n",
    "\n",
    "This performance indicates resilience in the portfolio, with a capacity for recovery following significant drawdowns. Despite the volatility, the portfolio managed to deliver consistent growth, particularly in the second half of 2020 and into 2021, resulting in a strong overall return by the end of the analysis period."
   ]
  },
  {
   "cell_type": "markdown",
   "id": "4d5765ba-62d2-4db7-8b40-f73e18da2b9e",
   "metadata": {},
   "source": [
    "## 13 | Annualized Return"
   ]
  },
  {
   "cell_type": "markdown",
   "id": "3d4db64e-a262-443f-9bca-e29dc42d3f10",
   "metadata": {},
   "source": [
    "---\n",
    "\n",
    "The annualized return is a way to express an investment's return as if it had been earned at a consistent rate over a year, regardless of the actual period it was held. It is useful for comparing different investments over varying time periods by standardizing returns into an annual figure. Essentially, it takes the total growth of the investment and spreads it over a year, providing a clearer picture of its performance on an annual basis. The formula for annualized return is:\n",
    "\n",
    "$$\n",
    "\\text{Annualized Return} = \\left( \\frac{{\\text{Final Value}}}{{\\text{Initial Value}}} \\right)^{\\frac{1}{T}} - 1\n",
    "$$\n",
    "\n",
    "where \\(T\\) is the number of years. This allows investors to better assess the potential long-term performance of an investment.\n",
    "\n",
    "---"
   ]
  },
  {
   "cell_type": "code",
   "execution_count": 391,
   "id": "685fafd4-3c32-404e-9f5e-9c762f6babbc",
   "metadata": {},
   "outputs": [
    {
     "name": "stdout",
     "output_type": "stream",
     "text": [
      "The Annualized Return for this portfolio is: 10.336 %\n"
     ]
    }
   ],
   "source": [
    "ann_ret = (((df5['Return'][-1] / df5['Return'][0]) ** (1/3) - 1) * 100).round(3)\n",
    "print(f'The Annualized Return for this portfolio is: {ann_ret} %')"
   ]
  },
  {
   "cell_type": "markdown",
   "id": "7ccf5725-b1a7-41bd-9075-307eb398ac24",
   "metadata": {},
   "source": [
    "Given that this is a balanced portfolio, where riskier assets (2, 3, and 5) are balanced with more stable ones (1 and 4), a 10.336% annualized return is a strong outcome. Balanced portfolios typically aim to reduce overall volatility while still achieving respectable returns by combining both high-risk, high-return assets with safer, more stable investments.\n",
    "\n",
    "This return could be a sign of successful asset allocation, considering that a balanced portfolio seeks to mitigate losses during down markets (as seen in the strategical shift to Asset 1 in 2020) while still capturing growth from riskier assets (bet on asset 5 of same period). Therefore, the annualized return of 10.336% is indeed a good performance for a balanced portfolio, especially when compared to market averages and traditional asset class returns."
   ]
  },
  {
   "cell_type": "markdown",
   "id": "a2a62874-e1b2-4899-8a6a-270d5669c592",
   "metadata": {},
   "source": [
    "## 14 | Annualized Volatily"
   ]
  },
  {
   "cell_type": "markdown",
   "id": "28cfdbbe-7a0d-415b-8be7-b3a0f1a69a1d",
   "metadata": {},
   "source": [
    "---\n",
    "\n",
    "Annualized volatility is a measure of the risk or variability of an asset's returns over the course of a year. It reflects how much the returns of an investment can deviate from its average return. Higher volatility indicates higher risk because the asset’s value can experience significant fluctuations, while lower volatility indicates more stability.\n",
    "\n",
    "The formula for calculating annualized volatility is:\n",
    "\n",
    "$$\n",
    "\\text{Annualized Volatility} = \\sigma \\times \\sqrt{252}\n",
    "$$\n",
    "\n",
    "Where:\n",
    "\n",
    "- $\\sigma$ is the standard deviation of daily returns.\n",
    "- 252 represents the typical number of trading days in a year.\n",
    "\n",
    "This formula assumes returns follow a normal distribution and that volatility is consistent throughout the year.\n",
    "\n",
    "---"
   ]
  },
  {
   "cell_type": "code",
   "execution_count": 453,
   "id": "c1783834-0ff0-40ad-b9b6-3b3259616cf6",
   "metadata": {},
   "outputs": [
    {
     "data": {
      "text/plain": [
       "Asset1     4.775224\n",
       "Asset2    19.020983\n",
       "Asset3    18.528283\n",
       "Asset4     5.294505\n",
       "Asset5    14.967706\n",
       "dtype: float64"
      ]
     },
     "execution_count": 453,
     "metadata": {},
     "output_type": "execute_result"
    }
   ],
   "source": [
    "df3.std() * np.sqrt(252) # Relative Annual Volatility for each asset"
   ]
  },
  {
   "cell_type": "code",
   "execution_count": 428,
   "id": "dac04f8e-5d0d-4cae-b5ee-bcb13929f65d",
   "metadata": {},
   "outputs": [
    {
     "name": "stdout",
     "output_type": "stream",
     "text": [
      "The Annualized Volatility for this portfolio is: 9.93 %\n"
     ]
    }
   ],
   "source": [
    "# I wasn't sure on how to calculate the whole volatility for the portfolio\n",
    "# Std of df5['Return'] times sqrt(252) was resulting in a ridiculous value of 150%, which didn't sound about right\n",
    "# I decided to calculate a mean for the sum std of assets returns and potentiate that to sqrt of the annual period\n",
    "# The result is satisfactorily closer to the std of the cumulative return in the previous analysis\n",
    "\n",
    "ann_vol = ((df3.sum(axis=1) / 5).std() * np.sqrt(252)).round(3)\n",
    "print(f'The Annualized Volatility for this portfolio is: {ann_vol} %')"
   ]
  },
  {
   "cell_type": "markdown",
   "id": "79d63eb0-cde7-4f2c-a2cb-b3de465af3d0",
   "metadata": {},
   "source": [
    "A 9.93% Annualized Volatility reflects a strategy where risk is spread across assets with differing volatility profiles. This portfolio appears to balance risk and reward, with a moderate risk level that could be suitable for investors who are looking for growth but still want to limit their exposure to extreme fluctuations. If this volatility fits your risk tolerance and investment objectives, it seems like a well-structured portfolio."
   ]
  },
  {
   "cell_type": "markdown",
   "id": "70af420f-cb70-4b6a-bb99-a84496b5e38f",
   "metadata": {},
   "source": [
    "## 15 | Grouped Asset Weights"
   ]
  },
  {
   "cell_type": "markdown",
   "id": "2d41be03-af48-48f0-a9f2-efdbbb512e94",
   "metadata": {},
   "source": [
    "The task is to show how the total weight of each asset family changes over time. This can be achieved by summing each asset weight into their respective families, leading to the total weight for that family."
   ]
  },
  {
   "cell_type": "markdown",
   "id": "60a0e4db-7ffe-453a-bba5-5ee7dee5e259",
   "metadata": {},
   "source": [
    "15.01 | New Dataframe Composition"
   ]
  },
  {
   "cell_type": "code",
   "execution_count": 433,
   "id": "95bb6766-c56d-4937-a0b1-9c5ba4c93792",
   "metadata": {},
   "outputs": [
    {
     "data": {
      "text/html": [
       "<div>\n",
       "<style scoped>\n",
       "    .dataframe tbody tr th:only-of-type {\n",
       "        vertical-align: middle;\n",
       "    }\n",
       "\n",
       "    .dataframe tbody tr th {\n",
       "        vertical-align: top;\n",
       "    }\n",
       "\n",
       "    .dataframe thead th {\n",
       "        text-align: right;\n",
       "    }\n",
       "</style>\n",
       "<table border=\"1\" class=\"dataframe\">\n",
       "  <thead>\n",
       "    <tr style=\"text-align: right;\">\n",
       "      <th></th>\n",
       "      <th>Name</th>\n",
       "      <th>Family</th>\n",
       "    </tr>\n",
       "  </thead>\n",
       "  <tbody>\n",
       "    <tr>\n",
       "      <th>0</th>\n",
       "      <td>Asset1</td>\n",
       "      <td>Fixed Income</td>\n",
       "    </tr>\n",
       "    <tr>\n",
       "      <th>1</th>\n",
       "      <td>Asset2</td>\n",
       "      <td>Fixed Income</td>\n",
       "    </tr>\n",
       "    <tr>\n",
       "      <th>2</th>\n",
       "      <td>Asset3</td>\n",
       "      <td>Equity</td>\n",
       "    </tr>\n",
       "    <tr>\n",
       "      <th>3</th>\n",
       "      <td>Asset4</td>\n",
       "      <td>Equity</td>\n",
       "    </tr>\n",
       "    <tr>\n",
       "      <th>4</th>\n",
       "      <td>Asset5</td>\n",
       "      <td>Alternative</td>\n",
       "    </tr>\n",
       "  </tbody>\n",
       "</table>\n",
       "</div>"
      ],
      "text/plain": [
       "     Name        Family\n",
       "0  Asset1  Fixed Income\n",
       "1  Asset2  Fixed Income\n",
       "2  Asset3        Equity\n",
       "3  Asset4        Equity\n",
       "4  Asset5   Alternative"
      ]
     },
     "execution_count": 433,
     "metadata": {},
     "output_type": "execute_result"
    }
   ],
   "source": [
    "info_draft"
   ]
  },
  {
   "cell_type": "code",
   "execution_count": 440,
   "id": "53af882c-01c3-4e10-ba46-6d4e4239fefa",
   "metadata": {},
   "outputs": [],
   "source": [
    "df6 = weights.copy()"
   ]
  },
  {
   "cell_type": "code",
   "execution_count": 441,
   "id": "0dcfaa9c-19e4-4739-9545-fdb047031dc5",
   "metadata": {},
   "outputs": [],
   "source": [
    "df6['Fixed Income'] = weights['Asset1'] + weights['Asset2']\n",
    "df6['Equity'] = weights['Asset3'] + weights['Asset4']\n",
    "df6['Alternative'] = weights['Asset5']\n",
    "df6 = df6.drop(columns=['Asset1', 'Asset2', 'Asset3', 'Asset4', 'Asset5'])"
   ]
  },
  {
   "cell_type": "code",
   "execution_count": 444,
   "id": "c4ff9e57-3380-43b7-b445-6fca5faaac5e",
   "metadata": {},
   "outputs": [
    {
     "data": {
      "text/html": [
       "<div>\n",
       "<style scoped>\n",
       "    .dataframe tbody tr th:only-of-type {\n",
       "        vertical-align: middle;\n",
       "    }\n",
       "\n",
       "    .dataframe tbody tr th {\n",
       "        vertical-align: top;\n",
       "    }\n",
       "\n",
       "    .dataframe thead th {\n",
       "        text-align: right;\n",
       "    }\n",
       "</style>\n",
       "<table border=\"1\" class=\"dataframe\">\n",
       "  <thead>\n",
       "    <tr style=\"text-align: right;\">\n",
       "      <th></th>\n",
       "      <th>Fixed Income</th>\n",
       "      <th>Equity</th>\n",
       "      <th>Alternative</th>\n",
       "    </tr>\n",
       "    <tr>\n",
       "      <th>date</th>\n",
       "      <th></th>\n",
       "      <th></th>\n",
       "      <th></th>\n",
       "    </tr>\n",
       "  </thead>\n",
       "  <tbody>\n",
       "    <tr>\n",
       "      <th>2019-01-02</th>\n",
       "      <td>0.342</td>\n",
       "      <td>0.495</td>\n",
       "      <td>0.163</td>\n",
       "    </tr>\n",
       "    <tr>\n",
       "      <th>2019-01-03</th>\n",
       "      <td>0.342</td>\n",
       "      <td>0.495</td>\n",
       "      <td>0.163</td>\n",
       "    </tr>\n",
       "    <tr>\n",
       "      <th>2019-01-04</th>\n",
       "      <td>0.342</td>\n",
       "      <td>0.495</td>\n",
       "      <td>0.163</td>\n",
       "    </tr>\n",
       "    <tr>\n",
       "      <th>2019-01-07</th>\n",
       "      <td>0.342</td>\n",
       "      <td>0.495</td>\n",
       "      <td>0.163</td>\n",
       "    </tr>\n",
       "    <tr>\n",
       "      <th>2019-01-08</th>\n",
       "      <td>0.342</td>\n",
       "      <td>0.495</td>\n",
       "      <td>0.163</td>\n",
       "    </tr>\n",
       "  </tbody>\n",
       "</table>\n",
       "</div>"
      ],
      "text/plain": [
       "            Fixed Income  Equity  Alternative\n",
       "date                                         \n",
       "2019-01-02         0.342   0.495        0.163\n",
       "2019-01-03         0.342   0.495        0.163\n",
       "2019-01-04         0.342   0.495        0.163\n",
       "2019-01-07         0.342   0.495        0.163\n",
       "2019-01-08         0.342   0.495        0.163"
      ]
     },
     "execution_count": 444,
     "metadata": {},
     "output_type": "execute_result"
    }
   ],
   "source": [
    "df6.head().round(3)"
   ]
  },
  {
   "cell_type": "markdown",
   "id": "ce0953b2-ee20-4b32-8781-0d0a1d14b4b7",
   "metadata": {},
   "source": [
    "15.02 | Grouped Asset Weights Visualization"
   ]
  },
  {
   "cell_type": "code",
   "execution_count": 470,
   "id": "6de6c85b-1e93-4280-902b-909dd194f8f0",
   "metadata": {},
   "outputs": [
    {
     "data": {
      "image/png": "[encoded data removed]",
      "text/plain": [
       "<Figure size 1000x600 with 1 Axes>"
      ]
     },
     "metadata": {},
     "output_type": "display_data"
    }
   ],
   "source": [
    "plt.figure(figsize=(10,6))\n",
    "plt.stackplot(df6.index, df6['Fixed Income'], df6['Equity'], df6['Alternative'], \n",
    "              labels=['Fixed Income', 'Equity', 'Alternative'], alpha=0.6)\n",
    "\n",
    "plt.title(\"Grouped Asset Weights\", fontsize=16)\n",
    "plt.xlabel(\"Year\")\n",
    "plt.ylabel(\"Weight\")\n",
    "plt.legend(loc='upper right', bbox_to_anchor=(1, 1), title='Family')\n",
    "\n",
    "plt.grid(True, which='both', axis='x', linestyle='-', color='black', linewidth=1.5)\n",
    "\n",
    "plt.gca().xaxis.set_major_locator(mdates.YearLocator())\n",
    "plt.tight_layout()\n",
    "plt.show()"
   ]
  },
  {
   "cell_type": "markdown",
   "id": "083ce3dc-09c2-48f4-9526-ef2393cc8656",
   "metadata": {},
   "source": [
    "In 2019, the portfolio had a bigger weight on equities, reflecting a more aggressive investment strategy. However, in 2020, likely driven by the disruption caused by the pandemic, there was a strategic shift towards fixed income and alternative assets. This move seemed to be a response to the heightened uncertainty in the markets, with fixed income offering more stability and alternatives potentially serving as a hedge. The shift was likely aimed at balancing out the portfolio by reducing exposure to higher-risk assets, like equities, during a period of high market volatility. By 2021, with the resilience of the markets following the initial pandemic shock, the portfolio gradually returned to its original asset allocation, reflecting a recovery and confidence in the long-term outlook."
   ]
  },
  {
   "cell_type": "markdown",
   "id": "35e66194-2d6c-4cac-96c4-bff0a7a1101f",
   "metadata": {},
   "source": [
    "<h1 style=\"color: #FF8C00;\">16 | Portfolio Analysis Conclusion</h1>"
   ]
  },
  {
   "cell_type": "markdown",
   "id": "66026ab8-f968-4a7f-9546-1d35aef3bd3d",
   "metadata": {},
   "source": [
    "---\n",
    "\n",
    "The portfolio displayed a strong performance over the analyzed period, with an overall positive trend and an annualized return of 10.336%. This result reflects a well-balanced mix of assets, combining stability and growth potential. The portfolio's volatility, measured at 9.93%, indicates a moderate risk profile, with a careful balance of safer, more stable assets alongside riskier, high-reward options.\n",
    "\n",
    "In terms of asset performance, Asset 2 (with the highest volatility of 19.02%) and Asset 3 (18.53%) showed significant growth potential but with greater fluctuations, which is typical of assets in high-growth sectors such as technology and healthcare. These assets performed well in the recovery phase post-2020, with Asset 2 surging to 180% of its initial value. However, their volatility also suggests higher risk, making them better suited for investors with a higher risk tolerance seeking capital appreciation.\n",
    "\n",
    "On the other hand, Assets 1 and 4, with lower volatility (4.78% and 5.29%, respectively), provided the stability the portfolio needed during times of market stress, particularly in 2020. Asset 1, in particular, was a key asset during the pandemic, providing a stable base and limiting potential losses when the portfolio value dropped significantly due to the pandemic-induced market crash.\n",
    "\n",
    "Asset 5, though highly volatile, showed resilience, recovering sharply after the pandemic hit, ultimately growing to 140%. This asset's performance suggests that, while risky, it is a potential high-reward component for a portfolio, especially during market rebounds following crises.\n",
    "\n",
    "Strategic asset allocation was particularly noteworthy in 2020. As the pandemic spread and market volatility surged, there was a notable shift toward fixed income and alternatives, such as Asset 1 and Asset 5. This move helped shield the portfolio from the extreme market downturn in the first quarter of 2020, with the portfolio value falling from 115% to 95%. By the end of the year, the portfolio had regained its losses and ended 2020 at 110%. The return to a more aggressive allocation towards equities in 2021 (with a stronger focus on Asset 2) reflects confidence in the market recovery post-pandemic.\n",
    "\n",
    "Looking at the portfolio's cumulative returns, which fluctuated between 94% and 135%, we can see the portfolio's resilience in the face of uncertainty. Despite the turbulence during the first quarter of 2020, the portfolio’s recovery was swift, achieving a 35% growth by the end of 2021. The decision to shift allocations in response to market conditions, such as favoring fixed income during the peak of the pandemic, reflects a dynamic, well-thought-out strategy that aimed to both protect against losses and seize growth opportunities.\n",
    "\n",
    "In conclusion, the portfolio demonstrated a well-executed balancing act, mitigating risk with stable assets while capturing upside potential from higher-growth assets. This resulted in strong overall returns with moderate volatility, making it a solid choice for investors seeking a steady, growth-oriented strategy during periods of market upheaval, such as the Covid-19 pandemic. The thoughtful adjustments made in 2020 helped to minimize risk during uncertain times, and the return to a more aggressive stance in 2021 maximized the gains as the market recovered."
   ]
  },
  {
   "cell_type": "code",
   "execution_count": 472,
   "id": "a81d6535-c18a-4971-a83d-8257c7c2df15",
   "metadata": {},
   "outputs": [
    {
     "data": {
      "text/html": [
       "<div>\n",
       "<style scoped>\n",
       "    .dataframe tbody tr th:only-of-type {\n",
       "        vertical-align: middle;\n",
       "    }\n",
       "\n",
       "    .dataframe tbody tr th {\n",
       "        vertical-align: top;\n",
       "    }\n",
       "\n",
       "    .dataframe thead th {\n",
       "        text-align: right;\n",
       "    }\n",
       "</style>\n",
       "<table border=\"1\" class=\"dataframe\">\n",
       "  <thead>\n",
       "    <tr style=\"text-align: right;\">\n",
       "      <th></th>\n",
       "      <th>Asset1</th>\n",
       "      <th>Asset2</th>\n",
       "      <th>Asset3</th>\n",
       "      <th>Asset4</th>\n",
       "      <th>Asset5</th>\n",
       "    </tr>\n",
       "  </thead>\n",
       "  <tbody>\n",
       "    <tr>\n",
       "      <th>count</th>\n",
       "      <td>783.000000</td>\n",
       "      <td>783.000000</td>\n",
       "      <td>783.000000</td>\n",
       "      <td>783.000000</td>\n",
       "      <td>783.000000</td>\n",
       "    </tr>\n",
       "    <tr>\n",
       "      <th>mean</th>\n",
       "      <td>107.530311</td>\n",
       "      <td>136.069058</td>\n",
       "      <td>122.648284</td>\n",
       "      <td>108.058739</td>\n",
       "      <td>106.311010</td>\n",
       "    </tr>\n",
       "    <tr>\n",
       "      <th>std</th>\n",
       "      <td>2.961107</td>\n",
       "      <td>24.326566</td>\n",
       "      <td>12.830913</td>\n",
       "      <td>4.429221</td>\n",
       "      <td>16.050509</td>\n",
       "    </tr>\n",
       "    <tr>\n",
       "      <th>min</th>\n",
       "      <td>99.218176</td>\n",
       "      <td>86.828919</td>\n",
       "      <td>89.278752</td>\n",
       "      <td>90.050507</td>\n",
       "      <td>73.373944</td>\n",
       "    </tr>\n",
       "    <tr>\n",
       "      <th>25%</th>\n",
       "      <td>106.623904</td>\n",
       "      <td>115.900143</td>\n",
       "      <td>114.171540</td>\n",
       "      <td>105.222329</td>\n",
       "      <td>96.816663</td>\n",
       "    </tr>\n",
       "    <tr>\n",
       "      <th>50%</th>\n",
       "      <td>108.254503</td>\n",
       "      <td>128.686471</td>\n",
       "      <td>119.493177</td>\n",
       "      <td>107.846697</td>\n",
       "      <td>103.615642</td>\n",
       "    </tr>\n",
       "    <tr>\n",
       "      <th>75%</th>\n",
       "      <td>109.442357</td>\n",
       "      <td>156.317108</td>\n",
       "      <td>131.345029</td>\n",
       "      <td>112.273463</td>\n",
       "      <td>116.692867</td>\n",
       "    </tr>\n",
       "    <tr>\n",
       "      <th>max</th>\n",
       "      <td>111.921731</td>\n",
       "      <td>187.294202</td>\n",
       "      <td>152.514620</td>\n",
       "      <td>114.122074</td>\n",
       "      <td>139.614856</td>\n",
       "    </tr>\n",
       "  </tbody>\n",
       "</table>\n",
       "</div>"
      ],
      "text/plain": [
       "           Asset1      Asset2      Asset3      Asset4      Asset5\n",
       "count  783.000000  783.000000  783.000000  783.000000  783.000000\n",
       "mean   107.530311  136.069058  122.648284  108.058739  106.311010\n",
       "std      2.961107   24.326566   12.830913    4.429221   16.050509\n",
       "min     99.218176   86.828919   89.278752   90.050507   73.373944\n",
       "25%    106.623904  115.900143  114.171540  105.222329   96.816663\n",
       "50%    108.254503  128.686471  119.493177  107.846697  103.615642\n",
       "75%    109.442357  156.317108  131.345029  112.273463  116.692867\n",
       "max    111.921731  187.294202  152.514620  114.122074  139.614856"
      ]
     },
     "execution_count": 472,
     "metadata": {},
     "output_type": "execute_result"
    }
   ],
   "source": [
    "df2.describe()"
   ]
  },
  {
   "cell_type": "code",
   "execution_count": null,
   "id": "fbbff1b9-a13b-4ef8-b0f9-22a2fb26808c",
   "metadata": {},
   "outputs": [],
   "source": []
  }
 ],
 "metadata": {
  "kernelspec": {
   "display_name": "Python 3 (ipykernel)",
   "language": "python",
   "name": "python3"
  },
  "language_info": {
   "codemirror_mode": {
    "name": "ipython",
    "version": 3
   },
   "file_extension": ".py",
   "mimetype": "text/x-python",
   "name": "python",
   "nbconvert_exporter": "python",
   "pygments_lexer": "ipython3",
   "version": "3.12.4"
  }
 },
 "nbformat": 4,
 "nbformat_minor": 5
}
